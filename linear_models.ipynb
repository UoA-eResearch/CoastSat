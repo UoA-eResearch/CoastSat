{
 "cells": [
  {
   "cell_type": "code",
   "execution_count": 1,
   "metadata": {
    "execution": {
     "iopub.execute_input": "2025-08-31T13:25:36.451948Z",
     "iopub.status.busy": "2025-08-31T13:25:36.451397Z",
     "iopub.status.idle": "2025-08-31T13:25:38.543773Z",
     "shell.execute_reply": "2025-08-31T13:25:38.542395Z"
    }
   },
   "outputs": [
    {
     "data": {
      "text/html": [
       "<pre>✔️ 1.99 s (2025-09-01T01:25:36/2025-09-01T01:25:38)</pre>"
      ],
      "text/plain": [
       "<IPython.core.display.HTML object>"
      ]
     },
     "metadata": {},
     "output_type": "display_data"
    }
   ],
   "source": [
    "%reload_ext autotime\n",
    "import geopandas as gpd\n",
    "import pandas as pd\n",
    "from glob import glob\n",
    "from sklearn.linear_model import LinearRegression\n",
    "from tqdm.auto import tqdm\n",
    "from tqdm.contrib.concurrent import process_map\n",
    "from sklearn.metrics import mean_squared_error, r2_score, mean_absolute_error, root_mean_squared_error\n",
    "from coastsat import SDS_transects\n",
    "pd.options.plotting.backend = \"plotly\""
   ]
  },
  {
   "cell_type": "code",
   "execution_count": 2,
   "metadata": {
    "execution": {
     "iopub.execute_input": "2025-08-31T13:25:38.546904Z",
     "iopub.status.busy": "2025-08-31T13:25:38.546667Z",
     "iopub.status.idle": "2025-08-31T13:25:42.717249Z",
     "shell.execute_reply": "2025-08-31T13:25:42.715905Z"
    }
   },
   "outputs": [
    {
     "data": {
      "text/html": [
       "<pre>✔️ 4.15 s (2025-09-01T01:25:38/2025-09-01T01:25:42)</pre>"
      ],
      "text/plain": [
       "<IPython.core.display.HTML object>"
      ]
     },
     "metadata": {},
     "output_type": "display_data"
    },
    {
     "data": {
      "text/html": [
       "<div>\n",
       "<style scoped>\n",
       "    .dataframe tbody tr th:only-of-type {\n",
       "        vertical-align: middle;\n",
       "    }\n",
       "\n",
       "    .dataframe tbody tr th {\n",
       "        vertical-align: top;\n",
       "    }\n",
       "\n",
       "    .dataframe thead th {\n",
       "        text-align: right;\n",
       "    }\n",
       "</style>\n",
       "<table border=\"1\" class=\"dataframe\">\n",
       "  <thead>\n",
       "    <tr style=\"text-align: right;\">\n",
       "      <th></th>\n",
       "      <th>site_id</th>\n",
       "      <th>orientation</th>\n",
       "      <th>along_dist</th>\n",
       "      <th>along_dist_norm</th>\n",
       "      <th>beach_slope</th>\n",
       "      <th>cil</th>\n",
       "      <th>ciu</th>\n",
       "      <th>trend</th>\n",
       "      <th>n_points</th>\n",
       "      <th>n_points_nonan</th>\n",
       "      <th>r2_score</th>\n",
       "      <th>mae</th>\n",
       "      <th>mse</th>\n",
       "      <th>rmse</th>\n",
       "      <th>intercept</th>\n",
       "      <th>ERODIBILITY</th>\n",
       "      <th>geometry</th>\n",
       "    </tr>\n",
       "    <tr>\n",
       "      <th>id</th>\n",
       "      <th></th>\n",
       "      <th></th>\n",
       "      <th></th>\n",
       "      <th></th>\n",
       "      <th></th>\n",
       "      <th></th>\n",
       "      <th></th>\n",
       "      <th></th>\n",
       "      <th></th>\n",
       "      <th></th>\n",
       "      <th></th>\n",
       "      <th></th>\n",
       "      <th></th>\n",
       "      <th></th>\n",
       "      <th></th>\n",
       "      <th></th>\n",
       "      <th></th>\n",
       "    </tr>\n",
       "  </thead>\n",
       "  <tbody>\n",
       "    <tr>\n",
       "      <th>aus0001-0000</th>\n",
       "      <td>aus0001</td>\n",
       "      <td>104.347648</td>\n",
       "      <td>0.000000</td>\n",
       "      <td>0.000000</td>\n",
       "      <td>0.085</td>\n",
       "      <td>0.0545</td>\n",
       "      <td>0.2000</td>\n",
       "      <td>-1.441081</td>\n",
       "      <td>767.0</td>\n",
       "      <td>428.0</td>\n",
       "      <td>0.168420</td>\n",
       "      <td>28.102591</td>\n",
       "      <td>1263.560863</td>\n",
       "      <td>35.546601</td>\n",
       "      <td>179.085729</td>\n",
       "      <td>None</td>\n",
       "      <td>LINESTRING (153.26555 -24.7007, 153.26938 -24....</td>\n",
       "    </tr>\n",
       "    <tr>\n",
       "      <th>aus0001-0001</th>\n",
       "      <td>aus0001</td>\n",
       "      <td>93.495734</td>\n",
       "      <td>98.408334</td>\n",
       "      <td>0.002935</td>\n",
       "      <td>0.050</td>\n",
       "      <td>0.0387</td>\n",
       "      <td>0.0640</td>\n",
       "      <td>-1.037105</td>\n",
       "      <td>767.0</td>\n",
       "      <td>569.0</td>\n",
       "      <td>0.097874</td>\n",
       "      <td>25.419324</td>\n",
       "      <td>1033.770813</td>\n",
       "      <td>32.152306</td>\n",
       "      <td>212.247788</td>\n",
       "      <td>None</td>\n",
       "      <td>LINESTRING (153.26525 -24.7019, 153.2692 -24.7...</td>\n",
       "    </tr>\n",
       "    <tr>\n",
       "      <th>aus0001-0002</th>\n",
       "      <td>aus0001</td>\n",
       "      <td>82.069341</td>\n",
       "      <td>198.408334</td>\n",
       "      <td>0.005918</td>\n",
       "      <td>0.050</td>\n",
       "      <td>0.0428</td>\n",
       "      <td>0.0647</td>\n",
       "      <td>-0.680019</td>\n",
       "      <td>767.0</td>\n",
       "      <td>588.0</td>\n",
       "      <td>0.053927</td>\n",
       "      <td>22.632907</td>\n",
       "      <td>838.007507</td>\n",
       "      <td>28.948359</td>\n",
       "      <td>205.106151</td>\n",
       "      <td>None</td>\n",
       "      <td>LINESTRING (153.26539 -24.70316, 153.26931 -24...</td>\n",
       "    </tr>\n",
       "    <tr>\n",
       "      <th>aus0001-0003</th>\n",
       "      <td>aus0001</td>\n",
       "      <td>81.192757</td>\n",
       "      <td>298.402523</td>\n",
       "      <td>0.008900</td>\n",
       "      <td>0.055</td>\n",
       "      <td>0.0480</td>\n",
       "      <td>0.0659</td>\n",
       "      <td>-0.405198</td>\n",
       "      <td>767.0</td>\n",
       "      <td>598.0</td>\n",
       "      <td>0.023412</td>\n",
       "      <td>20.749758</td>\n",
       "      <td>698.653187</td>\n",
       "      <td>26.432048</td>\n",
       "      <td>191.745881</td>\n",
       "      <td>None</td>\n",
       "      <td>LINESTRING (153.26555 -24.70408, 153.26945 -24...</td>\n",
       "    </tr>\n",
       "    <tr>\n",
       "      <th>aus0001-0004</th>\n",
       "      <td>aus0001</td>\n",
       "      <td>81.065473</td>\n",
       "      <td>398.402523</td>\n",
       "      <td>0.011882</td>\n",
       "      <td>0.075</td>\n",
       "      <td>0.0614</td>\n",
       "      <td>0.0922</td>\n",
       "      <td>-0.090025</td>\n",
       "      <td>767.0</td>\n",
       "      <td>608.0</td>\n",
       "      <td>0.001277</td>\n",
       "      <td>19.889328</td>\n",
       "      <td>655.810616</td>\n",
       "      <td>25.608800</td>\n",
       "      <td>175.092121</td>\n",
       "      <td>None</td>\n",
       "      <td>LINESTRING (153.2657 -24.70497, 153.26961 -24....</td>\n",
       "    </tr>\n",
       "    <tr>\n",
       "      <th>...</th>\n",
       "      <td>...</td>\n",
       "      <td>...</td>\n",
       "      <td>...</td>\n",
       "      <td>...</td>\n",
       "      <td>...</td>\n",
       "      <td>...</td>\n",
       "      <td>...</td>\n",
       "      <td>...</td>\n",
       "      <td>...</td>\n",
       "      <td>...</td>\n",
       "      <td>...</td>\n",
       "      <td>...</td>\n",
       "      <td>...</td>\n",
       "      <td>...</td>\n",
       "      <td>...</td>\n",
       "      <td>...</td>\n",
       "      <td>...</td>\n",
       "    </tr>\n",
       "    <tr>\n",
       "      <th>ber0002-0009</th>\n",
       "      <td>ber0002</td>\n",
       "      <td>NaN</td>\n",
       "      <td>NaN</td>\n",
       "      <td>NaN</td>\n",
       "      <td>0.080</td>\n",
       "      <td>0.0638</td>\n",
       "      <td>0.1065</td>\n",
       "      <td>0.088578</td>\n",
       "      <td>223.0</td>\n",
       "      <td>192.0</td>\n",
       "      <td>0.006440</td>\n",
       "      <td>6.645872</td>\n",
       "      <td>70.165869</td>\n",
       "      <td>8.376507</td>\n",
       "      <td>128.134846</td>\n",
       "      <td>None</td>\n",
       "      <td>LINESTRING (-64.82204 32.25336, -64.82017 32.2...</td>\n",
       "    </tr>\n",
       "    <tr>\n",
       "      <th>ber0002-0010</th>\n",
       "      <td>ber0002</td>\n",
       "      <td>NaN</td>\n",
       "      <td>NaN</td>\n",
       "      <td>NaN</td>\n",
       "      <td>0.085</td>\n",
       "      <td>0.0673</td>\n",
       "      <td>0.1096</td>\n",
       "      <td>0.028300</td>\n",
       "      <td>223.0</td>\n",
       "      <td>190.0</td>\n",
       "      <td>0.000497</td>\n",
       "      <td>7.682399</td>\n",
       "      <td>92.744157</td>\n",
       "      <td>9.630377</td>\n",
       "      <td>128.837353</td>\n",
       "      <td>None</td>\n",
       "      <td>LINESTRING (-64.82143 32.25361, -64.82029 32.2...</td>\n",
       "    </tr>\n",
       "    <tr>\n",
       "      <th>ber0002-0011</th>\n",
       "      <td>ber0002</td>\n",
       "      <td>NaN</td>\n",
       "      <td>NaN</td>\n",
       "      <td>NaN</td>\n",
       "      <td>0.105</td>\n",
       "      <td>0.0797</td>\n",
       "      <td>0.1462</td>\n",
       "      <td>0.057356</td>\n",
       "      <td>223.0</td>\n",
       "      <td>187.0</td>\n",
       "      <td>0.002423</td>\n",
       "      <td>7.512558</td>\n",
       "      <td>79.234887</td>\n",
       "      <td>8.901398</td>\n",
       "      <td>129.482491</td>\n",
       "      <td>None</td>\n",
       "      <td>LINESTRING (-64.82118 32.25369, -64.82004 32.2...</td>\n",
       "    </tr>\n",
       "    <tr>\n",
       "      <th>ber0002-0012</th>\n",
       "      <td>ber0002</td>\n",
       "      <td>NaN</td>\n",
       "      <td>NaN</td>\n",
       "      <td>NaN</td>\n",
       "      <td>0.105</td>\n",
       "      <td>0.0835</td>\n",
       "      <td>0.1428</td>\n",
       "      <td>-0.010553</td>\n",
       "      <td>223.0</td>\n",
       "      <td>186.0</td>\n",
       "      <td>0.000081</td>\n",
       "      <td>7.210548</td>\n",
       "      <td>79.289497</td>\n",
       "      <td>8.904465</td>\n",
       "      <td>131.010602</td>\n",
       "      <td>None</td>\n",
       "      <td>LINESTRING (-64.82049 32.25382, -64.82022 32.2...</td>\n",
       "    </tr>\n",
       "    <tr>\n",
       "      <th>ber0002-0013</th>\n",
       "      <td>ber0002</td>\n",
       "      <td>NaN</td>\n",
       "      <td>NaN</td>\n",
       "      <td>NaN</td>\n",
       "      <td>0.055</td>\n",
       "      <td>0.0491</td>\n",
       "      <td>0.0674</td>\n",
       "      <td>0.157248</td>\n",
       "      <td>223.0</td>\n",
       "      <td>177.0</td>\n",
       "      <td>0.014649</td>\n",
       "      <td>7.547493</td>\n",
       "      <td>95.120607</td>\n",
       "      <td>9.752979</td>\n",
       "      <td>136.403294</td>\n",
       "      <td>None</td>\n",
       "      <td>LINESTRING (-64.82022 32.25384, -64.81995 32.2...</td>\n",
       "    </tr>\n",
       "  </tbody>\n",
       "</table>\n",
       "<p>147216 rows × 17 columns</p>\n",
       "</div>"
      ],
      "text/plain": [
       "              site_id  orientation  along_dist  along_dist_norm  beach_slope  \\\n",
       "id                                                                             \n",
       "aus0001-0000  aus0001   104.347648    0.000000         0.000000        0.085   \n",
       "aus0001-0001  aus0001    93.495734   98.408334         0.002935        0.050   \n",
       "aus0001-0002  aus0001    82.069341  198.408334         0.005918        0.050   \n",
       "aus0001-0003  aus0001    81.192757  298.402523         0.008900        0.055   \n",
       "aus0001-0004  aus0001    81.065473  398.402523         0.011882        0.075   \n",
       "...               ...          ...         ...              ...          ...   \n",
       "ber0002-0009  ber0002          NaN         NaN              NaN        0.080   \n",
       "ber0002-0010  ber0002          NaN         NaN              NaN        0.085   \n",
       "ber0002-0011  ber0002          NaN         NaN              NaN        0.105   \n",
       "ber0002-0012  ber0002          NaN         NaN              NaN        0.105   \n",
       "ber0002-0013  ber0002          NaN         NaN              NaN        0.055   \n",
       "\n",
       "                 cil     ciu     trend  n_points  n_points_nonan  r2_score  \\\n",
       "id                                                                           \n",
       "aus0001-0000  0.0545  0.2000 -1.441081     767.0           428.0  0.168420   \n",
       "aus0001-0001  0.0387  0.0640 -1.037105     767.0           569.0  0.097874   \n",
       "aus0001-0002  0.0428  0.0647 -0.680019     767.0           588.0  0.053927   \n",
       "aus0001-0003  0.0480  0.0659 -0.405198     767.0           598.0  0.023412   \n",
       "aus0001-0004  0.0614  0.0922 -0.090025     767.0           608.0  0.001277   \n",
       "...              ...     ...       ...       ...             ...       ...   \n",
       "ber0002-0009  0.0638  0.1065  0.088578     223.0           192.0  0.006440   \n",
       "ber0002-0010  0.0673  0.1096  0.028300     223.0           190.0  0.000497   \n",
       "ber0002-0011  0.0797  0.1462  0.057356     223.0           187.0  0.002423   \n",
       "ber0002-0012  0.0835  0.1428 -0.010553     223.0           186.0  0.000081   \n",
       "ber0002-0013  0.0491  0.0674  0.157248     223.0           177.0  0.014649   \n",
       "\n",
       "                    mae          mse       rmse   intercept ERODIBILITY  \\\n",
       "id                                                                        \n",
       "aus0001-0000  28.102591  1263.560863  35.546601  179.085729        None   \n",
       "aus0001-0001  25.419324  1033.770813  32.152306  212.247788        None   \n",
       "aus0001-0002  22.632907   838.007507  28.948359  205.106151        None   \n",
       "aus0001-0003  20.749758   698.653187  26.432048  191.745881        None   \n",
       "aus0001-0004  19.889328   655.810616  25.608800  175.092121        None   \n",
       "...                 ...          ...        ...         ...         ...   \n",
       "ber0002-0009   6.645872    70.165869   8.376507  128.134846        None   \n",
       "ber0002-0010   7.682399    92.744157   9.630377  128.837353        None   \n",
       "ber0002-0011   7.512558    79.234887   8.901398  129.482491        None   \n",
       "ber0002-0012   7.210548    79.289497   8.904465  131.010602        None   \n",
       "ber0002-0013   7.547493    95.120607   9.752979  136.403294        None   \n",
       "\n",
       "                                                       geometry  \n",
       "id                                                               \n",
       "aus0001-0000  LINESTRING (153.26555 -24.7007, 153.26938 -24....  \n",
       "aus0001-0001  LINESTRING (153.26525 -24.7019, 153.2692 -24.7...  \n",
       "aus0001-0002  LINESTRING (153.26539 -24.70316, 153.26931 -24...  \n",
       "aus0001-0003  LINESTRING (153.26555 -24.70408, 153.26945 -24...  \n",
       "aus0001-0004  LINESTRING (153.2657 -24.70497, 153.26961 -24....  \n",
       "...                                                         ...  \n",
       "ber0002-0009  LINESTRING (-64.82204 32.25336, -64.82017 32.2...  \n",
       "ber0002-0010  LINESTRING (-64.82143 32.25361, -64.82029 32.2...  \n",
       "ber0002-0011  LINESTRING (-64.82118 32.25369, -64.82004 32.2...  \n",
       "ber0002-0012  LINESTRING (-64.82049 32.25382, -64.82022 32.2...  \n",
       "ber0002-0013  LINESTRING (-64.82022 32.25384, -64.81995 32.2...  \n",
       "\n",
       "[147216 rows x 17 columns]"
      ]
     },
     "execution_count": 2,
     "metadata": {},
     "output_type": "execute_result"
    }
   ],
   "source": [
    "# Transects, origin is landward. Has beach_slope\n",
    "transects = gpd.read_file(\"transects_extended.geojson\")\n",
    "transects.set_index(\"id\", inplace=True)\n",
    "transects"
   ]
  },
  {
   "cell_type": "code",
   "execution_count": 3,
   "metadata": {
    "execution": {
     "iopub.execute_input": "2025-08-31T13:25:42.720353Z",
     "iopub.status.busy": "2025-08-31T13:25:42.719955Z",
     "iopub.status.idle": "2025-08-31T13:25:42.847350Z",
     "shell.execute_reply": "2025-08-31T13:25:42.846207Z"
    }
   },
   "outputs": [
    {
     "data": {
      "text/html": [
       "<pre>✔️ 54.6 ms (2025-09-01T01:25:42/2025-09-01T01:25:42)</pre>"
      ],
      "text/plain": [
       "<IPython.core.display.HTML object>"
      ]
     },
     "metadata": {},
     "output_type": "display_data"
    },
    {
     "data": {
      "text/plain": [
       "0       csv_run7/aus0001/time_series_tidally_corrected...\n",
       "1       csv_run7/aus0002/time_series_tidally_corrected...\n",
       "2       csv_run7/aus0003/time_series_tidally_corrected...\n",
       "3       csv_run7/aus0004/time_series_tidally_corrected...\n",
       "4       csv_run7/aus0005/time_series_tidally_corrected...\n",
       "                              ...                        \n",
       "3066    csv_run7/usa_HI_0053/time_series_tidally_corre...\n",
       "3067    csv_run7/usa_HI_0054/time_series_tidally_corre...\n",
       "3068    csv_run7/usa_HI_0055/time_series_tidally_corre...\n",
       "3069    csv_run7/usa_HI_0056/time_series_tidally_corre...\n",
       "3070    csv_run7/usa_HI_0057/time_series_tidally_corre...\n",
       "Length: 2511, dtype: object"
      ]
     },
     "execution_count": 3,
     "metadata": {},
     "output_type": "execute_result"
    }
   ],
   "source": [
    "vos_files = pd.Series(\n",
    "    sorted(glob(\"csv_run7/*/time_series_tidally_corrected.csv\"))\n",
    ")\n",
    "vos_files = vos_files[~vos_files.str.contains(\"nzd\")]\n",
    "vos_files"
   ]
  },
  {
   "cell_type": "code",
   "execution_count": 4,
   "metadata": {
    "execution": {
     "iopub.execute_input": "2025-08-31T13:25:42.850192Z",
     "iopub.status.busy": "2025-08-31T13:25:42.849963Z",
     "iopub.status.idle": "2025-08-31T13:25:42.977035Z",
     "shell.execute_reply": "2025-08-31T13:25:42.975776Z"
    }
   },
   "outputs": [
    {
     "data": {
      "text/html": [
       "<pre>✔️ 47.9 ms (2025-09-01T01:25:42/2025-09-01T01:25:42)</pre>"
      ],
      "text/plain": [
       "<IPython.core.display.HTML object>"
      ]
     },
     "metadata": {},
     "output_type": "display_data"
    },
    {
     "data": {
      "text/plain": [
       "0      data/ber0001/transect_time_series_tidally_corr...\n",
       "1      data/ber0002/transect_time_series_tidally_corr...\n",
       "2      data/nzd0001/transect_time_series_tidally_corr...\n",
       "3      data/nzd0002/transect_time_series_tidally_corr...\n",
       "4      data/nzd0003/transect_time_series_tidally_corr...\n",
       "                             ...                        \n",
       "559    data/nzd0559/transect_time_series_tidally_corr...\n",
       "560    data/nzd0560/transect_time_series_tidally_corr...\n",
       "561    data/nzd0561/transect_time_series_tidally_corr...\n",
       "562    data/nzd0562/transect_time_series_tidally_corr...\n",
       "563    data/nzd0563/transect_time_series_tidally_corr...\n",
       "Length: 564, dtype: object"
      ]
     },
     "execution_count": 4,
     "metadata": {},
     "output_type": "execute_result"
    }
   ],
   "source": [
    "my_files = pd.Series(\n",
    "    sorted(glob(\"data/*/transect_time_series_tidally_corrected.csv\"))\n",
    ")\n",
    "my_files"
   ]
  },
  {
   "cell_type": "code",
   "execution_count": 5,
   "metadata": {
    "execution": {
     "iopub.execute_input": "2025-08-31T13:25:42.979811Z",
     "iopub.status.busy": "2025-08-31T13:25:42.979613Z",
     "iopub.status.idle": "2025-08-31T13:25:43.106649Z",
     "shell.execute_reply": "2025-08-31T13:25:43.105425Z"
    }
   },
   "outputs": [
    {
     "data": {
      "text/html": [
       "<pre>✔️ 46 ms (2025-09-01T01:25:42/2025-09-01T01:25:43)</pre>"
      ],
      "text/plain": [
       "<IPython.core.display.HTML object>"
      ]
     },
     "metadata": {},
     "output_type": "display_data"
    },
    {
     "data": {
      "text/plain": [
       "0       data/sar0001/transect_time_series.csv\n",
       "1       data/sar0002/transect_time_series.csv\n",
       "2       data/sar0003/transect_time_series.csv\n",
       "3       data/sar0004/transect_time_series.csv\n",
       "4       data/sar0005/transect_time_series.csv\n",
       "                        ...                  \n",
       "2536    data/sar2537/transect_time_series.csv\n",
       "2537    data/sar2538/transect_time_series.csv\n",
       "2538    data/sar2539/transect_time_series.csv\n",
       "2539    data/sar2540/transect_time_series.csv\n",
       "2540    data/sar2541/transect_time_series.csv\n",
       "Length: 2541, dtype: object"
      ]
     },
     "execution_count": 5,
     "metadata": {},
     "output_type": "execute_result"
    }
   ],
   "source": [
    "sar_files = pd.Series(sorted(glob(\"data/sar*/transect_time_series.csv\")))\n",
    "sar_files"
   ]
  },
  {
   "cell_type": "code",
   "execution_count": 6,
   "metadata": {
    "execution": {
     "iopub.execute_input": "2025-08-31T13:25:43.109172Z",
     "iopub.status.busy": "2025-08-31T13:25:43.108963Z",
     "iopub.status.idle": "2025-08-31T13:25:43.247586Z",
     "shell.execute_reply": "2025-08-31T13:25:43.246404Z"
    }
   },
   "outputs": [
    {
     "data": {
      "text/html": [
       "<pre>✔️ 5.25 ms (2025-09-01T01:25:43/2025-09-01T01:25:43)</pre>"
      ],
      "text/plain": [
       "<IPython.core.display.HTML object>"
      ]
     },
     "metadata": {},
     "output_type": "display_data"
    },
    {
     "data": {
      "text/plain": [
       "0       csv_run7/aus0001/time_series_tidally_corrected...\n",
       "1       csv_run7/aus0002/time_series_tidally_corrected...\n",
       "2       csv_run7/aus0003/time_series_tidally_corrected...\n",
       "3       csv_run7/aus0004/time_series_tidally_corrected...\n",
       "4       csv_run7/aus0005/time_series_tidally_corrected...\n",
       "                              ...                        \n",
       "2536                data/sar2537/transect_time_series.csv\n",
       "2537                data/sar2538/transect_time_series.csv\n",
       "2538                data/sar2539/transect_time_series.csv\n",
       "2539                data/sar2540/transect_time_series.csv\n",
       "2540                data/sar2541/transect_time_series.csv\n",
       "Length: 5616, dtype: object"
      ]
     },
     "execution_count": 6,
     "metadata": {},
     "output_type": "execute_result"
    }
   ],
   "source": [
    "files = pd.concat([vos_files, my_files, sar_files])\n",
    "files"
   ]
  },
  {
   "cell_type": "code",
   "execution_count": 7,
   "metadata": {
    "execution": {
     "iopub.execute_input": "2025-08-31T13:25:43.250294Z",
     "iopub.status.busy": "2025-08-31T13:25:43.250111Z",
     "iopub.status.idle": "2025-08-31T13:25:44.649417Z",
     "shell.execute_reply": "2025-08-31T13:25:44.648227Z"
    }
   },
   "outputs": [
    {
     "data": {
      "text/html": [
       "<pre>✔️ 1.32 s (2025-09-01T01:25:43/2025-09-01T01:25:44)</pre>"
      ],
      "text/plain": [
       "<IPython.core.display.HTML object>"
      ]
     },
     "metadata": {},
     "output_type": "display_data"
    },
    {
     "data": {
      "text/plain": [
       "Index(['ber0001-0000', 'ber0001-0001', 'ber0001-0002', 'ber0001-0003',\n",
       "       'ber0001-0004', 'ber0001-0005', 'ber0001-0006', 'ber0001-0007',\n",
       "       'ber0001-0008', 'ber0001-0009', 'satname'],\n",
       "      dtype='object')"
      ]
     },
     "metadata": {},
     "output_type": "display_data"
    },
    {
     "data": {
      "application/vnd.plotly.v1+json": {
       "config": {
        "plotlyServerURL": "https://plot.ly"
       },
       "data": [
        {
         "hovertemplate": "variable=raw<br>dates=%{x}<br>value=%{y}<extra></extra>",
         "legendgroup": "raw",
         "line": {
          "color": "#636efa",
          "dash": "solid"
         },
         "marker": {
          "symbol": "circle"
         },
         "mode": "lines",
         "name": "raw",
         "showlegend": true,
         "type": "scattergl",
         "x": [
          "1999-08-14T14:45:41.000000000",
          "2000-01-05T14:45:38.000000000",
          "2000-03-25T14:45:24.000000000",
          "2000-06-13T14:44:40.000000000",
          "2000-06-29T14:44:28.000000000",
          "2000-07-31T14:43:59.000000000",
          "2000-10-19T14:43:00.000000000",
          "2000-11-20T14:43:07.000000000",
          "2001-02-08T14:43:13.000000000",
          "2001-05-15T14:42:40.000000000",
          "2001-06-16T14:42:22.000000000",
          "2001-08-03T14:41:54.000000000",
          "2001-09-20T14:41:16.000000000",
          "2001-12-09T14:41:25.000000000",
          "2002-03-15T14:41:40.000000000",
          "2002-05-02T14:41:40.000000000",
          "2002-05-18T14:41:31.000000000",
          "2002-07-21T14:41:05.000000000",
          "2002-08-06T14:40:58.000000000",
          "2002-08-22T14:40:54.000000000",
          "2002-09-23T14:40:35.000000000",
          "2002-11-26T14:41:01.000000000",
          "2003-04-03T14:41:33.000000000",
          "2003-04-19T14:41:33.000000000",
          "2003-05-05T14:41:34.000000000",
          "2003-08-01T14:29:32.000000000",
          "2003-08-17T14:29:50.000000000",
          "2003-08-25T14:41:12.000000000",
          "2003-09-02T14:30:06.000000000",
          "2003-09-18T14:30:22.000000000",
          "2003-10-20T14:30:47.000000000",
          "2003-10-28T14:41:13.000000000",
          "2003-11-13T14:41:22.000000000",
          "2003-12-31T14:41:43.000000000",
          "2004-03-04T14:41:59.000000000",
          "2004-04-21T14:41:55.000000000",
          "2004-05-07T14:42:00.000000000",
          "2004-09-28T14:41:24.000000000",
          "2005-04-08T14:42:25.000000000",
          "2005-04-24T14:42:22.000000000",
          "2005-08-14T14:42:08.000000000",
          "2005-10-09T14:40:51.000000000",
          "2005-11-18T14:42:19.000000000",
          "2006-04-19T14:44:34.000000000",
          "2006-04-27T14:42:50.000000000",
          "2006-05-21T14:44:59.000000000",
          "2006-09-18T14:42:19.000000000",
          "2006-09-26T14:46:44.000000000",
          "2006-11-05T14:42:37.000000000",
          "2007-04-30T14:43:16.000000000",
          "2007-05-24T14:47:12.000000000",
          "2007-06-25T14:46:40.000000000",
          "2007-11-08T14:42:52.000000000",
          "2007-12-10T14:43:06.000000000",
          "2008-06-03T14:42:39.000000000",
          "2008-10-09T14:41:23.000000000",
          "2009-04-19T14:43:10.000000000",
          "2009-05-21T14:43:15.000000000",
          "2009-08-09T14:42:59.000000000",
          "2009-08-25T14:42:59.000000000",
          "2009-10-12T14:42:54.000000000",
          "2009-12-15T14:43:48.000000000",
          "2010-03-21T14:44:58.000000000",
          "2010-04-06T14:45:01.000000000",
          "2010-06-25T14:44:59.000000000",
          "2010-11-16T14:45:33.000000000",
          "2010-12-18T14:45:51.000000000",
          "2011-01-19T14:46:08.000000000",
          "2011-03-24T14:46:23.000000000",
          "2011-04-25T14:46:25.000000000",
          "2011-11-03T14:46:12.000000000",
          "2012-01-06T14:46:50.000000000",
          "2012-02-07T14:46:55.000000000",
          "2012-08-01T14:47:45.000000000",
          "2012-10-20T14:48:36.000000000",
          "2012-11-05T14:48:39.000000000",
          "2013-01-24T14:49:00.000000000",
          "2013-02-09T14:49:01.000000000",
          "2013-03-29T14:48:51.000000000",
          "2013-05-16T14:48:41.000000000",
          "2013-06-01T14:48:33.000000000",
          "2013-06-09T14:54:50.000000000",
          "2013-06-17T14:48:28.000000000",
          "2013-07-03T14:48:18.000000000",
          "2013-07-11T14:54:48.000000000",
          "2013-07-19T14:48:10.000000000",
          "2013-07-27T14:54:48.000000000",
          "2013-09-13T14:54:48.000000000",
          "2013-10-23T14:48:52.000000000",
          "2013-10-31T14:54:32.000000000",
          "2013-11-08T14:48:58.000000000",
          "2013-12-18T14:54:17.000000000",
          "2014-01-03T14:54:11.000000000",
          "2014-02-04T14:53:50.000000000",
          "2014-03-08T14:53:22.000000000",
          "2014-04-09T14:52:55.000000000",
          "2014-05-27T14:52:21.000000000",
          "2014-06-12T14:52:30.000000000",
          "2014-06-28T14:52:33.000000000",
          "2014-07-14T14:52:41.000000000",
          "2014-07-30T14:52:46.000000000",
          "2014-08-15T14:52:52.000000000",
          "2014-08-31T14:52:54.000000000",
          "2014-09-16T14:52:57.000000000",
          "2014-10-02T14:52:59.000000000",
          "2014-10-18T14:53:03.000000000",
          "2014-11-03T14:53:01.000000000",
          "2014-12-05T14:52:58.000000000",
          "2014-12-21T14:52:56.000000000",
          "2015-01-22T14:52:46.000000000",
          "2015-03-27T14:52:18.000000000",
          "2015-06-15T14:52:06.000000000",
          "2015-07-01T14:52:12.000000000",
          "2015-07-17T14:52:22.000000000",
          "2015-08-02T14:52:26.000000000",
          "2015-11-06T14:52:55.000000000",
          "2016-01-09T14:52:53.000000000",
          "2016-04-30T14:52:25.000000000",
          "2016-08-04T14:52:50.000000000",
          "2016-10-07T14:53:06.000000000",
          "2016-10-23T14:53:09.000000000",
          "2017-04-17T14:52:14.000000000",
          "2017-05-19T14:52:17.000000000",
          "2017-06-04T14:52:26.000000000",
          "2017-07-22T14:52:42.000000000",
          "2017-08-07T14:52:49.000000000",
          "2017-08-23T14:52:54.000000000",
          "2017-09-08T14:52:55.000000000",
          "2017-10-10T14:53:05.000000000",
          "2017-11-27T14:52:58.000000000",
          "2017-12-29T14:52:59.000000000",
          "2018-04-04T14:52:14.000000000",
          "2018-04-20T14:52:04.000000000",
          "2018-05-22T14:51:44.000000000",
          "2018-06-07T14:51:36.000000000",
          "2018-06-23T14:51:48.000000000",
          "2018-08-26T14:52:20.000000000",
          "2018-09-11T14:52:25.000000000",
          "2018-09-27T14:52:31.000000000",
          "2018-10-29T14:52:43.000000000",
          "2019-01-17T14:52:38.000000000",
          "2019-03-22T14:52:23.000000000",
          "2019-04-07T14:52:19.000000000",
          "2019-04-23T14:52:13.000000000",
          "2019-05-09T14:52:19.000000000",
          "2019-05-25T14:52:29.000000000",
          "2019-06-10T14:52:36.000000000",
          "2019-07-12T14:52:45.000000000",
          "2019-10-16T14:53:12.000000000",
          "2020-05-27T14:52:16.000000000",
          "2020-06-28T14:52:34.000000000",
          "2020-07-30T14:52:45.000000000",
          "2020-08-15T14:52:49.000000000",
          "2020-10-18T14:53:09.000000000",
          "2021-05-30T14:52:33.000000000",
          "2021-06-15T14:52:39.000000000",
          "2021-07-01T14:52:42.000000000",
          "2021-07-17T14:52:44.000000000",
          "2021-08-02T14:52:53.000000000",
          "2021-08-18T14:52:58.000000000",
          "2021-09-19T14:53:06.000000000",
          "2021-10-21T14:53:15.000000000",
          "2021-12-08T14:53:10.000000000",
          "2022-01-01T14:53:06.000000000",
          "2022-02-02T14:53:05.000000000",
          "2022-02-18T14:52:58.000000000",
          "2022-03-22T14:52:47.000000000",
          "2022-04-07T14:52:44.000000000",
          "2022-04-15T14:52:39.000000000",
          "2022-05-01T14:52:36.000000000",
          "2022-05-25T14:51:55.000000000",
          "2022-06-02T14:52:50.000000000",
          "2022-06-10T14:52:22.000000000",
          "2022-07-20T14:53:06.000000000",
          "2022-08-13T14:53:00.000000000",
          "2022-08-21T14:53:21.000000000",
          "2022-08-29T14:53:03.000000000",
          "2022-09-06T14:53:23.000000000",
          "2022-10-08T14:53:23.000000000",
          "2022-11-17T14:53:17.000000000",
          "2022-11-25T14:53:22.000000000",
          "2022-12-03T14:53:14.000000000",
          "2022-12-11T14:53:20.000000000",
          "2022-12-19T14:53:14.000000000",
          "2023-01-04T14:53:16.000000000",
          "2023-01-20T14:53:05.000000000",
          "2023-03-09T14:52:56.000000000",
          "2023-04-18T14:52:20.000000000",
          "2023-04-26T14:52:36.000000000",
          "2023-05-04T14:52:15.000000000",
          "2023-05-12T14:52:27.000000000",
          "2023-05-20T14:52:05.000000000",
          "2023-06-21T14:52:17.000000000",
          "2023-06-29T14:52:15.000000000",
          "2023-07-15T14:52:25.000000000",
          "2023-07-31T14:52:30.000000000",
          "2023-08-08T14:52:40.000000000",
          "2023-08-16T14:52:35.000000000",
          "2023-08-24T14:52:48.000000000",
          "2023-09-17T14:52:53.000000000",
          "2023-09-25T14:52:55.000000000",
          "2023-10-03T14:52:54.000000000",
          "2023-11-20T14:53:04.000000000",
          "2024-01-15T14:52:56.000000000",
          "2024-02-08T14:53:07.000000000",
          "2024-02-24T14:52:54.000000000",
          "2024-03-27T14:52:27.000000000",
          "2024-04-04T14:52:25.000000000",
          "2024-05-06T14:52:07.000000000",
          "2024-05-14T14:52:20.000000000",
          "2024-05-30T14:52:10.000000000",
          "2024-07-01T14:52:00.000000000",
          "2024-07-25T14:52:26.000000000",
          "2024-08-02T14:52:19.000000000",
          "2024-08-26T14:52:34.000000000",
          "2024-09-19T14:52:37.000000000",
          "2024-10-05T14:52:44.000000000",
          "2024-10-13T14:52:50.000000000",
          "2024-10-29T14:52:47.000000000",
          "2024-11-30T14:53:00.000000000",
          "2025-01-01T14:52:52.000000000",
          "2025-02-26T14:52:53.000000000",
          "2025-03-14T14:52:49.000000000",
          "2025-03-30T14:52:39.000000000",
          "2025-04-07T14:52:26.000000000",
          "2025-04-15T14:52:40.000000000",
          "2025-04-23T14:52:12.000000000",
          "2025-05-01T14:52:32.000000000",
          "2025-05-09T14:52:11.000000000",
          "2025-05-17T14:52:21.000000000",
          "2025-06-10T14:52:22.000000000",
          "2025-06-18T14:52:26.000000000",
          "2025-06-26T14:52:33.000000000",
          "2025-07-12T14:52:36.000000000",
          "2025-07-20T14:52:39.000000000",
          "2025-07-28T14:52:42.000000000",
          "2025-08-05T14:52:46.000000000"
         ],
         "xaxis": "x",
         "y": {
          "bdata": "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",
          "dtype": "f8"
         },
         "yaxis": "y"
        },
        {
         "hovertemplate": "variable=rolling 90d mean<br>dates=%{x}<br>value=%{y}<extra></extra>",
         "legendgroup": "rolling 90d mean",
         "line": {
          "color": "#EF553B",
          "dash": "solid"
         },
         "marker": {
          "symbol": "circle"
         },
         "mode": "lines",
         "name": "rolling 90d mean",
         "showlegend": true,
         "type": "scattergl",
         "x": [
          "1999-08-14T14:45:41.000000000",
          "2000-01-05T14:45:38.000000000",
          "2000-03-25T14:45:24.000000000",
          "2000-06-13T14:44:40.000000000",
          "2000-06-29T14:44:28.000000000",
          "2000-07-31T14:43:59.000000000",
          "2000-10-19T14:43:00.000000000",
          "2000-11-20T14:43:07.000000000",
          "2001-02-08T14:43:13.000000000",
          "2001-05-15T14:42:40.000000000",
          "2001-06-16T14:42:22.000000000",
          "2001-08-03T14:41:54.000000000",
          "2001-09-20T14:41:16.000000000",
          "2001-12-09T14:41:25.000000000",
          "2002-03-15T14:41:40.000000000",
          "2002-05-02T14:41:40.000000000",
          "2002-05-18T14:41:31.000000000",
          "2002-07-21T14:41:05.000000000",
          "2002-08-06T14:40:58.000000000",
          "2002-08-22T14:40:54.000000000",
          "2002-09-23T14:40:35.000000000",
          "2002-11-26T14:41:01.000000000",
          "2003-04-03T14:41:33.000000000",
          "2003-04-19T14:41:33.000000000",
          "2003-05-05T14:41:34.000000000",
          "2003-08-01T14:29:32.000000000",
          "2003-08-17T14:29:50.000000000",
          "2003-08-25T14:41:12.000000000",
          "2003-09-02T14:30:06.000000000",
          "2003-09-18T14:30:22.000000000",
          "2003-10-20T14:30:47.000000000",
          "2003-10-28T14:41:13.000000000",
          "2003-11-13T14:41:22.000000000",
          "2003-12-31T14:41:43.000000000",
          "2004-03-04T14:41:59.000000000",
          "2004-04-21T14:41:55.000000000",
          "2004-05-07T14:42:00.000000000",
          "2004-09-28T14:41:24.000000000",
          "2005-04-08T14:42:25.000000000",
          "2005-04-24T14:42:22.000000000",
          "2005-08-14T14:42:08.000000000",
          "2005-10-09T14:40:51.000000000",
          "2005-11-18T14:42:19.000000000",
          "2006-04-19T14:44:34.000000000",
          "2006-04-27T14:42:50.000000000",
          "2006-05-21T14:44:59.000000000",
          "2006-09-18T14:42:19.000000000",
          "2006-09-26T14:46:44.000000000",
          "2006-11-05T14:42:37.000000000",
          "2007-04-30T14:43:16.000000000",
          "2007-05-24T14:47:12.000000000",
          "2007-06-25T14:46:40.000000000",
          "2007-11-08T14:42:52.000000000",
          "2007-12-10T14:43:06.000000000",
          "2008-06-03T14:42:39.000000000",
          "2008-10-09T14:41:23.000000000",
          "2009-04-19T14:43:10.000000000",
          "2009-05-21T14:43:15.000000000",
          "2009-08-09T14:42:59.000000000",
          "2009-08-25T14:42:59.000000000",
          "2009-10-12T14:42:54.000000000",
          "2009-12-15T14:43:48.000000000",
          "2010-03-21T14:44:58.000000000",
          "2010-04-06T14:45:01.000000000",
          "2010-06-25T14:44:59.000000000",
          "2010-11-16T14:45:33.000000000",
          "2010-12-18T14:45:51.000000000",
          "2011-01-19T14:46:08.000000000",
          "2011-03-24T14:46:23.000000000",
          "2011-04-25T14:46:25.000000000",
          "2011-11-03T14:46:12.000000000",
          "2012-01-06T14:46:50.000000000",
          "2012-02-07T14:46:55.000000000",
          "2012-08-01T14:47:45.000000000",
          "2012-10-20T14:48:36.000000000",
          "2012-11-05T14:48:39.000000000",
          "2013-01-24T14:49:00.000000000",
          "2013-02-09T14:49:01.000000000",
          "2013-03-29T14:48:51.000000000",
          "2013-05-16T14:48:41.000000000",
          "2013-06-01T14:48:33.000000000",
          "2013-06-09T14:54:50.000000000",
          "2013-06-17T14:48:28.000000000",
          "2013-07-03T14:48:18.000000000",
          "2013-07-11T14:54:48.000000000",
          "2013-07-19T14:48:10.000000000",
          "2013-07-27T14:54:48.000000000",
          "2013-09-13T14:54:48.000000000",
          "2013-10-23T14:48:52.000000000",
          "2013-10-31T14:54:32.000000000",
          "2013-11-08T14:48:58.000000000",
          "2013-12-18T14:54:17.000000000",
          "2014-01-03T14:54:11.000000000",
          "2014-02-04T14:53:50.000000000",
          "2014-03-08T14:53:22.000000000",
          "2014-04-09T14:52:55.000000000",
          "2014-05-27T14:52:21.000000000",
          "2014-06-12T14:52:30.000000000",
          "2014-06-28T14:52:33.000000000",
          "2014-07-14T14:52:41.000000000",
          "2014-07-30T14:52:46.000000000",
          "2014-08-15T14:52:52.000000000",
          "2014-08-31T14:52:54.000000000",
          "2014-09-16T14:52:57.000000000",
          "2014-10-02T14:52:59.000000000",
          "2014-10-18T14:53:03.000000000",
          "2014-11-03T14:53:01.000000000",
          "2014-12-05T14:52:58.000000000",
          "2014-12-21T14:52:56.000000000",
          "2015-01-22T14:52:46.000000000",
          "2015-03-27T14:52:18.000000000",
          "2015-06-15T14:52:06.000000000",
          "2015-07-01T14:52:12.000000000",
          "2015-07-17T14:52:22.000000000",
          "2015-08-02T14:52:26.000000000",
          "2015-11-06T14:52:55.000000000",
          "2016-01-09T14:52:53.000000000",
          "2016-04-30T14:52:25.000000000",
          "2016-08-04T14:52:50.000000000",
          "2016-10-07T14:53:06.000000000",
          "2016-10-23T14:53:09.000000000",
          "2017-04-17T14:52:14.000000000",
          "2017-05-19T14:52:17.000000000",
          "2017-06-04T14:52:26.000000000",
          "2017-07-22T14:52:42.000000000",
          "2017-08-07T14:52:49.000000000",
          "2017-08-23T14:52:54.000000000",
          "2017-09-08T14:52:55.000000000",
          "2017-10-10T14:53:05.000000000",
          "2017-11-27T14:52:58.000000000",
          "2017-12-29T14:52:59.000000000",
          "2018-04-04T14:52:14.000000000",
          "2018-04-20T14:52:04.000000000",
          "2018-05-22T14:51:44.000000000",
          "2018-06-07T14:51:36.000000000",
          "2018-06-23T14:51:48.000000000",
          "2018-08-26T14:52:20.000000000",
          "2018-09-11T14:52:25.000000000",
          "2018-09-27T14:52:31.000000000",
          "2018-10-29T14:52:43.000000000",
          "2019-01-17T14:52:38.000000000",
          "2019-03-22T14:52:23.000000000",
          "2019-04-07T14:52:19.000000000",
          "2019-04-23T14:52:13.000000000",
          "2019-05-09T14:52:19.000000000",
          "2019-05-25T14:52:29.000000000",
          "2019-06-10T14:52:36.000000000",
          "2019-07-12T14:52:45.000000000",
          "2019-10-16T14:53:12.000000000",
          "2020-05-27T14:52:16.000000000",
          "2020-06-28T14:52:34.000000000",
          "2020-07-30T14:52:45.000000000",
          "2020-08-15T14:52:49.000000000",
          "2020-10-18T14:53:09.000000000",
          "2021-05-30T14:52:33.000000000",
          "2021-06-15T14:52:39.000000000",
          "2021-07-01T14:52:42.000000000",
          "2021-07-17T14:52:44.000000000",
          "2021-08-02T14:52:53.000000000",
          "2021-08-18T14:52:58.000000000",
          "2021-09-19T14:53:06.000000000",
          "2021-10-21T14:53:15.000000000",
          "2021-12-08T14:53:10.000000000",
          "2022-01-01T14:53:06.000000000",
          "2022-02-02T14:53:05.000000000",
          "2022-02-18T14:52:58.000000000",
          "2022-03-22T14:52:47.000000000",
          "2022-04-07T14:52:44.000000000",
          "2022-04-15T14:52:39.000000000",
          "2022-05-01T14:52:36.000000000",
          "2022-05-25T14:51:55.000000000",
          "2022-06-02T14:52:50.000000000",
          "2022-06-10T14:52:22.000000000",
          "2022-07-20T14:53:06.000000000",
          "2022-08-13T14:53:00.000000000",
          "2022-08-21T14:53:21.000000000",
          "2022-08-29T14:53:03.000000000",
          "2022-09-06T14:53:23.000000000",
          "2022-10-08T14:53:23.000000000",
          "2022-11-17T14:53:17.000000000",
          "2022-11-25T14:53:22.000000000",
          "2022-12-03T14:53:14.000000000",
          "2022-12-11T14:53:20.000000000",
          "2022-12-19T14:53:14.000000000",
          "2023-01-04T14:53:16.000000000",
          "2023-01-20T14:53:05.000000000",
          "2023-03-09T14:52:56.000000000",
          "2023-04-18T14:52:20.000000000",
          "2023-04-26T14:52:36.000000000",
          "2023-05-04T14:52:15.000000000",
          "2023-05-12T14:52:27.000000000",
          "2023-05-20T14:52:05.000000000",
          "2023-06-21T14:52:17.000000000",
          "2023-06-29T14:52:15.000000000",
          "2023-07-15T14:52:25.000000000",
          "2023-07-31T14:52:30.000000000",
          "2023-08-08T14:52:40.000000000",
          "2023-08-16T14:52:35.000000000",
          "2023-08-24T14:52:48.000000000",
          "2023-09-17T14:52:53.000000000",
          "2023-09-25T14:52:55.000000000",
          "2023-10-03T14:52:54.000000000",
          "2023-11-20T14:53:04.000000000",
          "2024-01-15T14:52:56.000000000",
          "2024-02-08T14:53:07.000000000",
          "2024-02-24T14:52:54.000000000",
          "2024-03-27T14:52:27.000000000",
          "2024-04-04T14:52:25.000000000",
          "2024-05-06T14:52:07.000000000",
          "2024-05-14T14:52:20.000000000",
          "2024-05-30T14:52:10.000000000",
          "2024-07-01T14:52:00.000000000",
          "2024-07-25T14:52:26.000000000",
          "2024-08-02T14:52:19.000000000",
          "2024-08-26T14:52:34.000000000",
          "2024-09-19T14:52:37.000000000",
          "2024-10-05T14:52:44.000000000",
          "2024-10-13T14:52:50.000000000",
          "2024-10-29T14:52:47.000000000",
          "2024-11-30T14:53:00.000000000",
          "2025-01-01T14:52:52.000000000",
          "2025-02-26T14:52:53.000000000",
          "2025-03-14T14:52:49.000000000",
          "2025-03-30T14:52:39.000000000",
          "2025-04-07T14:52:26.000000000",
          "2025-04-15T14:52:40.000000000",
          "2025-04-23T14:52:12.000000000",
          "2025-05-01T14:52:32.000000000",
          "2025-05-09T14:52:11.000000000",
          "2025-05-17T14:52:21.000000000",
          "2025-06-10T14:52:22.000000000",
          "2025-06-18T14:52:26.000000000",
          "2025-06-26T14:52:33.000000000",
          "2025-07-12T14:52:36.000000000",
          "2025-07-20T14:52:39.000000000",
          "2025-07-28T14:52:42.000000000",
          "2025-08-05T14:52:46.000000000"
         ],
         "xaxis": "x",
         "y": {
          "bdata": "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",
          "dtype": "f8"
         },
         "yaxis": "y"
        },
        {
         "hovertemplate": "variable=rolling 180d mean<br>dates=%{x}<br>value=%{y}<extra></extra>",
         "legendgroup": "rolling 180d mean",
         "line": {
          "color": "#00cc96",
          "dash": "solid"
         },
         "marker": {
          "symbol": "circle"
         },
         "mode": "lines",
         "name": "rolling 180d mean",
         "showlegend": true,
         "type": "scattergl",
         "x": [
          "1999-08-14T14:45:41.000000000",
          "2000-01-05T14:45:38.000000000",
          "2000-03-25T14:45:24.000000000",
          "2000-06-13T14:44:40.000000000",
          "2000-06-29T14:44:28.000000000",
          "2000-07-31T14:43:59.000000000",
          "2000-10-19T14:43:00.000000000",
          "2000-11-20T14:43:07.000000000",
          "2001-02-08T14:43:13.000000000",
          "2001-05-15T14:42:40.000000000",
          "2001-06-16T14:42:22.000000000",
          "2001-08-03T14:41:54.000000000",
          "2001-09-20T14:41:16.000000000",
          "2001-12-09T14:41:25.000000000",
          "2002-03-15T14:41:40.000000000",
          "2002-05-02T14:41:40.000000000",
          "2002-05-18T14:41:31.000000000",
          "2002-07-21T14:41:05.000000000",
          "2002-08-06T14:40:58.000000000",
          "2002-08-22T14:40:54.000000000",
          "2002-09-23T14:40:35.000000000",
          "2002-11-26T14:41:01.000000000",
          "2003-04-03T14:41:33.000000000",
          "2003-04-19T14:41:33.000000000",
          "2003-05-05T14:41:34.000000000",
          "2003-08-01T14:29:32.000000000",
          "2003-08-17T14:29:50.000000000",
          "2003-08-25T14:41:12.000000000",
          "2003-09-02T14:30:06.000000000",
          "2003-09-18T14:30:22.000000000",
          "2003-10-20T14:30:47.000000000",
          "2003-10-28T14:41:13.000000000",
          "2003-11-13T14:41:22.000000000",
          "2003-12-31T14:41:43.000000000",
          "2004-03-04T14:41:59.000000000",
          "2004-04-21T14:41:55.000000000",
          "2004-05-07T14:42:00.000000000",
          "2004-09-28T14:41:24.000000000",
          "2005-04-08T14:42:25.000000000",
          "2005-04-24T14:42:22.000000000",
          "2005-08-14T14:42:08.000000000",
          "2005-10-09T14:40:51.000000000",
          "2005-11-18T14:42:19.000000000",
          "2006-04-19T14:44:34.000000000",
          "2006-04-27T14:42:50.000000000",
          "2006-05-21T14:44:59.000000000",
          "2006-09-18T14:42:19.000000000",
          "2006-09-26T14:46:44.000000000",
          "2006-11-05T14:42:37.000000000",
          "2007-04-30T14:43:16.000000000",
          "2007-05-24T14:47:12.000000000",
          "2007-06-25T14:46:40.000000000",
          "2007-11-08T14:42:52.000000000",
          "2007-12-10T14:43:06.000000000",
          "2008-06-03T14:42:39.000000000",
          "2008-10-09T14:41:23.000000000",
          "2009-04-19T14:43:10.000000000",
          "2009-05-21T14:43:15.000000000",
          "2009-08-09T14:42:59.000000000",
          "2009-08-25T14:42:59.000000000",
          "2009-10-12T14:42:54.000000000",
          "2009-12-15T14:43:48.000000000",
          "2010-03-21T14:44:58.000000000",
          "2010-04-06T14:45:01.000000000",
          "2010-06-25T14:44:59.000000000",
          "2010-11-16T14:45:33.000000000",
          "2010-12-18T14:45:51.000000000",
          "2011-01-19T14:46:08.000000000",
          "2011-03-24T14:46:23.000000000",
          "2011-04-25T14:46:25.000000000",
          "2011-11-03T14:46:12.000000000",
          "2012-01-06T14:46:50.000000000",
          "2012-02-07T14:46:55.000000000",
          "2012-08-01T14:47:45.000000000",
          "2012-10-20T14:48:36.000000000",
          "2012-11-05T14:48:39.000000000",
          "2013-01-24T14:49:00.000000000",
          "2013-02-09T14:49:01.000000000",
          "2013-03-29T14:48:51.000000000",
          "2013-05-16T14:48:41.000000000",
          "2013-06-01T14:48:33.000000000",
          "2013-06-09T14:54:50.000000000",
          "2013-06-17T14:48:28.000000000",
          "2013-07-03T14:48:18.000000000",
          "2013-07-11T14:54:48.000000000",
          "2013-07-19T14:48:10.000000000",
          "2013-07-27T14:54:48.000000000",
          "2013-09-13T14:54:48.000000000",
          "2013-10-23T14:48:52.000000000",
          "2013-10-31T14:54:32.000000000",
          "2013-11-08T14:48:58.000000000",
          "2013-12-18T14:54:17.000000000",
          "2014-01-03T14:54:11.000000000",
          "2014-02-04T14:53:50.000000000",
          "2014-03-08T14:53:22.000000000",
          "2014-04-09T14:52:55.000000000",
          "2014-05-27T14:52:21.000000000",
          "2014-06-12T14:52:30.000000000",
          "2014-06-28T14:52:33.000000000",
          "2014-07-14T14:52:41.000000000",
          "2014-07-30T14:52:46.000000000",
          "2014-08-15T14:52:52.000000000",
          "2014-08-31T14:52:54.000000000",
          "2014-09-16T14:52:57.000000000",
          "2014-10-02T14:52:59.000000000",
          "2014-10-18T14:53:03.000000000",
          "2014-11-03T14:53:01.000000000",
          "2014-12-05T14:52:58.000000000",
          "2014-12-21T14:52:56.000000000",
          "2015-01-22T14:52:46.000000000",
          "2015-03-27T14:52:18.000000000",
          "2015-06-15T14:52:06.000000000",
          "2015-07-01T14:52:12.000000000",
          "2015-07-17T14:52:22.000000000",
          "2015-08-02T14:52:26.000000000",
          "2015-11-06T14:52:55.000000000",
          "2016-01-09T14:52:53.000000000",
          "2016-04-30T14:52:25.000000000",
          "2016-08-04T14:52:50.000000000",
          "2016-10-07T14:53:06.000000000",
          "2016-10-23T14:53:09.000000000",
          "2017-04-17T14:52:14.000000000",
          "2017-05-19T14:52:17.000000000",
          "2017-06-04T14:52:26.000000000",
          "2017-07-22T14:52:42.000000000",
          "2017-08-07T14:52:49.000000000",
          "2017-08-23T14:52:54.000000000",
          "2017-09-08T14:52:55.000000000",
          "2017-10-10T14:53:05.000000000",
          "2017-11-27T14:52:58.000000000",
          "2017-12-29T14:52:59.000000000",
          "2018-04-04T14:52:14.000000000",
          "2018-04-20T14:52:04.000000000",
          "2018-05-22T14:51:44.000000000",
          "2018-06-07T14:51:36.000000000",
          "2018-06-23T14:51:48.000000000",
          "2018-08-26T14:52:20.000000000",
          "2018-09-11T14:52:25.000000000",
          "2018-09-27T14:52:31.000000000",
          "2018-10-29T14:52:43.000000000",
          "2019-01-17T14:52:38.000000000",
          "2019-03-22T14:52:23.000000000",
          "2019-04-07T14:52:19.000000000",
          "2019-04-23T14:52:13.000000000",
          "2019-05-09T14:52:19.000000000",
          "2019-05-25T14:52:29.000000000",
          "2019-06-10T14:52:36.000000000",
          "2019-07-12T14:52:45.000000000",
          "2019-10-16T14:53:12.000000000",
          "2020-05-27T14:52:16.000000000",
          "2020-06-28T14:52:34.000000000",
          "2020-07-30T14:52:45.000000000",
          "2020-08-15T14:52:49.000000000",
          "2020-10-18T14:53:09.000000000",
          "2021-05-30T14:52:33.000000000",
          "2021-06-15T14:52:39.000000000",
          "2021-07-01T14:52:42.000000000",
          "2021-07-17T14:52:44.000000000",
          "2021-08-02T14:52:53.000000000",
          "2021-08-18T14:52:58.000000000",
          "2021-09-19T14:53:06.000000000",
          "2021-10-21T14:53:15.000000000",
          "2021-12-08T14:53:10.000000000",
          "2022-01-01T14:53:06.000000000",
          "2022-02-02T14:53:05.000000000",
          "2022-02-18T14:52:58.000000000",
          "2022-03-22T14:52:47.000000000",
          "2022-04-07T14:52:44.000000000",
          "2022-04-15T14:52:39.000000000",
          "2022-05-01T14:52:36.000000000",
          "2022-05-25T14:51:55.000000000",
          "2022-06-02T14:52:50.000000000",
          "2022-06-10T14:52:22.000000000",
          "2022-07-20T14:53:06.000000000",
          "2022-08-13T14:53:00.000000000",
          "2022-08-21T14:53:21.000000000",
          "2022-08-29T14:53:03.000000000",
          "2022-09-06T14:53:23.000000000",
          "2022-10-08T14:53:23.000000000",
          "2022-11-17T14:53:17.000000000",
          "2022-11-25T14:53:22.000000000",
          "2022-12-03T14:53:14.000000000",
          "2022-12-11T14:53:20.000000000",
          "2022-12-19T14:53:14.000000000",
          "2023-01-04T14:53:16.000000000",
          "2023-01-20T14:53:05.000000000",
          "2023-03-09T14:52:56.000000000",
          "2023-04-18T14:52:20.000000000",
          "2023-04-26T14:52:36.000000000",
          "2023-05-04T14:52:15.000000000",
          "2023-05-12T14:52:27.000000000",
          "2023-05-20T14:52:05.000000000",
          "2023-06-21T14:52:17.000000000",
          "2023-06-29T14:52:15.000000000",
          "2023-07-15T14:52:25.000000000",
          "2023-07-31T14:52:30.000000000",
          "2023-08-08T14:52:40.000000000",
          "2023-08-16T14:52:35.000000000",
          "2023-08-24T14:52:48.000000000",
          "2023-09-17T14:52:53.000000000",
          "2023-09-25T14:52:55.000000000",
          "2023-10-03T14:52:54.000000000",
          "2023-11-20T14:53:04.000000000",
          "2024-01-15T14:52:56.000000000",
          "2024-02-08T14:53:07.000000000",
          "2024-02-24T14:52:54.000000000",
          "2024-03-27T14:52:27.000000000",
          "2024-04-04T14:52:25.000000000",
          "2024-05-06T14:52:07.000000000",
          "2024-05-14T14:52:20.000000000",
          "2024-05-30T14:52:10.000000000",
          "2024-07-01T14:52:00.000000000",
          "2024-07-25T14:52:26.000000000",
          "2024-08-02T14:52:19.000000000",
          "2024-08-26T14:52:34.000000000",
          "2024-09-19T14:52:37.000000000",
          "2024-10-05T14:52:44.000000000",
          "2024-10-13T14:52:50.000000000",
          "2024-10-29T14:52:47.000000000",
          "2024-11-30T14:53:00.000000000",
          "2025-01-01T14:52:52.000000000",
          "2025-02-26T14:52:53.000000000",
          "2025-03-14T14:52:49.000000000",
          "2025-03-30T14:52:39.000000000",
          "2025-04-07T14:52:26.000000000",
          "2025-04-15T14:52:40.000000000",
          "2025-04-23T14:52:12.000000000",
          "2025-05-01T14:52:32.000000000",
          "2025-05-09T14:52:11.000000000",
          "2025-05-17T14:52:21.000000000",
          "2025-06-10T14:52:22.000000000",
          "2025-06-18T14:52:26.000000000",
          "2025-06-26T14:52:33.000000000",
          "2025-07-12T14:52:36.000000000",
          "2025-07-20T14:52:39.000000000",
          "2025-07-28T14:52:42.000000000",
          "2025-08-05T14:52:46.000000000"
         ],
         "xaxis": "x",
         "y": {
          "bdata": "ozwR6yJKY0CNzqkcPe5jQO7qf4z4MWRAHCsxZphnZEBKeMWjA7BkQMRBaYWTkWRAjzBNbpHRZEAFSfo3bANlQNzq/dde+mRAqc/h242yZEAv3cW2CLNkQPmu+tFioGRAhIr8GVlYZEBoA/csY0xkQKwdRrgq5WNAnXn6TNtAZEAJoLOAjzxkQGF34DlpX2RAMCX2aCqBZEAVw6ucRltkQOU/rl1k7WNA4exf3cbxY0B5X5HogUhkQBvqe2wbzmNAWat/EzaaY0AEPjuKDX5jQLFauKZplGNAYHx2bXu9Y0A1vyCIauZjQPSkoE9I+2NA65FndIM4ZEBa5f2iTyNkQNDi/qqDNmRAlME3iltBZECz2S3pMj5kQPHK6bve6mNAkvANkOkEZEBpEJ3ekZhjQBi6+KuqOGVAQA3HXNUzY0BADcdc1TNjQGhglQ0AL2FALgYsZUAZZEC+xAPWCj5jQIuiTMQmb2NAd+JHFOA1Y0AglHYmI5BjQJxKAQYDsWNAluWbr6jkY0CGokfLiLZjQMrFPje0IGRAMC5xDIRIZEAEHMB9MTZkQK2OsySdbWRAOBFipRjPZEDJ0jjDJjRlQAhKQ0vp42RAw0c0JUrjZEDXrYQY9kNkQKpkdgHTB2RAMqWipt5BZEB745anQdZjQGsqCDCfv2RA5HTXtrFgZEBsFqyV1BBkQMrw/m0lfmRA6MMgX8NtZEA5nmR58ShkQMJFiIY6AGRAiqTaD0AgZECB50iW2+JiQH7kpv/JemNAyZe1PDX+Y0C8Kh4er4dkQK7zlpYed2RATccioLStZEAYItxppItkQPrNdwz5p2RAXgp9+IhRZECNqOKhoiRkQAJLZYZ/JmRAfY8SV04WZECSl77jBCNkQNGYfLn5LWRAlKy3TQBAZECUrLdNAEBkQNebjd5RQ2RAsI/z85hqZEDLpEojkp9kQBY5tLmJqGRAWNTGbL+qZEA6TtgEsu1kQCqZ9d1wq2RASFdHNuodZEAuzi500P1jQIxidlzs+2NAwMPl0O7DY0BuHIT33MVjQKcQoK9a1WNAPyJDC5kpZECNuIRdTyhkQOPD8r1ZPmRA48PyvVk+ZECqOWlonhVkQBsRkvf6DGRAoMaBc9viY0CCTxB+yeVjQGKcqM2LsWNAqnyNQvPRY0Ao88B4q3xjQG2i8Xhf6WNADfTV9nUhZECgNMkX48ZjQHpDhnHBbmNAkNFXUPaSY0Bs0lrZ2WFjQOlSo1aSDmNAI91dIt67Y0ApwUcXUDxjQB3ZfuPXA2NApWJQo/A8Y0D+Ee3ZzzdjQLL8HfKmHGNA88giClEgY0BbvYXXBCFjQLdA8kWFJ2NAuY8wI7kkY0AK23/qsRdjQOFN40UQ/2JAQCufKX8GY0CFFIaDDP1iQGvLTYxCMWNAgOtxl8h+Y0CMZFbFWJpjQDYIqYJnr2NAlEPl/sC1Y0CpqkCWwNRjQIGMe9VlmGNAkJzq1j+bY0D6GuvkvIdjQEaj22KpTWNA3w0edq6NY0BG4Chyh5xjQCKmNN7OsGNAdXCwZvSLY0B7cO2Al41jQHtw7YCXjWNAe3DtgJeNY0B25urVJX5jQKJBSqDrEmJAUtuTdufiYkANFNJ7c0ZjQPzClc5FbmNAp1smTrYFY0CPjRSDe6NkQK0R5fVYd2RArRHl9Vh3ZEBLYng0zINkQPghxPlaY2RA+CHE+VpjZED4IcT5WmNkQGLFZnS+YGRAeQe5h18nZEDqIF2A1hJkQCSaNjhg82NAJox/D2jiY0CzP3xjHhJkQMFDFvF4E2RALOAeiH0TZEAWTRwU89hjQBZNHBTz2GNAGyxEDnDVY0Bqehv/+PFjQKBJWuYp5mNAhSuopCS9Y0DFuX/fdNhjQIpsJ/Lr1mNAimwn8uvWY0AdJWhqwbhjQKRYxALazWNAOkVrz3TJY0DV4k08CdZjQPscZRkTpmNAOSQO4Z2UY0C9S83ynaBjQOxJ+AB0pGNAetUNjmxTY0A3xrIYZEdjQP4YIWiYVWNAdoALUE4JY0B0W16c2CJjQIeNgcT5J2NATMoUG+QqY0BMyhQb5CpjQAxEiWdQFGNAnDXBAFocY0DCjsmHTCdjQLe/KWYTLGNAuQmkctk1Y0BrXj3AGmpjQF/2FuvQe2NAOI9y4xtrY0Dx/JiAy6hjQOqqQUtPo2NArAb5ZRuKY0A+RVtYKZljQJkLvzJqVmNA3mMT8LZ9Y0C1pADefZNjQPLtc0jSkWNAgIvCsUyRY0CZIaruQXdjQFXz+MfPa2NATitjhRF9Y0DxhcC1a5hjQPGFwLVrmGNAbkoce+eJY0A7gY2Wq5pjQB3cdXuKo2NA8mcxwR1nY0Ao0ouosmBjQOsZ3OVnO2NAMqnNYN9bY0CLme6eAnFjQPX37uZnrmNA1ay0kriZY0Dt4shn6KpjQFDNZvauomNAM4UeeRWSY0B+6t0225VjQPx8JEctpmNAzsIoZfSkY0DOwihl9KRjQM7CBBY5vWNAF6SKE/m4Y0AKG/643bRjQDIqQ4CJ4WNA",
          "dtype": "f8"
         },
         "yaxis": "y"
        },
        {
         "hovertemplate": "variable=rolling 90d custom mean<br>dates=%{x}<br>value=%{y}<extra></extra>",
         "legendgroup": "rolling 90d custom mean",
         "line": {
          "color": "#ab63fa",
          "dash": "solid"
         },
         "marker": {
          "symbol": "circle"
         },
         "mode": "lines",
         "name": "rolling 90d custom mean",
         "showlegend": true,
         "type": "scattergl",
         "x": [
          "1999-08-14T14:45:41.000000000",
          "2000-01-05T14:45:38.000000000",
          "2000-03-25T14:45:24.000000000",
          "2000-06-13T14:44:40.000000000",
          "2000-06-29T14:44:28.000000000",
          "2000-07-31T14:43:59.000000000",
          "2000-10-19T14:43:00.000000000",
          "2000-11-20T14:43:07.000000000",
          "2001-02-08T14:43:13.000000000",
          "2001-05-15T14:42:40.000000000",
          "2001-06-16T14:42:22.000000000",
          "2001-08-03T14:41:54.000000000",
          "2001-09-20T14:41:16.000000000",
          "2001-12-09T14:41:25.000000000",
          "2002-03-15T14:41:40.000000000",
          "2002-05-02T14:41:40.000000000",
          "2002-05-18T14:41:31.000000000",
          "2002-07-21T14:41:05.000000000",
          "2002-08-06T14:40:58.000000000",
          "2002-08-22T14:40:54.000000000",
          "2002-09-23T14:40:35.000000000",
          "2002-11-26T14:41:01.000000000",
          "2003-04-03T14:41:33.000000000",
          "2003-04-19T14:41:33.000000000",
          "2003-05-05T14:41:34.000000000",
          "2003-08-01T14:29:32.000000000",
          "2003-08-17T14:29:50.000000000",
          "2003-08-25T14:41:12.000000000",
          "2003-09-02T14:30:06.000000000",
          "2003-09-18T14:30:22.000000000",
          "2003-10-20T14:30:47.000000000",
          "2003-10-28T14:41:13.000000000",
          "2003-11-13T14:41:22.000000000",
          "2003-12-31T14:41:43.000000000",
          "2004-03-04T14:41:59.000000000",
          "2004-04-21T14:41:55.000000000",
          "2004-05-07T14:42:00.000000000",
          "2004-09-28T14:41:24.000000000",
          "2005-04-08T14:42:25.000000000",
          "2005-04-24T14:42:22.000000000",
          "2005-08-14T14:42:08.000000000",
          "2005-10-09T14:40:51.000000000",
          "2005-11-18T14:42:19.000000000",
          "2006-04-19T14:44:34.000000000",
          "2006-04-27T14:42:50.000000000",
          "2006-05-21T14:44:59.000000000",
          "2006-09-18T14:42:19.000000000",
          "2006-09-26T14:46:44.000000000",
          "2006-11-05T14:42:37.000000000",
          "2007-04-30T14:43:16.000000000",
          "2007-05-24T14:47:12.000000000",
          "2007-06-25T14:46:40.000000000",
          "2007-11-08T14:42:52.000000000",
          "2007-12-10T14:43:06.000000000",
          "2008-06-03T14:42:39.000000000",
          "2008-10-09T14:41:23.000000000",
          "2009-04-19T14:43:10.000000000",
          "2009-05-21T14:43:15.000000000",
          "2009-08-09T14:42:59.000000000",
          "2009-08-25T14:42:59.000000000",
          "2009-10-12T14:42:54.000000000",
          "2009-12-15T14:43:48.000000000",
          "2010-03-21T14:44:58.000000000",
          "2010-04-06T14:45:01.000000000",
          "2010-06-25T14:44:59.000000000",
          "2010-11-16T14:45:33.000000000",
          "2010-12-18T14:45:51.000000000",
          "2011-01-19T14:46:08.000000000",
          "2011-03-24T14:46:23.000000000",
          "2011-04-25T14:46:25.000000000",
          "2011-11-03T14:46:12.000000000",
          "2012-01-06T14:46:50.000000000",
          "2012-02-07T14:46:55.000000000",
          "2012-08-01T14:47:45.000000000",
          "2012-10-20T14:48:36.000000000",
          "2012-11-05T14:48:39.000000000",
          "2013-01-24T14:49:00.000000000",
          "2013-02-09T14:49:01.000000000",
          "2013-03-29T14:48:51.000000000",
          "2013-05-16T14:48:41.000000000",
          "2013-06-01T14:48:33.000000000",
          "2013-06-09T14:54:50.000000000",
          "2013-06-17T14:48:28.000000000",
          "2013-07-03T14:48:18.000000000",
          "2013-07-11T14:54:48.000000000",
          "2013-07-19T14:48:10.000000000",
          "2013-07-27T14:54:48.000000000",
          "2013-09-13T14:54:48.000000000",
          "2013-10-23T14:48:52.000000000",
          "2013-10-31T14:54:32.000000000",
          "2013-11-08T14:48:58.000000000",
          "2013-12-18T14:54:17.000000000",
          "2014-01-03T14:54:11.000000000",
          "2014-02-04T14:53:50.000000000",
          "2014-03-08T14:53:22.000000000",
          "2014-04-09T14:52:55.000000000",
          "2014-05-27T14:52:21.000000000",
          "2014-06-12T14:52:30.000000000",
          "2014-06-28T14:52:33.000000000",
          "2014-07-14T14:52:41.000000000",
          "2014-07-30T14:52:46.000000000",
          "2014-08-15T14:52:52.000000000",
          "2014-08-31T14:52:54.000000000",
          "2014-09-16T14:52:57.000000000",
          "2014-10-02T14:52:59.000000000",
          "2014-10-18T14:53:03.000000000",
          "2014-11-03T14:53:01.000000000",
          "2014-12-05T14:52:58.000000000",
          "2014-12-21T14:52:56.000000000",
          "2015-01-22T14:52:46.000000000",
          "2015-03-27T14:52:18.000000000",
          "2015-06-15T14:52:06.000000000",
          "2015-07-01T14:52:12.000000000",
          "2015-07-17T14:52:22.000000000",
          "2015-08-02T14:52:26.000000000",
          "2015-11-06T14:52:55.000000000",
          "2016-01-09T14:52:53.000000000",
          "2016-04-30T14:52:25.000000000",
          "2016-08-04T14:52:50.000000000",
          "2016-10-07T14:53:06.000000000",
          "2016-10-23T14:53:09.000000000",
          "2017-04-17T14:52:14.000000000",
          "2017-05-19T14:52:17.000000000",
          "2017-06-04T14:52:26.000000000",
          "2017-07-22T14:52:42.000000000",
          "2017-08-07T14:52:49.000000000",
          "2017-08-23T14:52:54.000000000",
          "2017-09-08T14:52:55.000000000",
          "2017-10-10T14:53:05.000000000",
          "2017-11-27T14:52:58.000000000",
          "2017-12-29T14:52:59.000000000",
          "2018-04-04T14:52:14.000000000",
          "2018-04-20T14:52:04.000000000",
          "2018-05-22T14:51:44.000000000",
          "2018-06-07T14:51:36.000000000",
          "2018-06-23T14:51:48.000000000",
          "2018-08-26T14:52:20.000000000",
          "2018-09-11T14:52:25.000000000",
          "2018-09-27T14:52:31.000000000",
          "2018-10-29T14:52:43.000000000",
          "2019-01-17T14:52:38.000000000",
          "2019-03-22T14:52:23.000000000",
          "2019-04-07T14:52:19.000000000",
          "2019-04-23T14:52:13.000000000",
          "2019-05-09T14:52:19.000000000",
          "2019-05-25T14:52:29.000000000",
          "2019-06-10T14:52:36.000000000",
          "2019-07-12T14:52:45.000000000",
          "2019-10-16T14:53:12.000000000",
          "2020-05-27T14:52:16.000000000",
          "2020-06-28T14:52:34.000000000",
          "2020-07-30T14:52:45.000000000",
          "2020-08-15T14:52:49.000000000",
          "2020-10-18T14:53:09.000000000",
          "2021-05-30T14:52:33.000000000",
          "2021-06-15T14:52:39.000000000",
          "2021-07-01T14:52:42.000000000",
          "2021-07-17T14:52:44.000000000",
          "2021-08-02T14:52:53.000000000",
          "2021-08-18T14:52:58.000000000",
          "2021-09-19T14:53:06.000000000",
          "2021-10-21T14:53:15.000000000",
          "2021-12-08T14:53:10.000000000",
          "2022-01-01T14:53:06.000000000",
          "2022-02-02T14:53:05.000000000",
          "2022-02-18T14:52:58.000000000",
          "2022-03-22T14:52:47.000000000",
          "2022-04-07T14:52:44.000000000",
          "2022-04-15T14:52:39.000000000",
          "2022-05-01T14:52:36.000000000",
          "2022-05-25T14:51:55.000000000",
          "2022-06-02T14:52:50.000000000",
          "2022-06-10T14:52:22.000000000",
          "2022-07-20T14:53:06.000000000",
          "2022-08-13T14:53:00.000000000",
          "2022-08-21T14:53:21.000000000",
          "2022-08-29T14:53:03.000000000",
          "2022-09-06T14:53:23.000000000",
          "2022-10-08T14:53:23.000000000",
          "2022-11-17T14:53:17.000000000",
          "2022-11-25T14:53:22.000000000",
          "2022-12-03T14:53:14.000000000",
          "2022-12-11T14:53:20.000000000",
          "2022-12-19T14:53:14.000000000",
          "2023-01-04T14:53:16.000000000",
          "2023-01-20T14:53:05.000000000",
          "2023-03-09T14:52:56.000000000",
          "2023-04-18T14:52:20.000000000",
          "2023-04-26T14:52:36.000000000",
          "2023-05-04T14:52:15.000000000",
          "2023-05-12T14:52:27.000000000",
          "2023-05-20T14:52:05.000000000",
          "2023-06-21T14:52:17.000000000",
          "2023-06-29T14:52:15.000000000",
          "2023-07-15T14:52:25.000000000",
          "2023-07-31T14:52:30.000000000",
          "2023-08-08T14:52:40.000000000",
          "2023-08-16T14:52:35.000000000",
          "2023-08-24T14:52:48.000000000",
          "2023-09-17T14:52:53.000000000",
          "2023-09-25T14:52:55.000000000",
          "2023-10-03T14:52:54.000000000",
          "2023-11-20T14:53:04.000000000",
          "2024-01-15T14:52:56.000000000",
          "2024-02-08T14:53:07.000000000",
          "2024-02-24T14:52:54.000000000",
          "2024-03-27T14:52:27.000000000",
          "2024-04-04T14:52:25.000000000",
          "2024-05-06T14:52:07.000000000",
          "2024-05-14T14:52:20.000000000",
          "2024-05-30T14:52:10.000000000",
          "2024-07-01T14:52:00.000000000",
          "2024-07-25T14:52:26.000000000",
          "2024-08-02T14:52:19.000000000",
          "2024-08-26T14:52:34.000000000",
          "2024-09-19T14:52:37.000000000",
          "2024-10-05T14:52:44.000000000",
          "2024-10-13T14:52:50.000000000",
          "2024-10-29T14:52:47.000000000",
          "2024-11-30T14:53:00.000000000",
          "2025-01-01T14:52:52.000000000",
          "2025-02-26T14:52:53.000000000",
          "2025-03-14T14:52:49.000000000",
          "2025-03-30T14:52:39.000000000",
          "2025-04-07T14:52:26.000000000",
          "2025-04-15T14:52:40.000000000",
          "2025-04-23T14:52:12.000000000",
          "2025-05-01T14:52:32.000000000",
          "2025-05-09T14:52:11.000000000",
          "2025-05-17T14:52:21.000000000",
          "2025-06-10T14:52:22.000000000",
          "2025-06-18T14:52:26.000000000",
          "2025-06-26T14:52:33.000000000",
          "2025-07-12T14:52:36.000000000",
          "2025-07-20T14:52:39.000000000",
          "2025-07-28T14:52:42.000000000",
          "2025-08-05T14:52:46.000000000"
         ],
         "xaxis": "x",
         "y": {
          "bdata": "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",
          "dtype": "f8"
         },
         "yaxis": "y"
        },
        {
         "hovertemplate": "variable=rolling 180d custom mean<br>dates=%{x}<br>value=%{y}<extra></extra>",
         "legendgroup": "rolling 180d custom mean",
         "line": {
          "color": "#FFA15A",
          "dash": "solid"
         },
         "marker": {
          "symbol": "circle"
         },
         "mode": "lines",
         "name": "rolling 180d custom mean",
         "showlegend": true,
         "type": "scattergl",
         "x": [
          "1999-08-14T14:45:41.000000000",
          "2000-01-05T14:45:38.000000000",
          "2000-03-25T14:45:24.000000000",
          "2000-06-13T14:44:40.000000000",
          "2000-06-29T14:44:28.000000000",
          "2000-07-31T14:43:59.000000000",
          "2000-10-19T14:43:00.000000000",
          "2000-11-20T14:43:07.000000000",
          "2001-02-08T14:43:13.000000000",
          "2001-05-15T14:42:40.000000000",
          "2001-06-16T14:42:22.000000000",
          "2001-08-03T14:41:54.000000000",
          "2001-09-20T14:41:16.000000000",
          "2001-12-09T14:41:25.000000000",
          "2002-03-15T14:41:40.000000000",
          "2002-05-02T14:41:40.000000000",
          "2002-05-18T14:41:31.000000000",
          "2002-07-21T14:41:05.000000000",
          "2002-08-06T14:40:58.000000000",
          "2002-08-22T14:40:54.000000000",
          "2002-09-23T14:40:35.000000000",
          "2002-11-26T14:41:01.000000000",
          "2003-04-03T14:41:33.000000000",
          "2003-04-19T14:41:33.000000000",
          "2003-05-05T14:41:34.000000000",
          "2003-08-01T14:29:32.000000000",
          "2003-08-17T14:29:50.000000000",
          "2003-08-25T14:41:12.000000000",
          "2003-09-02T14:30:06.000000000",
          "2003-09-18T14:30:22.000000000",
          "2003-10-20T14:30:47.000000000",
          "2003-10-28T14:41:13.000000000",
          "2003-11-13T14:41:22.000000000",
          "2003-12-31T14:41:43.000000000",
          "2004-03-04T14:41:59.000000000",
          "2004-04-21T14:41:55.000000000",
          "2004-05-07T14:42:00.000000000",
          "2004-09-28T14:41:24.000000000",
          "2005-04-08T14:42:25.000000000",
          "2005-04-24T14:42:22.000000000",
          "2005-08-14T14:42:08.000000000",
          "2005-10-09T14:40:51.000000000",
          "2005-11-18T14:42:19.000000000",
          "2006-04-19T14:44:34.000000000",
          "2006-04-27T14:42:50.000000000",
          "2006-05-21T14:44:59.000000000",
          "2006-09-18T14:42:19.000000000",
          "2006-09-26T14:46:44.000000000",
          "2006-11-05T14:42:37.000000000",
          "2007-04-30T14:43:16.000000000",
          "2007-05-24T14:47:12.000000000",
          "2007-06-25T14:46:40.000000000",
          "2007-11-08T14:42:52.000000000",
          "2007-12-10T14:43:06.000000000",
          "2008-06-03T14:42:39.000000000",
          "2008-10-09T14:41:23.000000000",
          "2009-04-19T14:43:10.000000000",
          "2009-05-21T14:43:15.000000000",
          "2009-08-09T14:42:59.000000000",
          "2009-08-25T14:42:59.000000000",
          "2009-10-12T14:42:54.000000000",
          "2009-12-15T14:43:48.000000000",
          "2010-03-21T14:44:58.000000000",
          "2010-04-06T14:45:01.000000000",
          "2010-06-25T14:44:59.000000000",
          "2010-11-16T14:45:33.000000000",
          "2010-12-18T14:45:51.000000000",
          "2011-01-19T14:46:08.000000000",
          "2011-03-24T14:46:23.000000000",
          "2011-04-25T14:46:25.000000000",
          "2011-11-03T14:46:12.000000000",
          "2012-01-06T14:46:50.000000000",
          "2012-02-07T14:46:55.000000000",
          "2012-08-01T14:47:45.000000000",
          "2012-10-20T14:48:36.000000000",
          "2012-11-05T14:48:39.000000000",
          "2013-01-24T14:49:00.000000000",
          "2013-02-09T14:49:01.000000000",
          "2013-03-29T14:48:51.000000000",
          "2013-05-16T14:48:41.000000000",
          "2013-06-01T14:48:33.000000000",
          "2013-06-09T14:54:50.000000000",
          "2013-06-17T14:48:28.000000000",
          "2013-07-03T14:48:18.000000000",
          "2013-07-11T14:54:48.000000000",
          "2013-07-19T14:48:10.000000000",
          "2013-07-27T14:54:48.000000000",
          "2013-09-13T14:54:48.000000000",
          "2013-10-23T14:48:52.000000000",
          "2013-10-31T14:54:32.000000000",
          "2013-11-08T14:48:58.000000000",
          "2013-12-18T14:54:17.000000000",
          "2014-01-03T14:54:11.000000000",
          "2014-02-04T14:53:50.000000000",
          "2014-03-08T14:53:22.000000000",
          "2014-04-09T14:52:55.000000000",
          "2014-05-27T14:52:21.000000000",
          "2014-06-12T14:52:30.000000000",
          "2014-06-28T14:52:33.000000000",
          "2014-07-14T14:52:41.000000000",
          "2014-07-30T14:52:46.000000000",
          "2014-08-15T14:52:52.000000000",
          "2014-08-31T14:52:54.000000000",
          "2014-09-16T14:52:57.000000000",
          "2014-10-02T14:52:59.000000000",
          "2014-10-18T14:53:03.000000000",
          "2014-11-03T14:53:01.000000000",
          "2014-12-05T14:52:58.000000000",
          "2014-12-21T14:52:56.000000000",
          "2015-01-22T14:52:46.000000000",
          "2015-03-27T14:52:18.000000000",
          "2015-06-15T14:52:06.000000000",
          "2015-07-01T14:52:12.000000000",
          "2015-07-17T14:52:22.000000000",
          "2015-08-02T14:52:26.000000000",
          "2015-11-06T14:52:55.000000000",
          "2016-01-09T14:52:53.000000000",
          "2016-04-30T14:52:25.000000000",
          "2016-08-04T14:52:50.000000000",
          "2016-10-07T14:53:06.000000000",
          "2016-10-23T14:53:09.000000000",
          "2017-04-17T14:52:14.000000000",
          "2017-05-19T14:52:17.000000000",
          "2017-06-04T14:52:26.000000000",
          "2017-07-22T14:52:42.000000000",
          "2017-08-07T14:52:49.000000000",
          "2017-08-23T14:52:54.000000000",
          "2017-09-08T14:52:55.000000000",
          "2017-10-10T14:53:05.000000000",
          "2017-11-27T14:52:58.000000000",
          "2017-12-29T14:52:59.000000000",
          "2018-04-04T14:52:14.000000000",
          "2018-04-20T14:52:04.000000000",
          "2018-05-22T14:51:44.000000000",
          "2018-06-07T14:51:36.000000000",
          "2018-06-23T14:51:48.000000000",
          "2018-08-26T14:52:20.000000000",
          "2018-09-11T14:52:25.000000000",
          "2018-09-27T14:52:31.000000000",
          "2018-10-29T14:52:43.000000000",
          "2019-01-17T14:52:38.000000000",
          "2019-03-22T14:52:23.000000000",
          "2019-04-07T14:52:19.000000000",
          "2019-04-23T14:52:13.000000000",
          "2019-05-09T14:52:19.000000000",
          "2019-05-25T14:52:29.000000000",
          "2019-06-10T14:52:36.000000000",
          "2019-07-12T14:52:45.000000000",
          "2019-10-16T14:53:12.000000000",
          "2020-05-27T14:52:16.000000000",
          "2020-06-28T14:52:34.000000000",
          "2020-07-30T14:52:45.000000000",
          "2020-08-15T14:52:49.000000000",
          "2020-10-18T14:53:09.000000000",
          "2021-05-30T14:52:33.000000000",
          "2021-06-15T14:52:39.000000000",
          "2021-07-01T14:52:42.000000000",
          "2021-07-17T14:52:44.000000000",
          "2021-08-02T14:52:53.000000000",
          "2021-08-18T14:52:58.000000000",
          "2021-09-19T14:53:06.000000000",
          "2021-10-21T14:53:15.000000000",
          "2021-12-08T14:53:10.000000000",
          "2022-01-01T14:53:06.000000000",
          "2022-02-02T14:53:05.000000000",
          "2022-02-18T14:52:58.000000000",
          "2022-03-22T14:52:47.000000000",
          "2022-04-07T14:52:44.000000000",
          "2022-04-15T14:52:39.000000000",
          "2022-05-01T14:52:36.000000000",
          "2022-05-25T14:51:55.000000000",
          "2022-06-02T14:52:50.000000000",
          "2022-06-10T14:52:22.000000000",
          "2022-07-20T14:53:06.000000000",
          "2022-08-13T14:53:00.000000000",
          "2022-08-21T14:53:21.000000000",
          "2022-08-29T14:53:03.000000000",
          "2022-09-06T14:53:23.000000000",
          "2022-10-08T14:53:23.000000000",
          "2022-11-17T14:53:17.000000000",
          "2022-11-25T14:53:22.000000000",
          "2022-12-03T14:53:14.000000000",
          "2022-12-11T14:53:20.000000000",
          "2022-12-19T14:53:14.000000000",
          "2023-01-04T14:53:16.000000000",
          "2023-01-20T14:53:05.000000000",
          "2023-03-09T14:52:56.000000000",
          "2023-04-18T14:52:20.000000000",
          "2023-04-26T14:52:36.000000000",
          "2023-05-04T14:52:15.000000000",
          "2023-05-12T14:52:27.000000000",
          "2023-05-20T14:52:05.000000000",
          "2023-06-21T14:52:17.000000000",
          "2023-06-29T14:52:15.000000000",
          "2023-07-15T14:52:25.000000000",
          "2023-07-31T14:52:30.000000000",
          "2023-08-08T14:52:40.000000000",
          "2023-08-16T14:52:35.000000000",
          "2023-08-24T14:52:48.000000000",
          "2023-09-17T14:52:53.000000000",
          "2023-09-25T14:52:55.000000000",
          "2023-10-03T14:52:54.000000000",
          "2023-11-20T14:53:04.000000000",
          "2024-01-15T14:52:56.000000000",
          "2024-02-08T14:53:07.000000000",
          "2024-02-24T14:52:54.000000000",
          "2024-03-27T14:52:27.000000000",
          "2024-04-04T14:52:25.000000000",
          "2024-05-06T14:52:07.000000000",
          "2024-05-14T14:52:20.000000000",
          "2024-05-30T14:52:10.000000000",
          "2024-07-01T14:52:00.000000000",
          "2024-07-25T14:52:26.000000000",
          "2024-08-02T14:52:19.000000000",
          "2024-08-26T14:52:34.000000000",
          "2024-09-19T14:52:37.000000000",
          "2024-10-05T14:52:44.000000000",
          "2024-10-13T14:52:50.000000000",
          "2024-10-29T14:52:47.000000000",
          "2024-11-30T14:53:00.000000000",
          "2025-01-01T14:52:52.000000000",
          "2025-02-26T14:52:53.000000000",
          "2025-03-14T14:52:49.000000000",
          "2025-03-30T14:52:39.000000000",
          "2025-04-07T14:52:26.000000000",
          "2025-04-15T14:52:40.000000000",
          "2025-04-23T14:52:12.000000000",
          "2025-05-01T14:52:32.000000000",
          "2025-05-09T14:52:11.000000000",
          "2025-05-17T14:52:21.000000000",
          "2025-06-10T14:52:22.000000000",
          "2025-06-18T14:52:26.000000000",
          "2025-06-26T14:52:33.000000000",
          "2025-07-12T14:52:36.000000000",
          "2025-07-20T14:52:39.000000000",
          "2025-07-28T14:52:42.000000000",
          "2025-08-05T14:52:46.000000000"
         ],
         "xaxis": "x",
         "y": {
          "bdata": "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",
          "dtype": "f8"
         },
         "yaxis": "y"
        }
       ],
       "layout": {
        "legend": {
         "title": {
          "text": "variable"
         },
         "tracegroupgap": 0
        },
        "margin": {
         "t": 60
        },
        "template": {
         "data": {
          "bar": [
           {
            "error_x": {
             "color": "#2a3f5f"
            },
            "error_y": {
             "color": "#2a3f5f"
            },
            "marker": {
             "line": {
              "color": "#E5ECF6",
              "width": 0.5
             },
             "pattern": {
              "fillmode": "overlay",
              "size": 10,
              "solidity": 0.2
             }
            },
            "type": "bar"
           }
          ],
          "barpolar": [
           {
            "marker": {
             "line": {
              "color": "#E5ECF6",
              "width": 0.5
             },
             "pattern": {
              "fillmode": "overlay",
              "size": 10,
              "solidity": 0.2
             }
            },
            "type": "barpolar"
           }
          ],
          "carpet": [
           {
            "aaxis": {
             "endlinecolor": "#2a3f5f",
             "gridcolor": "white",
             "linecolor": "white",
             "minorgridcolor": "white",
             "startlinecolor": "#2a3f5f"
            },
            "baxis": {
             "endlinecolor": "#2a3f5f",
             "gridcolor": "white",
             "linecolor": "white",
             "minorgridcolor": "white",
             "startlinecolor": "#2a3f5f"
            },
            "type": "carpet"
           }
          ],
          "choropleth": [
           {
            "colorbar": {
             "outlinewidth": 0,
             "ticks": ""
            },
            "type": "choropleth"
           }
          ],
          "contour": [
           {
            "colorbar": {
             "outlinewidth": 0,
             "ticks": ""
            },
            "colorscale": [
             [
              0.0,
              "#0d0887"
             ],
             [
              0.1111111111111111,
              "#46039f"
             ],
             [
              0.2222222222222222,
              "#7201a8"
             ],
             [
              0.3333333333333333,
              "#9c179e"
             ],
             [
              0.4444444444444444,
              "#bd3786"
             ],
             [
              0.5555555555555556,
              "#d8576b"
             ],
             [
              0.6666666666666666,
              "#ed7953"
             ],
             [
              0.7777777777777778,
              "#fb9f3a"
             ],
             [
              0.8888888888888888,
              "#fdca26"
             ],
             [
              1.0,
              "#f0f921"
             ]
            ],
            "type": "contour"
           }
          ],
          "contourcarpet": [
           {
            "colorbar": {
             "outlinewidth": 0,
             "ticks": ""
            },
            "type": "contourcarpet"
           }
          ],
          "heatmap": [
           {
            "colorbar": {
             "outlinewidth": 0,
             "ticks": ""
            },
            "colorscale": [
             [
              0.0,
              "#0d0887"
             ],
             [
              0.1111111111111111,
              "#46039f"
             ],
             [
              0.2222222222222222,
              "#7201a8"
             ],
             [
              0.3333333333333333,
              "#9c179e"
             ],
             [
              0.4444444444444444,
              "#bd3786"
             ],
             [
              0.5555555555555556,
              "#d8576b"
             ],
             [
              0.6666666666666666,
              "#ed7953"
             ],
             [
              0.7777777777777778,
              "#fb9f3a"
             ],
             [
              0.8888888888888888,
              "#fdca26"
             ],
             [
              1.0,
              "#f0f921"
             ]
            ],
            "type": "heatmap"
           }
          ],
          "histogram": [
           {
            "marker": {
             "pattern": {
              "fillmode": "overlay",
              "size": 10,
              "solidity": 0.2
             }
            },
            "type": "histogram"
           }
          ],
          "histogram2d": [
           {
            "colorbar": {
             "outlinewidth": 0,
             "ticks": ""
            },
            "colorscale": [
             [
              0.0,
              "#0d0887"
             ],
             [
              0.1111111111111111,
              "#46039f"
             ],
             [
              0.2222222222222222,
              "#7201a8"
             ],
             [
              0.3333333333333333,
              "#9c179e"
             ],
             [
              0.4444444444444444,
              "#bd3786"
             ],
             [
              0.5555555555555556,
              "#d8576b"
             ],
             [
              0.6666666666666666,
              "#ed7953"
             ],
             [
              0.7777777777777778,
              "#fb9f3a"
             ],
             [
              0.8888888888888888,
              "#fdca26"
             ],
             [
              1.0,
              "#f0f921"
             ]
            ],
            "type": "histogram2d"
           }
          ],
          "histogram2dcontour": [
           {
            "colorbar": {
             "outlinewidth": 0,
             "ticks": ""
            },
            "colorscale": [
             [
              0.0,
              "#0d0887"
             ],
             [
              0.1111111111111111,
              "#46039f"
             ],
             [
              0.2222222222222222,
              "#7201a8"
             ],
             [
              0.3333333333333333,
              "#9c179e"
             ],
             [
              0.4444444444444444,
              "#bd3786"
             ],
             [
              0.5555555555555556,
              "#d8576b"
             ],
             [
              0.6666666666666666,
              "#ed7953"
             ],
             [
              0.7777777777777778,
              "#fb9f3a"
             ],
             [
              0.8888888888888888,
              "#fdca26"
             ],
             [
              1.0,
              "#f0f921"
             ]
            ],
            "type": "histogram2dcontour"
           }
          ],
          "mesh3d": [
           {
            "colorbar": {
             "outlinewidth": 0,
             "ticks": ""
            },
            "type": "mesh3d"
           }
          ],
          "parcoords": [
           {
            "line": {
             "colorbar": {
              "outlinewidth": 0,
              "ticks": ""
             }
            },
            "type": "parcoords"
           }
          ],
          "pie": [
           {
            "automargin": true,
            "type": "pie"
           }
          ],
          "scatter": [
           {
            "fillpattern": {
             "fillmode": "overlay",
             "size": 10,
             "solidity": 0.2
            },
            "type": "scatter"
           }
          ],
          "scatter3d": [
           {
            "line": {
             "colorbar": {
              "outlinewidth": 0,
              "ticks": ""
             }
            },
            "marker": {
             "colorbar": {
              "outlinewidth": 0,
              "ticks": ""
             }
            },
            "type": "scatter3d"
           }
          ],
          "scattercarpet": [
           {
            "marker": {
             "colorbar": {
              "outlinewidth": 0,
              "ticks": ""
             }
            },
            "type": "scattercarpet"
           }
          ],
          "scattergeo": [
           {
            "marker": {
             "colorbar": {
              "outlinewidth": 0,
              "ticks": ""
             }
            },
            "type": "scattergeo"
           }
          ],
          "scattergl": [
           {
            "marker": {
             "colorbar": {
              "outlinewidth": 0,
              "ticks": ""
             }
            },
            "type": "scattergl"
           }
          ],
          "scattermap": [
           {
            "marker": {
             "colorbar": {
              "outlinewidth": 0,
              "ticks": ""
             }
            },
            "type": "scattermap"
           }
          ],
          "scattermapbox": [
           {
            "marker": {
             "colorbar": {
              "outlinewidth": 0,
              "ticks": ""
             }
            },
            "type": "scattermapbox"
           }
          ],
          "scatterpolar": [
           {
            "marker": {
             "colorbar": {
              "outlinewidth": 0,
              "ticks": ""
             }
            },
            "type": "scatterpolar"
           }
          ],
          "scatterpolargl": [
           {
            "marker": {
             "colorbar": {
              "outlinewidth": 0,
              "ticks": ""
             }
            },
            "type": "scatterpolargl"
           }
          ],
          "scatterternary": [
           {
            "marker": {
             "colorbar": {
              "outlinewidth": 0,
              "ticks": ""
             }
            },
            "type": "scatterternary"
           }
          ],
          "surface": [
           {
            "colorbar": {
             "outlinewidth": 0,
             "ticks": ""
            },
            "colorscale": [
             [
              0.0,
              "#0d0887"
             ],
             [
              0.1111111111111111,
              "#46039f"
             ],
             [
              0.2222222222222222,
              "#7201a8"
             ],
             [
              0.3333333333333333,
              "#9c179e"
             ],
             [
              0.4444444444444444,
              "#bd3786"
             ],
             [
              0.5555555555555556,
              "#d8576b"
             ],
             [
              0.6666666666666666,
              "#ed7953"
             ],
             [
              0.7777777777777778,
              "#fb9f3a"
             ],
             [
              0.8888888888888888,
              "#fdca26"
             ],
             [
              1.0,
              "#f0f921"
             ]
            ],
            "type": "surface"
           }
          ],
          "table": [
           {
            "cells": {
             "fill": {
              "color": "#EBF0F8"
             },
             "line": {
              "color": "white"
             }
            },
            "header": {
             "fill": {
              "color": "#C8D4E3"
             },
             "line": {
              "color": "white"
             }
            },
            "type": "table"
           }
          ]
         },
         "layout": {
          "annotationdefaults": {
           "arrowcolor": "#2a3f5f",
           "arrowhead": 0,
           "arrowwidth": 1
          },
          "autotypenumbers": "strict",
          "coloraxis": {
           "colorbar": {
            "outlinewidth": 0,
            "ticks": ""
           }
          },
          "colorscale": {
           "diverging": [
            [
             0,
             "#8e0152"
            ],
            [
             0.1,
             "#c51b7d"
            ],
            [
             0.2,
             "#de77ae"
            ],
            [
             0.3,
             "#f1b6da"
            ],
            [
             0.4,
             "#fde0ef"
            ],
            [
             0.5,
             "#f7f7f7"
            ],
            [
             0.6,
             "#e6f5d0"
            ],
            [
             0.7,
             "#b8e186"
            ],
            [
             0.8,
             "#7fbc41"
            ],
            [
             0.9,
             "#4d9221"
            ],
            [
             1,
             "#276419"
            ]
           ],
           "sequential": [
            [
             0.0,
             "#0d0887"
            ],
            [
             0.1111111111111111,
             "#46039f"
            ],
            [
             0.2222222222222222,
             "#7201a8"
            ],
            [
             0.3333333333333333,
             "#9c179e"
            ],
            [
             0.4444444444444444,
             "#bd3786"
            ],
            [
             0.5555555555555556,
             "#d8576b"
            ],
            [
             0.6666666666666666,
             "#ed7953"
            ],
            [
             0.7777777777777778,
             "#fb9f3a"
            ],
            [
             0.8888888888888888,
             "#fdca26"
            ],
            [
             1.0,
             "#f0f921"
            ]
           ],
           "sequentialminus": [
            [
             0.0,
             "#0d0887"
            ],
            [
             0.1111111111111111,
             "#46039f"
            ],
            [
             0.2222222222222222,
             "#7201a8"
            ],
            [
             0.3333333333333333,
             "#9c179e"
            ],
            [
             0.4444444444444444,
             "#bd3786"
            ],
            [
             0.5555555555555556,
             "#d8576b"
            ],
            [
             0.6666666666666666,
             "#ed7953"
            ],
            [
             0.7777777777777778,
             "#fb9f3a"
            ],
            [
             0.8888888888888888,
             "#fdca26"
            ],
            [
             1.0,
             "#f0f921"
            ]
           ]
          },
          "colorway": [
           "#636efa",
           "#EF553B",
           "#00cc96",
           "#ab63fa",
           "#FFA15A",
           "#19d3f3",
           "#FF6692",
           "#B6E880",
           "#FF97FF",
           "#FECB52"
          ],
          "font": {
           "color": "#2a3f5f"
          },
          "geo": {
           "bgcolor": "white",
           "lakecolor": "white",
           "landcolor": "#E5ECF6",
           "showlakes": true,
           "showland": true,
           "subunitcolor": "white"
          },
          "hoverlabel": {
           "align": "left"
          },
          "hovermode": "closest",
          "mapbox": {
           "style": "light"
          },
          "paper_bgcolor": "white",
          "plot_bgcolor": "#E5ECF6",
          "polar": {
           "angularaxis": {
            "gridcolor": "white",
            "linecolor": "white",
            "ticks": ""
           },
           "bgcolor": "#E5ECF6",
           "radialaxis": {
            "gridcolor": "white",
            "linecolor": "white",
            "ticks": ""
           }
          },
          "scene": {
           "xaxis": {
            "backgroundcolor": "#E5ECF6",
            "gridcolor": "white",
            "gridwidth": 2,
            "linecolor": "white",
            "showbackground": true,
            "ticks": "",
            "zerolinecolor": "white"
           },
           "yaxis": {
            "backgroundcolor": "#E5ECF6",
            "gridcolor": "white",
            "gridwidth": 2,
            "linecolor": "white",
            "showbackground": true,
            "ticks": "",
            "zerolinecolor": "white"
           },
           "zaxis": {
            "backgroundcolor": "#E5ECF6",
            "gridcolor": "white",
            "gridwidth": 2,
            "linecolor": "white",
            "showbackground": true,
            "ticks": "",
            "zerolinecolor": "white"
           }
          },
          "shapedefaults": {
           "line": {
            "color": "#2a3f5f"
           }
          },
          "ternary": {
           "aaxis": {
            "gridcolor": "white",
            "linecolor": "white",
            "ticks": ""
           },
           "baxis": {
            "gridcolor": "white",
            "linecolor": "white",
            "ticks": ""
           },
           "bgcolor": "#E5ECF6",
           "caxis": {
            "gridcolor": "white",
            "linecolor": "white",
            "ticks": ""
           }
          },
          "title": {
           "x": 0.05
          },
          "xaxis": {
           "automargin": true,
           "gridcolor": "white",
           "linecolor": "white",
           "ticks": "",
           "title": {
            "standoff": 15
           },
           "zerolinecolor": "white",
           "zerolinewidth": 2
          },
          "yaxis": {
           "automargin": true,
           "gridcolor": "white",
           "linecolor": "white",
           "ticks": "",
           "title": {
            "standoff": 15
           },
           "zerolinecolor": "white",
           "zerolinewidth": 2
          }
         }
        },
        "xaxis": {
         "anchor": "y",
         "domain": [
          0.0,
          1.0
         ],
         "title": {
          "text": "dates"
         }
        },
        "yaxis": {
         "anchor": "x",
         "domain": [
          0.0,
          1.0
         ],
         "title": {
          "text": "value"
         }
        }
       }
      }
     },
     "metadata": {},
     "output_type": "display_data"
    }
   ],
   "source": [
    "f = files[files.str.contains(\"ber0001\")].iloc[0]\n",
    "# despiked_filename = f.replace(\".csv\", \"_tidally_corrected.csv\")\n",
    "df = pd.read_csv(f)\n",
    "df.dates = pd.to_datetime(df.dates)\n",
    "df.set_index(\"dates\", inplace=True)\n",
    "display(df.columns)\n",
    "import matplotlib.pyplot as plt\n",
    "\n",
    "transect_id = \"ber0001-0002\"\n",
    "\n",
    "\n",
    "def custom_mean(window):\n",
    "    return window[window.between(window.quantile(0.25), window.quantile(0.75))].mean()\n",
    "\n",
    "\n",
    "pd.DataFrame(\n",
    "    {\n",
    "        \"raw\": df[transect_id],\n",
    "        \"rolling 90d mean\": df[transect_id].rolling(\"90d\", min_periods=1).mean(),\n",
    "        \"rolling 180d mean\": df[transect_id].rolling(\"180d\", min_periods=1).mean(),\n",
    "        \"rolling 90d custom mean\": df[transect_id]\n",
    "        .rolling(\"90d\", min_periods=1)\n",
    "        .apply(custom_mean),\n",
    "        \"rolling 180d custom mean\": df[transect_id]\n",
    "        .rolling(\"180d\", min_periods=1)\n",
    "        .apply(custom_mean),\n",
    "        # \"rolling 365d\": df[transect_id].rolling(\"365d\", min_periods=1).mean(),\n",
    "    },\n",
    "    index=df.index,\n",
    ").plot()"
   ]
  },
  {
   "cell_type": "code",
   "execution_count": 8,
   "metadata": {
    "execution": {
     "iopub.execute_input": "2025-08-31T13:25:44.652255Z",
     "iopub.status.busy": "2025-08-31T13:25:44.652058Z",
     "iopub.status.idle": "2025-08-31T13:25:44.787613Z",
     "shell.execute_reply": "2025-08-31T13:25:44.786404Z"
    }
   },
   "outputs": [
    {
     "data": {
      "text/html": [
       "<pre>✔️ 48.7 ms (2025-09-01T01:25:44/2025-09-01T01:25:44)</pre>"
      ],
      "text/plain": [
       "<IPython.core.display.HTML object>"
      ]
     },
     "metadata": {},
     "output_type": "display_data"
    },
    {
     "data": {
      "application/vnd.plotly.v1+json": {
       "config": {
        "plotlyServerURL": "https://plot.ly"
       },
       "data": [
        {
         "hovertemplate": "variable=sar0939-0000<br>dates=%{x}<br>value=%{y}<extra></extra>",
         "legendgroup": "sar0939-0000",
         "line": {
          "color": "#636efa",
          "dash": "solid"
         },
         "marker": {
          "symbol": "circle"
         },
         "mode": "lines",
         "name": "sar0939-0000",
         "showlegend": true,
         "type": "scattergl",
         "x": [
          "1984-04-29T09:27:29.000000000",
          "1984-05-06T09:33:51.000000000",
          "1984-05-31T09:28:23.000000000",
          "1984-06-07T09:34:42.000000000",
          "1984-08-19T09:30:15.000000000",
          "1984-09-20T09:30:28.000000000",
          "1984-09-27T09:36:39.000000000",
          "1984-10-13T09:36:37.000000000",
          "1984-11-07T09:30:17.000000000",
          "1984-12-09T09:30:22.000000000",
          "1985-01-10T09:30:39.000000000",
          "1985-03-15T09:30:46.000000000",
          "1985-03-31T09:30:43.000000000",
          "1985-06-03T09:30:28.000000000",
          "1985-06-26T09:36:35.000000000",
          "1985-07-05T09:30:21.000000000",
          "1985-07-12T09:36:29.000000000",
          "1985-07-28T09:36:22.000000000",
          "1985-08-13T09:36:12.000000000",
          "1985-08-22T09:29:56.000000000",
          "1985-08-29T09:36:02.000000000",
          "1985-09-14T09:35:49.000000000",
          "1985-09-23T09:29:32.000000000",
          "1985-10-09T09:29:23.000000000",
          "1985-11-10T09:28:57.000000000",
          "1985-12-03T09:34:43.000000000",
          "1986-01-04T09:34:08.000000000",
          "1986-01-13T09:27:46.000000000",
          "1986-03-18T09:26:22.000000000",
          "1986-04-10T09:32:04.000000000",
          "1986-04-19T09:25:41.000000000",
          "1986-05-05T09:25:17.000000000",
          "1986-05-21T09:24:51.000000000",
          "1986-06-29T09:29:50.000000000",
          "1986-07-15T09:29:17.000000000",
          "1986-09-01T09:27:32.000000000",
          "1986-12-22T09:25:33.000000000",
          "1986-12-31T09:19:38.000000000",
          "1987-01-07T09:26:01.000000000",
          "1987-02-01T09:20:35.000000000",
          "1987-02-08T09:27:03.000000000",
          "1987-03-21T09:22:26.000000000",
          "1987-04-29T09:29:54.000000000",
          "1987-05-15T09:30:21.000000000",
          "1987-06-16T09:31:07.000000000",
          "1987-06-25T09:25:08.000000000",
          "1987-07-02T09:31:27.000000000",
          "1987-07-18T09:31:44.000000000",
          "1987-08-19T09:32:41.000000000",
          "1987-08-28T09:26:45.000000000",
          "1987-10-06T09:33:50.000000000",
          "1987-10-31T09:28:04.000000000",
          "1987-11-07T09:34:26.000000000",
          "1987-11-16T09:28:26.000000000",
          "1987-12-02T09:28:42.000000000",
          "1987-12-09T09:34:58.000000000",
          "1987-12-25T09:35:13.000000000",
          "1988-01-10T09:35:29.000000000",
          "1988-02-11T09:36:05.000000000",
          "1988-03-14T09:36:27.000000000",
          "1988-04-15T09:36:38.000000000",
          "1988-05-01T09:36:45.000000000",
          "1988-05-17T09:36:55.000000000",
          "1988-06-02T09:37:02.000000000",
          "1988-07-13T09:31:03.000000000",
          "1988-07-29T09:31:06.000000000",
          "1988-08-05T09:37:16.000000000",
          "1988-08-14T09:31:04.000000000",
          "1988-08-21T09:37:17.000000000",
          "1988-09-22T09:37:13.000000000",
          "1988-10-08T09:37:09.000000000",
          "1988-10-24T09:37:05.000000000",
          "1988-11-18T09:30:56.000000000",
          "1988-12-11T09:36:57.000000000",
          "1989-01-05T09:30:40.000000000",
          "1989-01-28T09:36:31.000000000",
          "1989-02-06T09:30:23.000000000",
          "1989-03-01T09:36:18.000000000",
          "1989-04-02T09:35:35.000000000",
          "1989-04-18T09:35:31.000000000",
          "1989-06-14T09:28:10.000000000",
          "1989-06-21T09:34:19.000000000",
          "1989-08-24T09:33:03.000000000",
          "1989-09-02T09:26:41.000000000",
          "1989-09-09T09:32:39.000000000",
          "1989-09-18T09:26:08.000000000",
          "1989-09-25T09:32:16.000000000",
          "1989-10-11T09:31:53.000000000",
          "1989-10-20T09:25:15.000000000",
          "1989-10-27T09:31:15.000000000",
          "1989-11-05T09:25:00.000000000",
          "1989-11-12T09:30:54.000000000",
          "1989-11-28T09:30:28.000000000",
          "1989-12-14T09:30:02.000000000",
          "1989-12-23T09:23:34.000000000",
          "1990-01-08T09:23:00.000000000",
          "1990-01-15T09:28:57.000000000",
          "1990-01-31T09:28:30.000000000",
          "1990-02-09T09:22:02.000000000",
          "1990-03-13T09:20:59.000000000",
          "1990-04-14T09:20:34.000000000",
          "1990-04-21T09:26:46.000000000",
          "1990-05-07T09:26:43.000000000",
          "1990-06-01T09:20:32.000000000",
          "1990-06-08T09:26:43.000000000",
          "1990-08-04T09:20:20.000000000",
          "1990-08-11T09:26:31.000000000",
          "1990-08-27T09:26:25.000000000",
          "1990-09-05T09:20:10.000000000",
          "1990-09-12T09:26:23.000000000",
          "1990-09-21T09:20:06.000000000",
          "1990-09-28T09:26:14.000000000",
          "1990-10-07T09:19:54.000000000",
          "1990-10-23T09:19:53.000000000",
          "1990-10-30T09:25:59.000000000",
          "1990-11-08T09:19:51.000000000",
          "1990-11-15T09:26:01.000000000",
          "1990-12-26T09:20:01.000000000",
          "1991-01-02T09:26:25.000000000",
          "1991-01-11T09:20:27.000000000",
          "1991-02-12T09:21:06.000000000",
          "1991-02-28T09:21:24.000000000",
          "1991-04-01T09:21:58.000000000",
          "1991-04-08T09:28:18.000000000",
          "1991-05-26T09:29:10.000000000",
          "1991-06-11T09:29:20.000000000",
          "1991-06-27T09:29:37.000000000",
          "1991-07-06T09:23:34.000000000",
          "1991-07-13T09:29:45.000000000",
          "1991-07-22T09:23:46.000000000",
          "1991-08-07T09:23:52.000000000",
          "1991-08-14T09:30:03.000000000",
          "1991-09-08T09:24:12.000000000",
          "1991-09-15T09:30:26.000000000",
          "1991-10-10T09:24:25.000000000",
          "1991-10-17T09:30:42.000000000",
          "1991-11-11T09:24:33.000000000",
          "1991-11-27T09:24:41.000000000",
          "1992-01-05T09:30:47.000000000",
          "1992-01-21T09:30:48.000000000",
          "1992-01-30T09:24:42.000000000",
          "1992-02-15T09:24:26.000000000",
          "1992-02-22T09:30:41.000000000",
          "1992-03-09T09:30:43.000000000",
          "1992-03-18T09:24:33.000000000",
          "1992-04-19T09:24:18.000000000",
          "1992-06-13T09:29:55.000000000",
          "1992-07-31T09:29:20.000000000",
          "1992-08-09T09:23:02.000000000",
          "1992-08-16T09:29:05.000000000",
          "1992-09-01T09:28:50.000000000",
          "1992-09-17T09:28:36.000000000",
          "1992-11-04T09:27:46.000000000",
          "1992-11-13T09:21:24.000000000",
          "1992-11-29T09:21:28.000000000",
          "1992-12-06T09:27:46.000000000",
          "1993-01-07T09:28:04.000000000",
          "1993-02-17T09:22:18.000000000",
          "1993-02-24T09:28:29.000000000",
          "1993-03-05T09:22:27.000000000",
          "1993-03-12T09:28:42.000000000",
          "1993-04-13T09:28:51.000000000",
          "1993-05-15T09:29:01.000000000",
          "1993-06-16T09:29:02.000000000",
          "1993-08-03T09:28:56.000000000",
          "1993-08-19T09:28:55.000000000",
          "1993-09-04T09:28:53.000000000",
          "1993-10-06T09:28:47.000000000",
          "1993-11-07T09:28:34.000000000",
          "1993-11-16T09:22:17.000000000",
          "1993-12-02T09:22:15.000000000",
          "1993-12-25T09:28:14.000000000",
          "1994-03-08T09:21:04.000000000",
          "1994-03-24T09:20:50.000000000",
          "1994-05-02T09:26:17.000000000",
          "1994-05-27T09:19:39.000000000",
          "1994-07-05T09:24:58.000000000",
          "1994-07-14T09:18:32.000000000",
          "1994-07-21T09:24:31.000000000",
          "1994-07-30T09:18:04.000000000",
          "1994-08-22T09:23:41.000000000",
          "1994-09-23T09:22:51.000000000",
          "1994-11-03T09:15:21.000000000",
          "1994-12-05T09:14:18.000000000",
          "1994-12-12T09:20:16.000000000",
          "1994-12-28T09:19:44.000000000",
          "1995-01-22T09:12:39.000000000",
          "1995-02-07T09:12:02.000000000",
          "1995-03-11T09:10:45.000000000",
          "1995-04-12T09:09:25.000000000",
          "1995-06-06T09:13:07.000000000",
          "1995-06-15T09:06:32.000000000",
          "1995-07-01T09:05:49.000000000",
          "1995-07-08T09:11:41.000000000",
          "1995-08-09T09:10:13.000000000",
          "1995-10-21T09:00:24.000000000",
          "1995-11-06T08:59:51.000000000",
          "1996-02-10T09:05:27.000000000",
          "1996-02-17T09:12:07.000000000",
          "1996-03-04T09:13:10.000000000",
          "1996-03-29T09:08:37.000000000",
          "1996-04-05T09:15:14.000000000",
          "1996-04-14T09:09:37.000000000",
          "1996-04-21T09:16:13.000000000",
          "1996-05-16T09:11:30.000000000",
          "1996-05-23T09:18:04.000000000",
          "1996-07-26T09:21:31.000000000",
          "1996-08-04T09:15:48.000000000",
          "1996-08-11T09:22:21.000000000",
          "1996-08-20T09:16:38.000000000",
          "1996-09-12T09:24:05.000000000",
          "1996-09-21T09:18:24.000000000",
          "1996-10-23T09:20:04.000000000",
          "1996-11-08T09:20:50.000000000",
          "1996-12-17T09:28:51.000000000",
          "1997-02-12T09:25:17.000000000",
          "1997-02-19T09:31:45.000000000",
          "1997-03-16T09:26:35.000000000",
          "1997-03-23T09:33:01.000000000",
          "1997-04-01T09:27:10.000000000",
          "1997-04-08T09:33:36.000000000",
          "1997-04-24T09:34:10.000000000",
          "1997-05-03T09:28:18.000000000",
          "1997-06-04T09:29:25.000000000",
          "1997-07-06T09:30:31.000000000",
          "1997-07-13T09:36:56.000000000",
          "1997-07-22T09:31:04.000000000",
          "1997-07-29T09:37:29.000000000",
          "1997-08-14T09:37:59.000000000",
          "1997-08-30T09:38:29.000000000",
          "1997-09-24T09:33:01.000000000",
          "1997-10-01T09:39:24.000000000",
          "1997-10-26T09:33:54.000000000",
          "1997-11-02T09:40:16.000000000",
          "1997-11-11T09:34:18.000000000",
          "1997-11-18T09:40:37.000000000",
          "1997-12-13T09:35:04.000000000",
          "1997-12-20T09:41:24.000000000",
          "1998-01-21T09:42:08.000000000",
          "1998-01-30T09:36:10.000000000",
          "1998-02-06T09:42:29.000000000",
          "1998-02-15T09:36:29.000000000",
          "1998-03-03T09:36:45.000000000",
          "1998-03-10T09:43:03.000000000",
          "1998-03-19T09:37:01.000000000",
          "1998-03-26T09:43:17.000000000",
          "1998-04-11T09:43:28.000000000",
          "1998-05-13T09:43:56.000000000",
          "1998-06-07T09:38:09.000000000",
          "1998-07-25T09:38:40.000000000",
          "1998-08-17T09:45:00.000000000",
          "1998-09-18T09:45:20.000000000",
          "1998-10-04T09:45:22.000000000",
          "1998-10-20T09:45:22.000000000",
          "1998-10-29T09:39:14.000000000",
          "1998-11-21T09:45:34.000000000",
          "1998-12-16T09:39:17.000000000",
          "1998-12-23T09:45:35.000000000",
          "1999-01-08T09:45:34.000000000",
          "1999-02-02T09:39:27.000000000",
          "1999-03-22T09:39:15.000000000",
          "1999-04-14T09:45:15.000000000",
          "1999-08-05T09:53:16.000000000",
          "1999-08-12T09:59:25.000000000",
          "1999-08-28T09:59:28.000000000",
          "1999-08-29T09:37:39.000000000",
          "1999-09-13T09:59:23.000000000",
          "1999-09-22T09:53:17.000000000",
          "1999-09-29T09:59:32.000000000",
          "1999-09-30T09:36:52.000000000",
          "1999-10-07T09:43:09.000000000",
          "1999-10-15T09:59:30.000000000",
          "1999-10-24T09:53:13.000000000",
          "1999-10-31T09:59:25.000000000",
          "1999-11-01T09:36:34.000000000",
          "1999-11-09T09:53:16.000000000",
          "1999-11-16T09:59:25.000000000",
          "1999-12-02T09:59:20.000000000",
          "1999-12-11T09:53:17.000000000",
          "1999-12-18T09:59:28.000000000",
          "2000-01-03T09:59:21.000000000",
          "2000-01-19T09:59:18.000000000",
          "2000-01-20T09:35:06.000000000",
          "2000-02-04T09:59:18.000000000",
          "2000-02-13T09:53:05.000000000",
          "2000-02-29T09:52:59.000000000",
          "2000-03-08T09:33:45.000000000",
          "2000-03-16T09:52:55.000000000",
          "2000-03-23T09:59:08.000000000",
          "2000-05-03T09:52:36.000000000",
          "2000-06-11T09:58:23.000000000",
          "2000-07-06T09:51:56.000000000",
          "2000-07-22T09:51:40.000000000",
          "2000-07-29T09:57:43.000000000",
          "2000-08-07T09:51:26.000000000",
          "2000-08-14T09:57:37.000000000",
          "2000-08-23T09:51:20.000000000",
          "2000-09-16T09:38:35.000000000",
          "2000-10-01T09:56:58.000000000",
          "2000-10-10T09:50:42.000000000",
          "2000-11-02T09:56:53.000000000",
          "2000-11-11T09:50:41.000000000",
          "2000-12-05T09:39:36.000000000",
          "2000-12-13T09:50:44.000000000",
          "2000-12-20T09:56:57.000000000",
          "2001-01-05T09:56:57.000000000",
          "2001-01-21T09:57:03.000000000",
          "2001-01-22T09:40:15.000000000",
          "2001-02-06T09:56:56.000000000",
          "2001-02-07T09:40:22.000000000",
          "2001-02-14T09:46:32.000000000",
          "2001-02-23T09:40:26.000000000",
          "2001-03-18T09:46:41.000000000",
          "2001-03-19T09:50:34.000000000",
          "2001-04-04T09:50:23.000000000",
          "2001-05-06T09:50:23.000000000",
          "2001-05-13T09:56:27.000000000",
          "2001-05-22T09:50:12.000000000",
          "2001-05-29T09:56:18.000000000",
          "2001-06-07T09:49:59.000000000",
          "2001-06-14T09:56:07.000000000",
          "2001-06-23T09:49:46.000000000",
          "2001-06-30T09:55:52.000000000",
          "2001-07-25T09:49:36.000000000",
          "2001-08-01T09:55:40.000000000",
          "2001-08-02T09:40:41.000000000",
          "2001-08-09T09:46:50.000000000",
          "2001-08-10T09:49:18.000000000",
          "2001-08-17T09:55:21.000000000",
          "2001-08-26T09:49:07.000000000",
          "2001-09-02T09:55:11.000000000",
          "2001-09-03T09:40:31.000000000",
          "2001-09-10T09:46:41.000000000",
          "2001-09-18T09:54:59.000000000",
          "2001-09-27T09:48:46.000000000",
          "2001-10-04T09:54:47.000000000",
          "2001-10-13T09:48:31.000000000",
          "2001-10-20T09:54:50.000000000",
          "2001-10-29T09:48:38.000000000",
          "2001-11-05T09:54:55.000000000",
          "2001-11-13T09:46:06.000000000",
          "2001-11-14T09:48:50.000000000",
          "2001-12-07T09:55:05.000000000",
          "2001-12-16T09:49:01.000000000",
          "2001-12-23T09:55:13.000000000",
          "2002-01-08T09:55:16.000000000",
          "2002-01-17T09:49:08.000000000",
          "2002-02-02T09:49:11.000000000",
          "2002-02-17T09:44:59.000000000",
          "2002-02-25T09:55:28.000000000",
          "2002-03-22T09:49:08.000000000",
          "2002-04-07T09:49:09.000000000",
          "2002-04-30T09:55:22.000000000",
          "2002-05-09T09:49:10.000000000",
          "2002-05-17T09:37:13.000000000",
          "2002-05-24T09:43:15.000000000",
          "2002-05-25T09:49:00.000000000",
          "2002-06-01T09:55:09.000000000",
          "2002-06-17T09:55:02.000000000",
          "2002-06-18T09:36:28.000000000",
          "2002-06-25T09:42:31.000000000",
          "2002-06-26T09:48:46.000000000",
          "2002-07-03T09:54:58.000000000",
          "2002-07-19T09:54:50.000000000",
          "2002-07-28T09:48:36.000000000",
          "2002-08-04T09:54:43.000000000",
          "2002-08-13T09:48:31.000000000",
          "2002-08-20T09:54:40.000000000",
          "2002-09-05T09:54:31.000000000",
          "2002-09-30T09:48:05.000000000",
          "2002-10-07T09:54:14.000000000",
          "2002-10-23T09:54:19.000000000",
          "2002-12-26T09:54:52.000000000",
          "2003-01-04T09:48:41.000000000",
          "2003-01-27T09:55:01.000000000",
          "2003-02-12T09:55:12.000000000",
          "2003-03-09T09:49:05.000000000",
          "2003-03-25T09:48:59.000000000",
          "2003-05-12T09:49:05.000000000",
          "2003-06-28T09:42:38.000000000",
          "2003-07-07T09:36:38.000000000",
          "2003-07-14T09:42:55.000000000",
          "2003-08-08T09:37:12.000000000",
          "2003-08-24T09:37:29.000000000",
          "2003-08-31T09:43:47.000000000",
          "2003-09-01T09:48:41.000000000",
          "2003-09-25T09:38:00.000000000",
          "2003-10-02T09:44:16.000000000",
          "2003-10-10T09:54:34.000000000",
          "2003-10-11T09:38:11.000000000",
          "2003-11-04T09:48:44.000000000",
          "2003-11-20T09:49:00.000000000",
          "2003-12-06T09:49:03.000000000",
          "2003-12-13T09:55:18.000000000",
          "2003-12-22T09:49:12.000000000",
          "2004-01-15T09:39:07.000000000",
          "2004-01-30T09:55:36.000000000",
          "2004-02-08T09:49:27.000000000",
          "2004-02-16T09:39:16.000000000",
          "2004-02-23T09:45:30.000000000",
          "2004-03-03T09:39:21.000000000",
          "2004-03-19T09:39:28.000000000",
          "2004-03-27T09:49:38.000000000",
          "2004-04-04T09:39:42.000000000",
          "2004-05-22T09:41:06.000000000",
          "2004-06-06T09:55:37.000000000",
          "2004-06-07T09:41:34.000000000",
          "2004-06-14T09:47:56.000000000",
          "2004-06-23T09:42:01.000000000",
          "2004-06-30T09:48:25.000000000",
          "2004-07-16T09:48:52.000000000",
          "2004-07-17T09:49:19.000000000",
          "2004-07-24T09:55:26.000000000",
          "2004-08-01T09:49:13.000000000",
          "2004-08-02T09:49:10.000000000",
          "2004-08-10T09:43:13.000000000",
          "2004-08-17T09:49:36.000000000",
          "2004-09-02T09:50:02.000000000",
          "2004-09-11T09:44:05.000000000",
          "2004-09-27T09:44:27.000000000",
          "2004-10-05T09:48:54.000000000",
          "2004-10-20T09:51:08.000000000",
          "2004-10-21T09:49:04.000000000",
          "2004-11-22T09:49:22.000000000",
          "2004-11-29T09:55:38.000000000",
          "2004-12-23T09:52:22.000000000",
          "2005-01-08T09:52:33.000000000",
          "2005-01-16T09:55:56.000000000",
          "2005-01-17T09:46:29.000000000",
          "2005-03-06T09:47:12.000000000",
          "2005-03-14T09:50:03.000000000",
          "2005-03-21T09:56:13.000000000",
          "2005-04-06T09:56:09.000000000",
          "2005-04-22T09:56:04.000000000",
          "2005-05-01T09:49:56.000000000",
          "2005-06-10T09:47:52.000000000",
          "2005-06-26T09:47:57.000000000",
          "2005-07-12T09:48:04.000000000",
          "2005-07-19T09:54:20.000000000",
          "2005-08-13T09:48:23.000000000",
          "2005-09-05T09:54:39.000000000",
          "2005-09-30T09:48:26.000000000",
          "2005-10-08T09:49:22.000000000",
          "2005-10-31T09:55:52.000000000",
          "2005-11-09T09:49:47.000000000",
          "2005-11-16T09:56:02.000000000",
          "2005-11-24T09:55:10.000000000",
          "2006-01-03T09:56:18.000000000",
          "2006-01-12T09:50:12.000000000",
          "2006-01-19T09:56:27.000000000",
          "2006-01-27T09:56:37.000000000",
          "2006-02-20T09:56:36.000000000",
          "2006-02-28T09:57:21.000000000",
          "2006-03-09T09:51:22.000000000",
          "2006-04-09T09:56:34.000000000",
          "2006-05-12T09:52:25.000000000",
          "2006-05-28T09:52:37.000000000",
          "2006-06-13T09:52:54.000000000",
          "2006-07-07T09:50:12.000000000",
          "2006-07-14T09:56:20.000000000",
          "2006-07-23T09:50:04.000000000",
          "2006-07-31T09:53:36.000000000",
          "2006-08-08T09:50:02.000000000",
          "2006-08-23T10:00:03.000000000",
          "2006-09-08T10:00:14.000000000",
          "2006-09-17T09:54:10.000000000",
          "2006-10-10T10:00:37.000000000",
          "2006-10-19T09:54:32.000000000",
          "2006-10-26T10:00:48.000000000",
          "2006-10-27T09:50:02.000000000",
          "2006-11-03T09:56:19.000000000",
          "2006-11-19T09:56:30.000000000",
          "2006-11-27T10:01:04.000000000",
          "2006-11-28T09:50:25.000000000",
          "2006-12-05T09:56:39.000000000",
          "2006-12-29T10:01:17.000000000",
          "2006-12-30T09:50:34.000000000",
          "2007-01-15T09:50:34.000000000",
          "2007-02-24T09:55:21.000000000",
          "2007-03-04T09:50:51.000000000",
          "2007-03-27T09:57:04.000000000",
          "2007-05-15T09:54:52.000000000",
          "2007-05-31T09:54:39.000000000",
          "2007-07-09T10:00:15.000000000",
          "2007-07-17T09:56:43.000000000",
          "2007-07-18T09:54:00.000000000",
          "2007-07-25T10:00:07.000000000",
          "2007-08-02T09:56:39.000000000",
          "2007-08-19T09:53:40.000000000",
          "2007-08-26T09:59:46.000000000",
          "2007-08-27T09:50:18.000000000",
          "2007-09-11T09:59:39.000000000",
          "2007-09-12T09:50:10.000000000",
          "2007-09-20T09:53:24.000000000",
          "2007-09-27T09:59:31.000000000",
          "2007-10-14T09:50:07.000000000",
          "2008-01-25T09:56:52.000000000",
          "2008-02-10T09:56:50.000000000",
          "2008-02-26T09:56:45.000000000",
          "2008-03-14T09:50:24.000000000",
          "2008-04-06T09:56:03.000000000",
          "2008-04-15T09:49:39.000000000",
          "2008-06-09T09:54:23.000000000",
          "2008-07-04T09:47:30.000000000",
          "2008-07-19T09:55:52.000000000",
          "2008-08-04T09:55:45.000000000",
          "2008-08-12T09:52:31.000000000",
          "2008-08-13T09:49:31.000000000",
          "2008-08-29T09:49:24.000000000",
          "2008-10-16T09:49:03.000000000",
          "2008-11-01T09:49:18.000000000",
          "2008-12-03T09:49:43.000000000",
          "2008-12-19T09:49:53.000000000",
          "2009-02-28T09:56:34.000000000",
          "2009-03-08T09:52:55.000000000",
          "2009-04-10T09:50:40.000000000",
          "2009-05-03T09:56:56.000000000",
          "2009-05-11T09:54:13.000000000",
          "2009-05-12T09:50:47.000000000",
          "2009-05-19T09:56:58.000000000",
          "2009-05-27T09:54:31.000000000",
          "2009-06-04T09:56:58.000000000",
          "2009-06-12T09:54:48.000000000",
          "2009-06-13T09:50:47.000000000",
          "2009-07-07T09:49:04.000000000",
          "2009-07-14T09:55:22.000000000",
          "2009-07-30T09:55:36.000000000",
          "2009-08-15T09:55:51.000000000",
          "2009-09-09T09:50:02.000000000",
          "2009-09-16T09:56:19.000000000",
          "2009-09-25T09:50:14.000000000",
          "2009-10-02T09:56:30.000000000",
          "2009-10-03T09:50:28.000000000",
          "2009-10-11T09:50:25.000000000",
          "2009-10-18T09:56:40.000000000",
          "2009-10-19T09:50:33.000000000",
          "2009-11-04T09:50:49.000000000",
          "2009-11-11T09:57:05.000000000",
          "2009-11-12T09:50:41.000000000",
          "2009-11-19T09:56:54.000000000",
          "2009-11-28T09:50:48.000000000",
          "2010-01-31T09:51:13.000000000",
          "2010-02-23T09:57:28.000000000",
          "2010-03-28T09:52:32.000000000",
          "2010-04-20T09:58:44.000000000",
          "2010-04-28T09:57:21.000000000",
          "2010-04-29T09:52:32.000000000",
          "2010-05-22T09:58:38.000000000",
          "2010-05-23T09:51:06.000000000",
          "2010-06-16T09:52:29.000000000",
          "2010-06-24T09:50:56.000000000",
          "2010-07-17T09:57:02.000000000",
          "2010-07-26T09:50:48.000000000",
          "2010-08-11T09:50:41.000000000",
          "2010-08-27T09:50:38.000000000",
          "2010-09-19T09:56:42.000000000",
          "2010-10-06T09:52:38.000000000",
          "2010-10-14T09:50:19.000000000",
          "2010-10-21T09:56:25.000000000",
          "2010-10-22T09:52:48.000000000",
          "2010-11-06T09:56:20.000000000",
          "2010-11-14T09:59:15.000000000",
          "2010-11-15T09:50:08.000000000",
          "2010-12-08T09:56:20.000000000",
          "2011-01-18T09:50:17.000000000",
          "2011-02-10T09:56:30.000000000",
          "2011-02-19T09:50:19.000000000",
          "2011-02-26T09:56:29.000000000",
          "2011-03-07T09:50:17.000000000",
          "2011-03-22T10:00:05.000000000",
          "2011-04-07T10:00:09.000000000",
          "2011-05-17T09:56:06.000000000",
          "2011-05-18T09:53:54.000000000",
          "2011-05-26T09:49:52.000000000",
          "2011-07-13T09:49:30.000000000",
          "2011-07-29T09:49:21.000000000",
          "2011-08-05T09:55:28.000000000",
          "2011-08-13T09:59:56.000000000",
          "2011-08-29T09:59:54.000000000",
          "2011-09-06T09:55:09.000000000",
          "2011-09-14T09:59:48.000000000",
          "2011-09-15T09:48:51.000000000",
          "2011-09-23T09:53:36.000000000",
          "2011-10-09T09:53:34.000000000",
          "2011-11-09T09:54:10.000000000",
          "2011-11-10T09:53:52.000000000",
          "2011-11-26T09:54:03.000000000",
          "2011-12-03T10:00:16.000000000",
          "2011-12-12T09:54:07.000000000",
          "2011-12-19T10:00:24.000000000",
          "2012-01-13T09:54:23.000000000",
          "2012-02-14T09:54:29.000000000",
          "2012-02-21T10:00:40.000000000",
          "2012-03-17T09:54:28.000000000",
          "2012-04-18T09:54:26.000000000",
          "2012-04-25T10:00:50.000000000",
          "2012-05-04T09:54:53.000000000",
          "2012-05-27T10:01:04.000000000",
          "2012-08-15T10:01:40.000000000",
          "2012-08-24T09:55:34.000000000",
          "2012-09-09T09:55:45.000000000",
          "2012-09-16T10:01:58.000000000",
          "2012-10-02T10:02:09.000000000",
          "2012-12-14T09:56:25.000000000",
          "2012-12-30T09:56:31.000000000",
          "2013-01-06T10:02:42.000000000",
          "2013-01-22T10:02:43.000000000",
          "2013-01-31T09:56:34.000000000",
          "2013-02-07T10:02:45.000000000",
          "2013-02-16T09:56:33.000000000",
          "2013-04-12T10:02:33.000000000",
          "2013-04-20T10:08:19.000000000",
          "2013-05-07T09:56:14.000000000",
          "2013-06-16T10:02:19.000000000",
          "2013-06-23T10:08:27.000000000",
          "2013-06-24T09:55:57.000000000",
          "2013-07-02T10:02:19.000000000",
          "2013-07-09T10:08:31.000000000",
          "2013-07-18T10:02:19.000000000",
          "2013-07-25T10:08:30.000000000",
          "2013-07-26T09:55:39.000000000",
          "2013-08-02T10:01:47.000000000",
          "2013-08-03T10:02:21.000000000",
          "2013-08-10T10:08:32.000000000",
          "2013-08-11T09:55:34.000000000",
          "2013-08-18T10:01:51.000000000",
          "2013-08-19T10:02:22.000000000",
          "2013-09-03T10:02:02.000000000",
          "2013-09-11T10:08:32.000000000",
          "2013-10-06T10:02:14.000000000",
          "2013-11-07T10:02:06.000000000",
          "2013-11-14T10:08:14.000000000",
          "2013-11-23T10:01:56.000000000",
          "2013-11-30T10:08:09.000000000",
          "2013-12-16T10:08:03.000000000",
          "2013-12-17T09:56:40.000000000",
          "2013-12-24T10:02:55.000000000",
          "2014-01-18T09:56:59.000000000",
          "2014-01-25T10:03:18.000000000",
          "2014-02-03T09:57:15.000000000",
          "2014-03-07T09:57:09.000000000",
          "2014-03-15T10:00:51.000000000",
          "2014-03-22T10:06:55.000000000",
          "2014-03-30T10:03:30.000000000",
          "2014-03-31T10:00:34.000000000",
          "2014-04-07T10:06:40.000000000",
          "2014-04-08T09:57:19.000000000",
          "2014-04-23T10:06:24.000000000",
          "2014-04-24T09:57:32.000000000",
          "2014-05-09T10:06:08.000000000",
          "2014-05-17T10:03:52.000000000",
          "2014-05-26T09:57:43.000000000",
          "2014-06-02T10:03:55.000000000",
          "2014-06-03T09:59:59.000000000",
          "2014-06-11T09:57:45.000000000",
          "2014-06-18T10:03:56.000000000",
          "2014-06-19T10:00:04.000000000",
          "2014-06-26T10:06:14.000000000",
          "2014-06-27T09:57:49.000000000",
          "2014-07-04T10:04:03.000000000",
          "2014-07-05T10:00:10.000000000",
          "2014-07-21T10:00:13.000000000",
          "2014-07-28T10:06:27.000000000",
          "2014-08-06T10:00:22.000000000",
          "2014-08-13T10:06:35.000000000",
          "2014-08-21T10:04:10.000000000",
          "2014-08-22T10:00:26.000000000",
          "2014-08-29T10:06:36.000000000",
          "2014-09-06T10:04:11.000000000",
          "2014-09-07T10:00:29.000000000",
          "2014-09-14T10:06:40.000000000",
          "2014-09-15T09:58:01.000000000",
          "2014-09-23T10:00:26.000000000",
          "2014-10-17T09:58:21.000000000",
          "2014-10-24T10:04:37.000000000",
          "2014-11-01T10:06:43.000000000",
          "2014-11-02T09:58:32.000000000",
          "2014-11-18T09:58:35.000000000",
          "2014-11-26T10:00:32.000000000",
          "2014-12-03T10:06:43.000000000",
          "2014-12-11T10:04:57.000000000",
          "2014-12-12T10:00:25.000000000",
          "2014-12-19T10:06:39.000000000",
          "2014-12-27T10:05:03.000000000",
          "2015-01-05T09:58:54.000000000",
          "2015-01-12T10:05:06.000000000",
          "2015-01-28T10:05:10.000000000",
          "2015-02-06T09:59:03.000000000",
          "2015-02-14T10:00:09.000000000",
          "2015-03-09T10:06:12.000000000",
          "2015-03-10T09:59:14.000000000",
          "2015-03-18T09:59:56.000000000",
          "2015-04-02T10:05:37.000000000",
          "2015-04-10T10:05:54.000000000",
          "2015-04-18T10:05:45.000000000",
          "2015-04-26T10:05:50.000000000",
          "2015-05-12T10:05:34.000000000",
          "2015-05-13T09:59:47.000000000",
          "2015-05-29T09:59:50.000000000",
          "2015-06-14T09:59:57.000000000",
          "2015-06-22T09:59:40.000000000",
          "2015-06-30T10:00:00.000000000",
          "2015-07-07T10:06:14.000000000",
          "2015-07-08T09:59:50.000000000",
          "2015-07-15T10:06:05.000000000",
          "2015-07-16T10:00:05.000000000",
          "2015-07-23T10:06:17.000000000",
          "2015-07-24T09:59:57.000000000",
          "2015-07-31T10:06:09.000000000",
          "2015-08-08T10:06:21.000000000",
          "2015-08-16T10:06:15.000000000",
          "2015-08-17T10:00:12.000000000",
          "2015-08-25T10:00:08.000000000",
          "2015-09-10T10:00:14.000000000",
          "2015-09-25T10:06:30.000000000",
          "2015-10-03T10:06:33.000000000",
          "2015-10-12T10:00:22.000000000",
          "2015-10-19T10:06:34.000000000",
          "2015-10-28T10:00:27.000000000",
          "2015-11-05T10:00:52.000000000",
          "2015-11-12T10:07:11.000000000",
          "2015-11-13T10:00:27.000000000",
          "2015-12-15T10:00:29.000000000",
          "2015-12-22T10:06:40.000000000",
          "2016-01-08T10:01:53.000000000",
          "2016-01-16T10:00:26.000000000",
          "2016-01-23T10:06:37.000000000",
          "2016-01-24T10:02:05.000000000",
          "2016-02-08T10:06:32.000000000",
          "2016-02-16T10:08:24.000000000",
          "2016-02-25T10:02:14.000000000",
          "2016-03-03T10:08:31.000000000",
          "2016-03-04T10:00:14.000000000",
          "2016-03-27T10:06:14.000000000",
          "2016-03-28T10:02:30.000000000",
          "2016-04-05T09:59:59.000000000",
          "2016-04-12T10:06:08.000000000",
          "2016-04-20T10:08:50.000000000",
          "2016-05-06T10:08:55.000000000",
          "2016-05-15T10:02:45.000000000",
          "2016-05-23T09:59:58.000000000",
          "2016-06-08T10:00:02.000000000",
          "2016-06-23T10:09:06.000000000",
          "2016-06-24T10:00:08.000000000",
          "2016-07-02T10:02:55.000000000",
          "2016-07-10T10:00:16.000000000",
          "2016-07-17T10:06:30.000000000",
          "2016-07-18T10:02:55.000000000",
          "2016-07-25T10:09:08.000000000",
          "2016-07-26T10:00:21.000000000",
          "2016-08-02T10:06:33.000000000",
          "2016-08-03T10:02:58.000000000",
          "2016-08-10T10:09:09.000000000",
          "2016-08-18T10:06:37.000000000",
          "2016-08-19T10:02:59.000000000",
          "2016-08-26T10:09:12.000000000",
          "2016-08-27T10:00:30.000000000",
          "2016-09-03T10:06:44.000000000",
          "2016-09-04T10:03:03.000000000",
          "2016-09-11T10:09:14.000000000",
          "2016-09-12T10:00:34.000000000",
          "2016-09-27T10:09:17.000000000",
          "2016-10-05T10:06:48.000000000",
          "2016-10-06T10:03:06.000000000",
          "2016-10-29T10:09:12.000000000",
          "2016-10-30T10:00:42.000000000",
          "2016-11-14T10:09:04.000000000",
          "2016-11-22T10:06:52.000000000",
          "2016-11-23T10:02:53.000000000",
          "2016-11-30T10:09:02.000000000",
          "2016-12-01T10:00:41.000000000",
          "2016-12-08T10:06:50.000000000",
          "2016-12-09T10:02:49.000000000",
          "2016-12-16T10:08:58.000000000",
          "2016-12-17T10:00:36.000000000",
          "2016-12-24T10:06:46.000000000",
          "2017-01-01T10:08:49.000000000",
          "2017-01-02T10:00:33.000000000",
          "2017-01-09T10:06:43.000000000",
          "2017-01-25T10:06:38.000000000",
          "2017-01-26T10:02:22.000000000",
          "2017-02-11T10:02:16.000000000",
          "2017-02-18T10:08:31.000000000",
          "2017-02-19T10:00:16.000000000",
          "2017-02-27T10:02:25.000000000",
          "2017-03-14T10:06:16.000000000",
          "2017-03-15T10:02:31.000000000",
          "2017-03-30T10:06:07.000000000",
          "2017-03-31T10:02:36.000000000",
          "2017-04-08T09:59:52.000000000",
          "2017-04-16T10:02:42.000000000",
          "2017-04-23T10:08:56.000000000",
          "2017-04-24T09:59:42.000000000",
          "2017-05-09T10:09:00.000000000",
          "2017-05-25T10:09:03.000000000",
          "2017-05-26T09:59:54.000000000",
          "2017-06-03T10:02:55.000000000",
          "2017-06-10T10:09:08.000000000",
          "2017-06-11T10:00:02.000000000",
          "2017-06-19T10:02:59.000000000",
          "2017-06-27T10:00:07.000000000",
          "2017-07-05T10:03:00.000000000",
          "2017-07-12T10:09:11.000000000",
          "2017-07-13T10:00:09.000000000",
          "2017-07-29T10:00:18.000000000",
          "2017-08-05T10:06:31.000000000",
          "2017-08-06T10:02:58.000000000",
          "2017-08-13T10:09:08.000000000",
          "2017-08-14T10:00:24.000000000",
          "2017-08-21T10:06:36.000000000",
          "2017-08-22T10:02:58.000000000",
          "2017-08-29T10:09:09.000000000",
          "2017-08-30T10:00:27.000000000",
          "2017-09-06T10:06:38.000000000",
          "2017-09-14T10:09:07.000000000",
          "2017-09-15T10:00:28.000000000",
          "2017-09-30T10:09:07.000000000",
          "2017-10-08T10:06:48.000000000",
          "2017-10-16T10:09:10.000000000",
          "2017-11-02T10:00:39.000000000",
          "2017-11-10T10:02:58.000000000",
          "2017-11-17T10:09:07.000000000",
          "2017-11-18T10:00:35.000000000",
          "2017-11-25T10:06:42.000000000",
          "2017-11-26T10:02:53.000000000",
          "2017-12-03T10:09:00.000000000",
          "2017-12-28T10:02:34.000000000",
          "2018-01-05T10:00:29.000000000",
          "2018-01-13T10:02:20.000000000",
          "2018-01-20T10:08:25.000000000",
          "2018-01-28T10:06:27.000000000",
          "2018-01-29T10:02:05.000000000",
          "2018-02-05T10:08:09.000000000",
          "2018-02-06T10:00:12.000000000",
          "2018-02-21T10:07:59.000000000",
          "2018-02-22T10:00:06.000000000",
          "2018-03-26T09:59:50.000000000",
          "2018-04-02T10:05:58.000000000",
          "2018-04-19T10:01:01.000000000",
          "2018-05-12T10:06:47.000000000",
          "2018-05-13T09:59:23.000000000",
          "2018-05-29T09:59:10.000000000",
          "2018-06-05T10:05:18.000000000",
          "2018-06-13T10:06:16.000000000",
          "2018-06-22T09:59:55.000000000",
          "2018-07-07T10:05:38.000000000",
          "2018-07-08T09:59:36.000000000",
          "2018-07-15T10:05:39.000000000",
          "2018-07-16T09:59:31.000000000",
          "2018-07-23T10:05:45.000000000",
          "2018-07-24T09:59:19.000000000",
          "2018-07-31T10:05:22.000000000",
          "2018-08-01T09:59:39.000000000",
          "2018-08-08T10:05:54.000000000",
          "2018-08-09T09:59:02.000000000",
          "2018-08-16T10:05:04.000000000",
          "2018-08-17T09:59:48.000000000",
          "2018-08-24T10:06:02.000000000",
          "2018-08-25T09:58:43.000000000",
          "2018-09-01T10:04:45.000000000",
          "2018-09-02T09:59:55.000000000",
          "2018-09-17T10:04:24.000000000",
          "2018-09-26T09:58:00.000000000",
          "2018-10-11T10:06:21.000000000",
          "2018-10-12T09:57:37.000000000",
          "2018-10-19T10:03:38.000000000",
          "2018-10-27T10:06:26.000000000",
          "2018-10-28T09:57:16.000000000",
          "2018-11-05T10:00:16.000000000",
          "2018-11-28T10:06:27.000000000",
          "2018-11-29T09:56:30.000000000",
          "2018-12-07T10:00:15.000000000",
          "2018-12-22T10:02:03.000000000",
          "2018-12-30T10:06:24.000000000",
          "2019-01-07T10:01:34.000000000",
          "2019-01-08T10:00:12.000000000",
          "2019-01-15T10:06:22.000000000",
          "2019-02-09T10:00:06.000000000",
          "2019-02-16T10:06:16.000000000",
          "2019-02-17T09:54:07.000000000",
          "2019-02-25T10:00:03.000000000",
          "2019-03-12T09:59:34.000000000",
          "2019-03-28T09:59:02.000000000",
          "2019-03-29T09:59:54.000000000",
          "2019-04-05T10:06:03.000000000",
          "2019-04-13T09:58:28.000000000",
          "2019-05-07T10:06:01.000000000",
          "2019-05-16T09:59:56.000000000",
          "2019-05-24T09:50:44.000000000",
          "2019-05-31T09:56:40.000000000",
          "2019-06-01T10:00:05.000000000",
          "2019-06-16T09:56:06.000000000",
          "2019-06-17T10:00:11.000000000",
          "2019-06-25T09:49:35.000000000",
          "2019-07-02T09:55:30.000000000",
          "2019-07-03T10:00:16.000000000",
          "2019-07-10T10:06:28.000000000",
          "2019-07-11T09:48:58.000000000",
          "2019-07-19T10:00:18.000000000",
          "2019-07-26T10:06:32.000000000",
          "2019-08-03T09:54:14.000000000",
          "2019-08-04T10:00:25.000000000",
          "2019-08-11T10:06:39.000000000",
          "2019-08-12T09:47:41.000000000",
          "2019-08-19T09:53:34.000000000",
          "2019-08-20T10:00:30.000000000",
          "2019-08-27T10:06:43.000000000",
          "2019-09-04T09:52:53.000000000",
          "2019-09-05T10:00:33.000000000",
          "2019-09-12T10:06:47.000000000",
          "2019-09-20T09:52:10.000000000",
          "2019-09-29T09:45:36.000000000",
          "2019-10-06T09:51:30.000000000",
          "2019-10-07T10:00:43.000000000",
          "2019-10-22T09:50:50.000000000",
          "2019-10-30T10:06:55.000000000",
          "2019-11-07T09:50:07.000000000",
          "2019-11-08T10:00:43.000000000",
          "2019-12-25T09:47:46.000000000",
          "2019-12-26T10:00:36.000000000",
          "2020-01-02T10:06:44.000000000",
          "2020-01-03T09:41:07.000000000",
          "2020-01-10T09:46:57.000000000",
          "2020-01-18T10:06:41.000000000",
          "2020-01-26T09:46:09.000000000",
          "2020-01-27T10:00:28.000000000",
          "2020-02-04T09:39:31.000000000",
          "2020-02-19T10:06:33.000000000",
          "2020-02-20T09:38:42.000000000",
          "2020-02-28T10:00:19.000000000",
          "2020-03-06T10:06:27.000000000",
          "2020-03-15T10:00:12.000000000",
          "2020-03-23T09:36:58.000000000",
          "2020-03-30T09:42:45.000000000",
          "2020-04-07T10:06:11.000000000",
          "2020-04-08T09:36:03.000000000",
          "2020-04-15T09:41:50.000000000",
          "2020-04-16T09:59:56.000000000",
          "2020-04-23T10:06:04.000000000",
          "2020-05-26T09:33:09.000000000",
          "2020-06-02T09:38:56.000000000",
          "2020-06-03T09:59:52.000000000",
          "2020-06-11T09:32:14.000000000",
          "2020-07-04T09:37:03.000000000",
          "2020-07-05T10:00:10.000000000",
          "2020-07-12T10:06:23.000000000",
          "2020-07-13T09:30:20.000000000",
          "2020-07-20T09:36:05.000000000",
          "2020-07-21T10:00:15.000000000",
          "2020-07-28T10:06:28.000000000",
          "2020-07-29T09:29:20.000000000",
          "2020-08-05T09:35:05.000000000",
          "2020-08-06T10:00:19.000000000",
          "2020-08-14T09:28:20.000000000",
          "2020-08-22T10:00:25.000000000",
          "2020-09-06T09:33:01.000000000",
          "2020-09-14T10:06:46.000000000",
          "2020-09-15T09:26:14.000000000",
          "2020-09-30T10:06:50.000000000",
          "2020-10-01T09:25:12.000000000",
          "2020-10-08T09:30:56.000000000",
          "2020-10-09T10:00:41.000000000",
          "2020-10-25T10:00:41.000000000",
          "2020-11-01T10:06:51.000000000",
          "2020-11-02T09:23:07.000000000",
          "2020-11-09T09:28:49.000000000",
          "2020-11-17T10:06:50.000000000",
          "2020-11-18T09:22:01.000000000",
          "2020-11-25T09:27:42.000000000",
          "2020-11-26T10:00:41.000000000",
          "2020-12-04T09:20:52.000000000",
          "2021-01-04T10:06:47.000000000",
          "2021-01-20T10:06:40.000000000",
          "2021-02-05T10:06:39.000000000",
          "2021-02-06T09:16:14.000000000",
          "2021-02-14T10:00:26.000000000",
          "2021-03-17T09:19:24.000000000",
          "2021-03-25T10:06:20.000000000",
          "2021-03-26T09:12:30.000000000",
          "2021-04-03T10:00:07.000000000",
          "2021-04-10T10:06:15.000000000",
          "2021-04-11T09:11:11.000000000",
          "2021-05-05T09:59:51.000000000",
          "2021-05-12T10:06:05.000000000",
          "2021-05-28T10:06:15.000000000",
          "2021-06-05T09:12:43.000000000",
          "2021-06-06T10:00:08.000000000",
          "2021-07-16T09:03:08.000000000",
          "2021-07-23T09:08:42.000000000",
          "2021-07-24T10:00:20.000000000",
          "2021-07-31T10:06:35.000000000",
          "2021-08-08T09:07:18.000000000",
          "2021-08-09T10:00:28.000000000",
          "2021-08-16T10:06:41.000000000",
          "2021-08-17T09:00:18.000000000",
          "2021-09-10T10:00:37.000000000",
          "2021-09-25T09:03:04.000000000",
          "2021-10-04T08:56:06.000000000",
          "2021-10-11T09:01:40.000000000",
          "2021-10-12T10:00:46.000000000",
          "2021-10-19T10:06:58.000000000",
          "2021-10-20T08:54:41.000000000",
          "2021-11-05T08:53:12.000000000",
          "2021-11-13T10:00:43.000000000",
          "2021-11-20T10:06:52.000000000",
          "2021-12-07T08:50:08.000000000",
          "2021-12-07T10:00:44.000000000",
          "2021-12-14T08:55:39.000000000",
          "2021-12-14T10:06:50.000000000",
          "2021-12-15T10:00:42.000000000",
          "2021-12-23T08:48:35.000000000",
          "2021-12-30T10:06:49.000000000",
          "2022-01-07T10:06:46.000000000",
          "2022-01-08T08:47:00.000000000",
          "2022-01-15T08:52:31.000000000",
          "2022-01-15T10:06:46.000000000",
          "2022-01-16T10:00:34.000000000",
          "2022-01-23T10:06:42.000000000",
          "2022-01-24T08:45:29.000000000",
          "2022-01-24T10:00:37.000000000",
          "2022-01-31T08:50:58.000000000",
          "2022-02-01T10:00:29.000000000",
          "2022-02-08T10:06:39.000000000",
          "2022-02-09T08:43:52.000000000",
          "2022-02-09T10:00:35.000000000",
          "2022-02-16T10:06:43.000000000",
          "2022-02-24T10:06:33.000000000",
          "2022-02-25T08:42:17.000000000",
          "2022-02-25T10:00:26.000000000",
          "2022-03-13T08:40:43.000000000",
          "2022-03-21T10:00:13.000000000",
          "2022-03-28T10:06:17.000000000",
          "2022-03-29T08:39:10.000000000",
          "2022-04-30T10:00:06.000000000",
          "2022-05-08T10:00:13.000000000",
          "2022-05-15T10:06:28.000000000",
          "2022-05-23T10:06:02.000000000",
          "2022-05-24T10:00:17.000000000",
          "2022-05-25T08:34:50.000000000",
          "2022-06-08T10:06:04.000000000",
          "2022-06-11T08:33:56.000000000",
          "2022-06-17T10:00:00.000000000",
          "2022-07-10T08:26:15.000000000",
          "2022-07-10T10:06:21.000000000",
          "2022-07-11T10:00:35.000000000",
          "2022-07-15T08:31:42.000000000",
          "2022-07-18T10:06:47.000000000",
          "2022-07-19T10:00:14.000000000",
          "2022-07-26T10:06:31.000000000",
          "2022-07-27T10:00:43.000000000",
          "2022-08-01T08:30:20.000000000",
          "2022-08-03T10:06:58.000000000",
          "2022-08-04T10:00:27.000000000",
          "2022-08-11T10:06:42.000000000",
          "2022-08-12T10:00:52.000000000",
          "2022-08-13T08:23:31.000000000",
          "2022-08-18T08:28:52.000000000",
          "2022-08-19T10:07:04.000000000",
          "2022-08-27T10:06:46.000000000",
          "2022-08-28T10:00:53.000000000",
          "2022-08-30T08:21:57.000000000",
          "2022-09-04T08:27:17.000000000",
          "2022-09-05T10:00:35.000000000",
          "2022-09-12T10:06:47.000000000",
          "2022-09-16T08:20:16.000000000",
          "2022-09-20T10:07:11.000000000",
          "2022-09-21T10:00:41.000000000",
          "2022-10-03T08:18:24.000000000",
          "2022-10-06T10:07:07.000000000",
          "2022-10-08T08:23:37.000000000",
          "2022-10-15T10:00:52.000000000",
          "2022-10-30T10:06:58.000000000",
          "2022-10-31T10:01:00.000000000",
          "2022-11-07T10:07:09.000000000",
          "2022-11-08T10:00:48.000000000",
          "2022-11-11T08:19:10.000000000",
          "2022-11-24T10:00:48.000000000",
          "2022-12-10T10:00:48.000000000",
          "2022-12-17T10:06:58.000000000",
          "2022-12-18T10:00:47.000000000",
          "2023-01-02T10:06:59.000000000",
          "2023-01-10T10:06:54.000000000",
          "2023-01-27T10:00:45.000000000",
          "2023-02-03T10:07:01.000000000",
          "2023-02-04T10:00:44.000000000",
          "2023-02-09T08:09:30.000000000",
          "2023-02-11T10:06:51.000000000",
          "2023-02-12T10:00:51.000000000",
          "2023-02-19T10:06:54.000000000",
          "2023-02-20T10:00:31.000000000",
          "2023-02-26T08:05:31.000000000",
          "2023-03-03T08:10:03.000000000",
          "2023-03-07T10:06:43.000000000",
          "2023-03-08T10:00:20.000000000",
          "2023-03-15T10:06:29.000000000",
          "2023-03-16T10:00:30.000000000",
          "2023-03-23T10:06:37.000000000",
          "2023-03-24T10:00:11.000000000",
          "2023-04-06T08:00:03.000000000",
          "2023-04-09T09:59:57.000000000",
          "2023-04-11T08:04:13.000000000",
          "2023-04-17T10:00:12.000000000",
          "2023-04-24T10:06:21.000000000",
          "2023-04-28T07:58:19.000000000",
          "2023-05-03T08:02:18.000000000",
          "2023-05-03T10:00:01.000000000",
          "2023-05-10T10:06:11.000000000",
          "2023-05-11T09:59:39.000000000",
          "2023-05-26T10:06:00.000000000",
          "2023-05-27T09:59:40.000000000",
          "2023-06-11T07:52:53.000000000",
          "2023-06-12T09:59:47.000000000",
          "2023-06-16T07:56:37.000000000",
          "2023-06-27T10:05:54.000000000",
          "2023-06-28T09:59:55.000000000",
          "2023-07-03T07:49:21.000000000",
          "2023-07-05T10:06:11.000000000",
          "2023-07-06T09:59:53.000000000",
          "2023-07-14T10:00:03.000000000",
          "2023-07-22T09:59:56.000000000",
          "2023-07-29T10:06:11.000000000",
          "2023-07-30T07:48:46.000000000",
          "2023-07-30T10:00:11.000000000",
          "2023-08-04T07:52:14.000000000",
          "2023-08-14T10:06:18.000000000",
          "2023-08-15T10:00:16.000000000",
          "2023-08-21T07:44:01.000000000",
          "2023-08-22T10:06:31.000000000",
          "2023-08-23T10:00:12.000000000",
          "2023-08-26T07:47:21.000000000",
          "2023-08-30T10:06:28.000000000",
          "2023-09-23T10:06:36.000000000",
          "2023-09-24T10:00:23.000000000",
          "2023-10-14T07:38:50.000000000",
          "2023-10-19T07:41:45.000000000",
          "2023-11-18T10:06:45.000000000",
          "2023-12-13T10:00:38.000000000",
          "2023-12-20T10:06:52.000000000",
          "2024-01-13T10:06:39.000000000",
          "2024-01-14T10:00:38.000000000",
          "2024-01-21T10:06:46.000000000",
          "2024-01-22T10:00:25.000000000",
          "2024-01-29T10:06:34.000000000",
          "2024-01-30T10:00:38.000000000",
          "2024-02-07T10:00:27.000000000",
          "2024-02-14T10:06:36.000000000",
          "2024-02-15T10:00:35.000000000",
          "2024-03-02T10:00:31.000000000",
          "2024-03-09T10:06:43.000000000",
          "2024-03-17T10:06:20.000000000",
          "2024-03-26T09:59:58.000000000",
          "2024-04-03T10:00:21.000000000",
          "2024-04-10T10:06:29.000000000",
          "2024-04-11T09:59:56.000000000",
          "2024-04-18T10:06:00.000000000",
          "2024-04-19T10:00:08.000000000",
          "2024-04-27T09:59:46.000000000",
          "2024-05-04T10:05:51.000000000",
          "2024-05-20T10:05:38.000000000",
          "2024-05-21T09:59:49.000000000",
          "2024-06-06T09:59:42.000000000",
          "2024-06-14T09:59:27.000000000",
          "2024-06-22T09:59:23.000000000",
          "2024-06-30T09:59:38.000000000",
          "2024-07-15T10:05:58.000000000",
          "2024-07-16T09:59:51.000000000",
          "2024-07-23T10:06:08.000000000",
          "2024-07-24T09:59:46.000000000",
          "2024-07-31T10:06:01.000000000",
          "2024-08-01T09:59:57.000000000",
          "2024-08-08T10:06:04.000000000",
          "2024-08-09T09:59:53.000000000",
          "2024-08-24T10:06:17.000000000",
          "2024-08-25T10:00:07.000000000",
          "2024-09-01T10:06:17.000000000",
          "2024-09-09T10:06:25.000000000",
          "2024-09-10T10:00:09.000000000",
          "2024-09-17T10:06:21.000000000",
          "2024-09-25T10:06:24.000000000",
          "2024-09-26T10:00:11.000000000",
          "2024-10-11T10:06:31.000000000",
          "2024-10-12T10:00:19.000000000",
          "2024-11-04T10:06:37.000000000",
          "2024-11-05T10:00:21.000000000",
          "2024-11-13T10:00:22.000000000",
          "2024-11-20T10:06:44.000000000",
          "2024-11-21T10:00:29.000000000",
          "2024-11-28T10:06:44.000000000",
          "2024-11-29T10:00:37.000000000",
          "2024-12-07T10:00:26.000000000",
          "2024-12-14T10:06:32.000000000",
          "2024-12-30T10:06:34.000000000",
          "2024-12-31T10:00:28.000000000",
          "2025-01-08T10:00:26.000000000",
          "2025-01-15T10:06:37.000000000",
          "2025-01-24T10:00:20.000000000",
          "2025-01-31T10:06:36.000000000",
          "2025-02-09T10:00:23.000000000",
          "2025-02-16T10:06:31.000000000",
          "2025-02-17T10:00:32.000000000",
          "2025-02-24T10:06:39.000000000",
          "2025-02-25T10:00:12.000000000",
          "2025-03-04T10:06:23.000000000",
          "2025-03-13T10:00:10.000000000",
          "2025-04-05T10:06:11.000000000",
          "2025-04-22T10:00:07.000000000",
          "2025-04-29T10:06:16.000000000",
          "2025-04-30T09:59:46.000000000",
          "2025-05-07T10:05:55.000000000",
          "2025-05-08T10:00:00.000000000",
          "2025-05-16T09:59:46.000000000",
          "2025-06-01T09:59:49.000000000",
          "2025-06-09T09:59:50.000000000",
          "2025-06-17T10:00:00.000000000",
          "2025-06-25T10:00:02.000000000",
          "2025-07-02T10:06:15.000000000",
          "2025-07-03T10:00:07.000000000",
          "2025-07-10T10:06:18.000000000",
          "2025-07-11T10:00:05.000000000",
          "2025-07-18T10:06:21.000000000",
          "2025-07-19T10:00:12.000000000",
          "2025-07-27T10:00:13.000000000",
          "2025-08-03T10:06:27.000000000",
          "2025-08-04T10:00:18.000000000",
          "2025-08-11T10:06:33.000000000",
          "2025-08-19T10:06:38.000000000",
          "2025-08-20T10:00:24.000000000"
         ],
         "xaxis": "x",
         "y": {
          "bdata": "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",
          "dtype": "f8"
         },
         "yaxis": "y"
        }
       ],
       "layout": {
        "legend": {
         "title": {
          "text": "variable"
         },
         "tracegroupgap": 0
        },
        "margin": {
         "t": 60
        },
        "template": {
         "data": {
          "bar": [
           {
            "error_x": {
             "color": "#2a3f5f"
            },
            "error_y": {
             "color": "#2a3f5f"
            },
            "marker": {
             "line": {
              "color": "#E5ECF6",
              "width": 0.5
             },
             "pattern": {
              "fillmode": "overlay",
              "size": 10,
              "solidity": 0.2
             }
            },
            "type": "bar"
           }
          ],
          "barpolar": [
           {
            "marker": {
             "line": {
              "color": "#E5ECF6",
              "width": 0.5
             },
             "pattern": {
              "fillmode": "overlay",
              "size": 10,
              "solidity": 0.2
             }
            },
            "type": "barpolar"
           }
          ],
          "carpet": [
           {
            "aaxis": {
             "endlinecolor": "#2a3f5f",
             "gridcolor": "white",
             "linecolor": "white",
             "minorgridcolor": "white",
             "startlinecolor": "#2a3f5f"
            },
            "baxis": {
             "endlinecolor": "#2a3f5f",
             "gridcolor": "white",
             "linecolor": "white",
             "minorgridcolor": "white",
             "startlinecolor": "#2a3f5f"
            },
            "type": "carpet"
           }
          ],
          "choropleth": [
           {
            "colorbar": {
             "outlinewidth": 0,
             "ticks": ""
            },
            "type": "choropleth"
           }
          ],
          "contour": [
           {
            "colorbar": {
             "outlinewidth": 0,
             "ticks": ""
            },
            "colorscale": [
             [
              0.0,
              "#0d0887"
             ],
             [
              0.1111111111111111,
              "#46039f"
             ],
             [
              0.2222222222222222,
              "#7201a8"
             ],
             [
              0.3333333333333333,
              "#9c179e"
             ],
             [
              0.4444444444444444,
              "#bd3786"
             ],
             [
              0.5555555555555556,
              "#d8576b"
             ],
             [
              0.6666666666666666,
              "#ed7953"
             ],
             [
              0.7777777777777778,
              "#fb9f3a"
             ],
             [
              0.8888888888888888,
              "#fdca26"
             ],
             [
              1.0,
              "#f0f921"
             ]
            ],
            "type": "contour"
           }
          ],
          "contourcarpet": [
           {
            "colorbar": {
             "outlinewidth": 0,
             "ticks": ""
            },
            "type": "contourcarpet"
           }
          ],
          "heatmap": [
           {
            "colorbar": {
             "outlinewidth": 0,
             "ticks": ""
            },
            "colorscale": [
             [
              0.0,
              "#0d0887"
             ],
             [
              0.1111111111111111,
              "#46039f"
             ],
             [
              0.2222222222222222,
              "#7201a8"
             ],
             [
              0.3333333333333333,
              "#9c179e"
             ],
             [
              0.4444444444444444,
              "#bd3786"
             ],
             [
              0.5555555555555556,
              "#d8576b"
             ],
             [
              0.6666666666666666,
              "#ed7953"
             ],
             [
              0.7777777777777778,
              "#fb9f3a"
             ],
             [
              0.8888888888888888,
              "#fdca26"
             ],
             [
              1.0,
              "#f0f921"
             ]
            ],
            "type": "heatmap"
           }
          ],
          "histogram": [
           {
            "marker": {
             "pattern": {
              "fillmode": "overlay",
              "size": 10,
              "solidity": 0.2
             }
            },
            "type": "histogram"
           }
          ],
          "histogram2d": [
           {
            "colorbar": {
             "outlinewidth": 0,
             "ticks": ""
            },
            "colorscale": [
             [
              0.0,
              "#0d0887"
             ],
             [
              0.1111111111111111,
              "#46039f"
             ],
             [
              0.2222222222222222,
              "#7201a8"
             ],
             [
              0.3333333333333333,
              "#9c179e"
             ],
             [
              0.4444444444444444,
              "#bd3786"
             ],
             [
              0.5555555555555556,
              "#d8576b"
             ],
             [
              0.6666666666666666,
              "#ed7953"
             ],
             [
              0.7777777777777778,
              "#fb9f3a"
             ],
             [
              0.8888888888888888,
              "#fdca26"
             ],
             [
              1.0,
              "#f0f921"
             ]
            ],
            "type": "histogram2d"
           }
          ],
          "histogram2dcontour": [
           {
            "colorbar": {
             "outlinewidth": 0,
             "ticks": ""
            },
            "colorscale": [
             [
              0.0,
              "#0d0887"
             ],
             [
              0.1111111111111111,
              "#46039f"
             ],
             [
              0.2222222222222222,
              "#7201a8"
             ],
             [
              0.3333333333333333,
              "#9c179e"
             ],
             [
              0.4444444444444444,
              "#bd3786"
             ],
             [
              0.5555555555555556,
              "#d8576b"
             ],
             [
              0.6666666666666666,
              "#ed7953"
             ],
             [
              0.7777777777777778,
              "#fb9f3a"
             ],
             [
              0.8888888888888888,
              "#fdca26"
             ],
             [
              1.0,
              "#f0f921"
             ]
            ],
            "type": "histogram2dcontour"
           }
          ],
          "mesh3d": [
           {
            "colorbar": {
             "outlinewidth": 0,
             "ticks": ""
            },
            "type": "mesh3d"
           }
          ],
          "parcoords": [
           {
            "line": {
             "colorbar": {
              "outlinewidth": 0,
              "ticks": ""
             }
            },
            "type": "parcoords"
           }
          ],
          "pie": [
           {
            "automargin": true,
            "type": "pie"
           }
          ],
          "scatter": [
           {
            "fillpattern": {
             "fillmode": "overlay",
             "size": 10,
             "solidity": 0.2
            },
            "type": "scatter"
           }
          ],
          "scatter3d": [
           {
            "line": {
             "colorbar": {
              "outlinewidth": 0,
              "ticks": ""
             }
            },
            "marker": {
             "colorbar": {
              "outlinewidth": 0,
              "ticks": ""
             }
            },
            "type": "scatter3d"
           }
          ],
          "scattercarpet": [
           {
            "marker": {
             "colorbar": {
              "outlinewidth": 0,
              "ticks": ""
             }
            },
            "type": "scattercarpet"
           }
          ],
          "scattergeo": [
           {
            "marker": {
             "colorbar": {
              "outlinewidth": 0,
              "ticks": ""
             }
            },
            "type": "scattergeo"
           }
          ],
          "scattergl": [
           {
            "marker": {
             "colorbar": {
              "outlinewidth": 0,
              "ticks": ""
             }
            },
            "type": "scattergl"
           }
          ],
          "scattermap": [
           {
            "marker": {
             "colorbar": {
              "outlinewidth": 0,
              "ticks": ""
             }
            },
            "type": "scattermap"
           }
          ],
          "scattermapbox": [
           {
            "marker": {
             "colorbar": {
              "outlinewidth": 0,
              "ticks": ""
             }
            },
            "type": "scattermapbox"
           }
          ],
          "scatterpolar": [
           {
            "marker": {
             "colorbar": {
              "outlinewidth": 0,
              "ticks": ""
             }
            },
            "type": "scatterpolar"
           }
          ],
          "scatterpolargl": [
           {
            "marker": {
             "colorbar": {
              "outlinewidth": 0,
              "ticks": ""
             }
            },
            "type": "scatterpolargl"
           }
          ],
          "scatterternary": [
           {
            "marker": {
             "colorbar": {
              "outlinewidth": 0,
              "ticks": ""
             }
            },
            "type": "scatterternary"
           }
          ],
          "surface": [
           {
            "colorbar": {
             "outlinewidth": 0,
             "ticks": ""
            },
            "colorscale": [
             [
              0.0,
              "#0d0887"
             ],
             [
              0.1111111111111111,
              "#46039f"
             ],
             [
              0.2222222222222222,
              "#7201a8"
             ],
             [
              0.3333333333333333,
              "#9c179e"
             ],
             [
              0.4444444444444444,
              "#bd3786"
             ],
             [
              0.5555555555555556,
              "#d8576b"
             ],
             [
              0.6666666666666666,
              "#ed7953"
             ],
             [
              0.7777777777777778,
              "#fb9f3a"
             ],
             [
              0.8888888888888888,
              "#fdca26"
             ],
             [
              1.0,
              "#f0f921"
             ]
            ],
            "type": "surface"
           }
          ],
          "table": [
           {
            "cells": {
             "fill": {
              "color": "#EBF0F8"
             },
             "line": {
              "color": "white"
             }
            },
            "header": {
             "fill": {
              "color": "#C8D4E3"
             },
             "line": {
              "color": "white"
             }
            },
            "type": "table"
           }
          ]
         },
         "layout": {
          "annotationdefaults": {
           "arrowcolor": "#2a3f5f",
           "arrowhead": 0,
           "arrowwidth": 1
          },
          "autotypenumbers": "strict",
          "coloraxis": {
           "colorbar": {
            "outlinewidth": 0,
            "ticks": ""
           }
          },
          "colorscale": {
           "diverging": [
            [
             0,
             "#8e0152"
            ],
            [
             0.1,
             "#c51b7d"
            ],
            [
             0.2,
             "#de77ae"
            ],
            [
             0.3,
             "#f1b6da"
            ],
            [
             0.4,
             "#fde0ef"
            ],
            [
             0.5,
             "#f7f7f7"
            ],
            [
             0.6,
             "#e6f5d0"
            ],
            [
             0.7,
             "#b8e186"
            ],
            [
             0.8,
             "#7fbc41"
            ],
            [
             0.9,
             "#4d9221"
            ],
            [
             1,
             "#276419"
            ]
           ],
           "sequential": [
            [
             0.0,
             "#0d0887"
            ],
            [
             0.1111111111111111,
             "#46039f"
            ],
            [
             0.2222222222222222,
             "#7201a8"
            ],
            [
             0.3333333333333333,
             "#9c179e"
            ],
            [
             0.4444444444444444,
             "#bd3786"
            ],
            [
             0.5555555555555556,
             "#d8576b"
            ],
            [
             0.6666666666666666,
             "#ed7953"
            ],
            [
             0.7777777777777778,
             "#fb9f3a"
            ],
            [
             0.8888888888888888,
             "#fdca26"
            ],
            [
             1.0,
             "#f0f921"
            ]
           ],
           "sequentialminus": [
            [
             0.0,
             "#0d0887"
            ],
            [
             0.1111111111111111,
             "#46039f"
            ],
            [
             0.2222222222222222,
             "#7201a8"
            ],
            [
             0.3333333333333333,
             "#9c179e"
            ],
            [
             0.4444444444444444,
             "#bd3786"
            ],
            [
             0.5555555555555556,
             "#d8576b"
            ],
            [
             0.6666666666666666,
             "#ed7953"
            ],
            [
             0.7777777777777778,
             "#fb9f3a"
            ],
            [
             0.8888888888888888,
             "#fdca26"
            ],
            [
             1.0,
             "#f0f921"
            ]
           ]
          },
          "colorway": [
           "#636efa",
           "#EF553B",
           "#00cc96",
           "#ab63fa",
           "#FFA15A",
           "#19d3f3",
           "#FF6692",
           "#B6E880",
           "#FF97FF",
           "#FECB52"
          ],
          "font": {
           "color": "#2a3f5f"
          },
          "geo": {
           "bgcolor": "white",
           "lakecolor": "white",
           "landcolor": "#E5ECF6",
           "showlakes": true,
           "showland": true,
           "subunitcolor": "white"
          },
          "hoverlabel": {
           "align": "left"
          },
          "hovermode": "closest",
          "mapbox": {
           "style": "light"
          },
          "paper_bgcolor": "white",
          "plot_bgcolor": "#E5ECF6",
          "polar": {
           "angularaxis": {
            "gridcolor": "white",
            "linecolor": "white",
            "ticks": ""
           },
           "bgcolor": "#E5ECF6",
           "radialaxis": {
            "gridcolor": "white",
            "linecolor": "white",
            "ticks": ""
           }
          },
          "scene": {
           "xaxis": {
            "backgroundcolor": "#E5ECF6",
            "gridcolor": "white",
            "gridwidth": 2,
            "linecolor": "white",
            "showbackground": true,
            "ticks": "",
            "zerolinecolor": "white"
           },
           "yaxis": {
            "backgroundcolor": "#E5ECF6",
            "gridcolor": "white",
            "gridwidth": 2,
            "linecolor": "white",
            "showbackground": true,
            "ticks": "",
            "zerolinecolor": "white"
           },
           "zaxis": {
            "backgroundcolor": "#E5ECF6",
            "gridcolor": "white",
            "gridwidth": 2,
            "linecolor": "white",
            "showbackground": true,
            "ticks": "",
            "zerolinecolor": "white"
           }
          },
          "shapedefaults": {
           "line": {
            "color": "#2a3f5f"
           }
          },
          "ternary": {
           "aaxis": {
            "gridcolor": "white",
            "linecolor": "white",
            "ticks": ""
           },
           "baxis": {
            "gridcolor": "white",
            "linecolor": "white",
            "ticks": ""
           },
           "bgcolor": "#E5ECF6",
           "caxis": {
            "gridcolor": "white",
            "linecolor": "white",
            "ticks": ""
           }
          },
          "title": {
           "x": 0.05
          },
          "xaxis": {
           "automargin": true,
           "gridcolor": "white",
           "linecolor": "white",
           "ticks": "",
           "title": {
            "standoff": 15
           },
           "zerolinecolor": "white",
           "zerolinewidth": 2
          },
          "yaxis": {
           "automargin": true,
           "gridcolor": "white",
           "linecolor": "white",
           "ticks": "",
           "title": {
            "standoff": 15
           },
           "zerolinecolor": "white",
           "zerolinewidth": 2
          }
         }
        },
        "xaxis": {
         "anchor": "y",
         "domain": [
          0.0,
          1.0
         ],
         "title": {
          "text": "dates"
         }
        },
        "yaxis": {
         "anchor": "x",
         "domain": [
          0.0,
          1.0
         ],
         "title": {
          "text": "value"
         }
        }
       }
      }
     },
     "metadata": {},
     "output_type": "display_data"
    }
   ],
   "source": [
    "df = pd.read_csv(\"data/sar0939/transect_time_series.csv\")\n",
    "df.dates = pd.to_datetime(df.dates)\n",
    "df.set_index(\"dates\", inplace=True)\n",
    "(df[\"sar0939-0000\"] - 93).plot()"
   ]
  },
  {
   "cell_type": "code",
   "execution_count": 9,
   "metadata": {
    "execution": {
     "iopub.execute_input": "2025-08-31T13:25:44.790465Z",
     "iopub.status.busy": "2025-08-31T13:25:44.790259Z",
     "iopub.status.idle": "2025-08-31T13:25:47.770986Z",
     "shell.execute_reply": "2025-08-31T13:25:47.769951Z"
    }
   },
   "outputs": [
    {
     "data": {
      "text/html": [
       "<pre>✔️ 2.94 s (2025-09-01T01:25:44/2025-09-01T01:25:47)</pre>"
      ],
      "text/plain": [
       "<IPython.core.display.HTML object>"
      ]
     },
     "metadata": {},
     "output_type": "display_data"
    },
    {
     "data": {
      "application/vnd.jupyter.widget-view+json": {
       "model_id": "5e4bd5381e474880bb3884a2e1d00b81",
       "version_major": 2,
       "version_minor": 0
      },
      "text/plain": [
       "  0%|          | 0/564 [00:00<?, ?it/s]"
      ]
     },
     "metadata": {},
     "output_type": "display_data"
    },
    {
     "data": {
      "text/plain": [
       "32373"
      ]
     },
     "execution_count": 9,
     "metadata": {},
     "output_type": "execute_result"
    }
   ],
   "source": [
    "def despike(chainage, threshold=40):\n",
    "    chainage = chainage.dropna()\n",
    "    chainage, dates = SDS_transects.identify_outliers(\n",
    "        chainage.tolist(), chainage.index.tolist(), threshold\n",
    "    )\n",
    "    return pd.Series(chainage, index=dates)\n",
    "\n",
    "\n",
    "def get_trends(f):\n",
    "    df = pd.read_csv(f)\n",
    "    try:\n",
    "        df.dates = pd.to_datetime(df.dates)\n",
    "    except:\n",
    "        print(f)\n",
    "    if \"sar\" in f or \"ber\" in f:\n",
    "        smoothed_filename = f.replace(\".csv\", \"_smoothed.csv\")\n",
    "        try:\n",
    "            df = pd.read_csv(smoothed_filename)\n",
    "            df.dates = pd.to_datetime(df.dates)\n",
    "        except:\n",
    "            df.dates = pd.to_datetime(df.dates)\n",
    "            df.set_index(\"dates\", inplace=True)\n",
    "            satname = df.satname\n",
    "            df = df.drop(columns=\"satname\").apply(despike, axis=0)\n",
    "            df[\"satname\"] = satname\n",
    "            df.reset_index(names=\"dates\").to_csv(\n",
    "                f.replace(\".csv\", \"_despiked.csv\"), index=False\n",
    "            )\n",
    "            for transect_id in df.drop(columns=\"satname\").columns:\n",
    "                df[transect_id] = df[transect_id].rolling(\"180d\", min_periods=1).mean()\n",
    "            df.reset_index(names=\"dates\", inplace=True)\n",
    "            df.to_csv(f.replace(\".csv\", \"_smoothed.csv\"), index=False)\n",
    "    df.index = (df.dates - df.dates.min()).dt.days / 365.25\n",
    "    df.drop(columns=[\"dates\", \"satname\", \"Unnamed: 0\"], inplace=True, errors=\"ignore\")\n",
    "    trends = []\n",
    "    for transect_id in df.columns:\n",
    "        sub_df = df[transect_id].dropna()\n",
    "        if not len(sub_df):\n",
    "            continue\n",
    "        x = sub_df.index.to_numpy().reshape(-1, 1)\n",
    "        y = sub_df\n",
    "        linear_model = LinearRegression().fit(x, y)\n",
    "        pred = linear_model.predict(x)\n",
    "        trends.append(\n",
    "            {\n",
    "                \"transect_id\": transect_id,\n",
    "                \"trend\": linear_model.coef_[0],\n",
    "                \"intercept\": linear_model.intercept_,\n",
    "                \"n_points\": len(df[transect_id]),\n",
    "                \"n_points_nonan\": len(sub_df),\n",
    "                \"r2_score\": r2_score(y, pred),\n",
    "                \"mae\": mean_absolute_error(y, pred),\n",
    "                \"mse\": mean_squared_error(y, pred),\n",
    "                \"rmse\": root_mean_squared_error(y, pred),\n",
    "            }\n",
    "        )\n",
    "    return pd.DataFrame(trends)\n",
    "\n",
    "\n",
    "# trends = get_trends(sar_files.iloc[-1]).set_index(\"transect_id\")\n",
    "trends = pd.concat(process_map(get_trends, my_files)).set_index(\"transect_id\")\n",
    "len(trends)"
   ]
  },
  {
   "cell_type": "code",
   "execution_count": 10,
   "metadata": {
    "execution": {
     "iopub.execute_input": "2025-08-31T13:25:47.774292Z",
     "iopub.status.busy": "2025-08-31T13:25:47.774083Z",
     "iopub.status.idle": "2025-08-31T13:25:47.901377Z",
     "shell.execute_reply": "2025-08-31T13:25:47.900645Z"
    }
   },
   "outputs": [
    {
     "data": {
      "text/html": [
       "<pre>✔️ 18 ms (2025-09-01T01:25:47/2025-09-01T01:25:47)</pre>"
      ],
      "text/plain": [
       "<IPython.core.display.HTML object>"
      ]
     },
     "metadata": {},
     "output_type": "display_data"
    },
    {
     "data": {
      "text/html": [
       "<div>\n",
       "<style scoped>\n",
       "    .dataframe tbody tr th:only-of-type {\n",
       "        vertical-align: middle;\n",
       "    }\n",
       "\n",
       "    .dataframe tbody tr th {\n",
       "        vertical-align: top;\n",
       "    }\n",
       "\n",
       "    .dataframe thead th {\n",
       "        text-align: right;\n",
       "    }\n",
       "</style>\n",
       "<table border=\"1\" class=\"dataframe\">\n",
       "  <thead>\n",
       "    <tr style=\"text-align: right;\">\n",
       "      <th></th>\n",
       "      <th>trend</th>\n",
       "      <th>intercept</th>\n",
       "      <th>n_points</th>\n",
       "      <th>n_points_nonan</th>\n",
       "      <th>r2_score</th>\n",
       "      <th>mae</th>\n",
       "      <th>mse</th>\n",
       "      <th>rmse</th>\n",
       "    </tr>\n",
       "    <tr>\n",
       "      <th>transect_id</th>\n",
       "      <th></th>\n",
       "      <th></th>\n",
       "      <th></th>\n",
       "      <th></th>\n",
       "      <th></th>\n",
       "      <th></th>\n",
       "      <th></th>\n",
       "      <th></th>\n",
       "    </tr>\n",
       "  </thead>\n",
       "  <tbody>\n",
       "    <tr>\n",
       "      <th>nzd0431-0015</th>\n",
       "      <td>-0.000036</td>\n",
       "      <td>366.186580</td>\n",
       "      <td>540</td>\n",
       "      <td>391</td>\n",
       "      <td>3.259719e-10</td>\n",
       "      <td>11.601473</td>\n",
       "      <td>215.766647</td>\n",
       "      <td>14.688997</td>\n",
       "    </tr>\n",
       "    <tr>\n",
       "      <th>nzd0096-0005</th>\n",
       "      <td>0.000075</td>\n",
       "      <td>367.077323</td>\n",
       "      <td>293</td>\n",
       "      <td>197</td>\n",
       "      <td>6.685417e-10</td>\n",
       "      <td>17.207332</td>\n",
       "      <td>457.713592</td>\n",
       "      <td>21.394242</td>\n",
       "    </tr>\n",
       "    <tr>\n",
       "      <th>nzd0252-0022</th>\n",
       "      <td>-0.000087</td>\n",
       "      <td>311.449858</td>\n",
       "      <td>344</td>\n",
       "      <td>237</td>\n",
       "      <td>1.223139e-09</td>\n",
       "      <td>14.626887</td>\n",
       "      <td>339.816075</td>\n",
       "      <td>18.434101</td>\n",
       "    </tr>\n",
       "    <tr>\n",
       "      <th>nzd0359-0072</th>\n",
       "      <td>0.000048</td>\n",
       "      <td>349.976585</td>\n",
       "      <td>493</td>\n",
       "      <td>353</td>\n",
       "      <td>1.902363e-09</td>\n",
       "      <td>6.248942</td>\n",
       "      <td>71.303735</td>\n",
       "      <td>8.444154</td>\n",
       "    </tr>\n",
       "    <tr>\n",
       "      <th>nzd0404-0171</th>\n",
       "      <td>-0.000095</td>\n",
       "      <td>316.349783</td>\n",
       "      <td>552</td>\n",
       "      <td>454</td>\n",
       "      <td>2.773332e-09</td>\n",
       "      <td>10.998206</td>\n",
       "      <td>190.340365</td>\n",
       "      <td>13.796390</td>\n",
       "    </tr>\n",
       "    <tr>\n",
       "      <th>...</th>\n",
       "      <td>...</td>\n",
       "      <td>...</td>\n",
       "      <td>...</td>\n",
       "      <td>...</td>\n",
       "      <td>...</td>\n",
       "      <td>...</td>\n",
       "      <td>...</td>\n",
       "      <td>...</td>\n",
       "    </tr>\n",
       "    <tr>\n",
       "      <th>nzd0121-0001</th>\n",
       "      <td>15.046272</td>\n",
       "      <td>275.304171</td>\n",
       "      <td>172</td>\n",
       "      <td>108</td>\n",
       "      <td>9.436296e-01</td>\n",
       "      <td>21.794963</td>\n",
       "      <td>787.151299</td>\n",
       "      <td>28.056217</td>\n",
       "    </tr>\n",
       "    <tr>\n",
       "      <th>nzd0121-0002</th>\n",
       "      <td>15.309330</td>\n",
       "      <td>250.088130</td>\n",
       "      <td>172</td>\n",
       "      <td>111</td>\n",
       "      <td>9.438529e-01</td>\n",
       "      <td>22.016239</td>\n",
       "      <td>777.948935</td>\n",
       "      <td>27.891736</td>\n",
       "    </tr>\n",
       "    <tr>\n",
       "      <th>nzd0121-0003</th>\n",
       "      <td>14.527931</td>\n",
       "      <td>243.590620</td>\n",
       "      <td>172</td>\n",
       "      <td>116</td>\n",
       "      <td>9.444384e-01</td>\n",
       "      <td>19.819520</td>\n",
       "      <td>676.388746</td>\n",
       "      <td>26.007475</td>\n",
       "    </tr>\n",
       "    <tr>\n",
       "      <th>nzd0121-0005</th>\n",
       "      <td>14.351756</td>\n",
       "      <td>207.715488</td>\n",
       "      <td>172</td>\n",
       "      <td>115</td>\n",
       "      <td>9.495681e-01</td>\n",
       "      <td>20.341560</td>\n",
       "      <td>622.917772</td>\n",
       "      <td>24.958321</td>\n",
       "    </tr>\n",
       "    <tr>\n",
       "      <th>nzd0121-0006</th>\n",
       "      <td>14.267696</td>\n",
       "      <td>190.486846</td>\n",
       "      <td>172</td>\n",
       "      <td>115</td>\n",
       "      <td>9.501103e-01</td>\n",
       "      <td>19.631684</td>\n",
       "      <td>592.746482</td>\n",
       "      <td>24.346385</td>\n",
       "    </tr>\n",
       "  </tbody>\n",
       "</table>\n",
       "<p>32372 rows × 8 columns</p>\n",
       "</div>"
      ],
      "text/plain": [
       "                  trend   intercept  n_points  n_points_nonan      r2_score  \\\n",
       "transect_id                                                                   \n",
       "nzd0431-0015  -0.000036  366.186580       540             391  3.259719e-10   \n",
       "nzd0096-0005   0.000075  367.077323       293             197  6.685417e-10   \n",
       "nzd0252-0022  -0.000087  311.449858       344             237  1.223139e-09   \n",
       "nzd0359-0072   0.000048  349.976585       493             353  1.902363e-09   \n",
       "nzd0404-0171  -0.000095  316.349783       552             454  2.773332e-09   \n",
       "...                 ...         ...       ...             ...           ...   \n",
       "nzd0121-0001  15.046272  275.304171       172             108  9.436296e-01   \n",
       "nzd0121-0002  15.309330  250.088130       172             111  9.438529e-01   \n",
       "nzd0121-0003  14.527931  243.590620       172             116  9.444384e-01   \n",
       "nzd0121-0005  14.351756  207.715488       172             115  9.495681e-01   \n",
       "nzd0121-0006  14.267696  190.486846       172             115  9.501103e-01   \n",
       "\n",
       "                    mae         mse       rmse  \n",
       "transect_id                                     \n",
       "nzd0431-0015  11.601473  215.766647  14.688997  \n",
       "nzd0096-0005  17.207332  457.713592  21.394242  \n",
       "nzd0252-0022  14.626887  339.816075  18.434101  \n",
       "nzd0359-0072   6.248942   71.303735   8.444154  \n",
       "nzd0404-0171  10.998206  190.340365  13.796390  \n",
       "...                 ...         ...        ...  \n",
       "nzd0121-0001  21.794963  787.151299  28.056217  \n",
       "nzd0121-0002  22.016239  777.948935  27.891736  \n",
       "nzd0121-0003  19.819520  676.388746  26.007475  \n",
       "nzd0121-0005  20.341560  622.917772  24.958321  \n",
       "nzd0121-0006  19.631684  592.746482  24.346385  \n",
       "\n",
       "[32372 rows x 8 columns]"
      ]
     },
     "execution_count": 10,
     "metadata": {},
     "output_type": "execute_result"
    }
   ],
   "source": [
    "trends[trends.n_points_nonan > 10].sort_values(\"r2_score\")"
   ]
  },
  {
   "cell_type": "code",
   "execution_count": 11,
   "metadata": {
    "execution": {
     "iopub.execute_input": "2025-08-31T13:25:47.904498Z",
     "iopub.status.busy": "2025-08-31T13:25:47.904321Z",
     "iopub.status.idle": "2025-08-31T13:25:48.041669Z",
     "shell.execute_reply": "2025-08-31T13:25:48.040572Z"
    }
   },
   "outputs": [
    {
     "data": {
      "text/html": [
       "<pre>✔️ 15.2 ms (2025-09-01T01:25:47/2025-09-01T01:25:47)</pre>"
      ],
      "text/plain": [
       "<IPython.core.display.HTML object>"
      ]
     },
     "metadata": {},
     "output_type": "display_data"
    },
    {
     "data": {
      "text/html": [
       "<div>\n",
       "<style scoped>\n",
       "    .dataframe tbody tr th:only-of-type {\n",
       "        vertical-align: middle;\n",
       "    }\n",
       "\n",
       "    .dataframe tbody tr th {\n",
       "        vertical-align: top;\n",
       "    }\n",
       "\n",
       "    .dataframe thead th {\n",
       "        text-align: right;\n",
       "    }\n",
       "</style>\n",
       "<table border=\"1\" class=\"dataframe\">\n",
       "  <thead>\n",
       "    <tr style=\"text-align: right;\">\n",
       "      <th></th>\n",
       "      <th>trend</th>\n",
       "      <th>intercept</th>\n",
       "      <th>n_points</th>\n",
       "      <th>n_points_nonan</th>\n",
       "      <th>r2_score</th>\n",
       "      <th>mae</th>\n",
       "      <th>mse</th>\n",
       "      <th>rmse</th>\n",
       "    </tr>\n",
       "    <tr>\n",
       "      <th>transect_id</th>\n",
       "      <th></th>\n",
       "      <th></th>\n",
       "      <th></th>\n",
       "      <th></th>\n",
       "      <th></th>\n",
       "      <th></th>\n",
       "      <th></th>\n",
       "      <th></th>\n",
       "    </tr>\n",
       "  </thead>\n",
       "  <tbody>\n",
       "    <tr>\n",
       "      <th>ber0001-0000</th>\n",
       "      <td>-0.462662</td>\n",
       "      <td>172.942131</td>\n",
       "      <td>217</td>\n",
       "      <td>217</td>\n",
       "      <td>4.091450e-01</td>\n",
       "      <td>3.194084</td>\n",
       "      <td>19.180097</td>\n",
       "      <td>4.379509</td>\n",
       "    </tr>\n",
       "    <tr>\n",
       "      <th>ber0001-0001</th>\n",
       "      <td>-0.377595</td>\n",
       "      <td>164.045559</td>\n",
       "      <td>217</td>\n",
       "      <td>217</td>\n",
       "      <td>4.158845e-01</td>\n",
       "      <td>2.616221</td>\n",
       "      <td>12.425027</td>\n",
       "      <td>3.524915</td>\n",
       "    </tr>\n",
       "    <tr>\n",
       "      <th>ber0001-0002</th>\n",
       "      <td>-0.237611</td>\n",
       "      <td>162.250470</td>\n",
       "      <td>217</td>\n",
       "      <td>217</td>\n",
       "      <td>1.909726e-01</td>\n",
       "      <td>2.813023</td>\n",
       "      <td>14.840370</td>\n",
       "      <td>3.852320</td>\n",
       "    </tr>\n",
       "    <tr>\n",
       "      <th>ber0001-0003</th>\n",
       "      <td>-0.231374</td>\n",
       "      <td>162.928497</td>\n",
       "      <td>217</td>\n",
       "      <td>217</td>\n",
       "      <td>1.937340e-01</td>\n",
       "      <td>2.681119</td>\n",
       "      <td>13.823584</td>\n",
       "      <td>3.718008</td>\n",
       "    </tr>\n",
       "    <tr>\n",
       "      <th>ber0001-0004</th>\n",
       "      <td>-0.244762</td>\n",
       "      <td>163.289489</td>\n",
       "      <td>217</td>\n",
       "      <td>217</td>\n",
       "      <td>1.915469e-01</td>\n",
       "      <td>3.092245</td>\n",
       "      <td>15.688707</td>\n",
       "      <td>3.960897</td>\n",
       "    </tr>\n",
       "    <tr>\n",
       "      <th>ber0001-0005</th>\n",
       "      <td>-0.203432</td>\n",
       "      <td>160.599356</td>\n",
       "      <td>217</td>\n",
       "      <td>217</td>\n",
       "      <td>1.253129e-01</td>\n",
       "      <td>3.317711</td>\n",
       "      <td>17.923198</td>\n",
       "      <td>4.233580</td>\n",
       "    </tr>\n",
       "    <tr>\n",
       "      <th>ber0001-0006</th>\n",
       "      <td>-0.104889</td>\n",
       "      <td>157.413329</td>\n",
       "      <td>217</td>\n",
       "      <td>217</td>\n",
       "      <td>3.142298e-02</td>\n",
       "      <td>3.673513</td>\n",
       "      <td>21.040842</td>\n",
       "      <td>4.587030</td>\n",
       "    </tr>\n",
       "    <tr>\n",
       "      <th>ber0001-0007</th>\n",
       "      <td>-0.156261</td>\n",
       "      <td>160.676732</td>\n",
       "      <td>217</td>\n",
       "      <td>217</td>\n",
       "      <td>9.869806e-02</td>\n",
       "      <td>2.977771</td>\n",
       "      <td>13.835097</td>\n",
       "      <td>3.719556</td>\n",
       "    </tr>\n",
       "    <tr>\n",
       "      <th>ber0001-0008</th>\n",
       "      <td>-0.392455</td>\n",
       "      <td>166.533154</td>\n",
       "      <td>217</td>\n",
       "      <td>217</td>\n",
       "      <td>5.216501e-01</td>\n",
       "      <td>2.195485</td>\n",
       "      <td>8.763265</td>\n",
       "      <td>2.960281</td>\n",
       "    </tr>\n",
       "    <tr>\n",
       "      <th>ber0001-0009</th>\n",
       "      <td>-0.318971</td>\n",
       "      <td>165.491387</td>\n",
       "      <td>217</td>\n",
       "      <td>217</td>\n",
       "      <td>4.113697e-01</td>\n",
       "      <td>2.291076</td>\n",
       "      <td>9.033018</td>\n",
       "      <td>3.005498</td>\n",
       "    </tr>\n",
       "    <tr>\n",
       "      <th>ber0002-0000</th>\n",
       "      <td>0.342658</td>\n",
       "      <td>143.257489</td>\n",
       "      <td>199</td>\n",
       "      <td>197</td>\n",
       "      <td>1.280613e-01</td>\n",
       "      <td>5.146820</td>\n",
       "      <td>43.763337</td>\n",
       "      <td>6.615386</td>\n",
       "    </tr>\n",
       "    <tr>\n",
       "      <th>ber0002-0001</th>\n",
       "      <td>-0.044439</td>\n",
       "      <td>124.193301</td>\n",
       "      <td>199</td>\n",
       "      <td>198</td>\n",
       "      <td>4.000118e-03</td>\n",
       "      <td>3.990024</td>\n",
       "      <td>27.431579</td>\n",
       "      <td>5.237516</td>\n",
       "    </tr>\n",
       "    <tr>\n",
       "      <th>ber0002-0002</th>\n",
       "      <td>-0.004414</td>\n",
       "      <td>124.217151</td>\n",
       "      <td>199</td>\n",
       "      <td>198</td>\n",
       "      <td>3.776566e-05</td>\n",
       "      <td>4.089086</td>\n",
       "      <td>28.778088</td>\n",
       "      <td>5.364521</td>\n",
       "    </tr>\n",
       "    <tr>\n",
       "      <th>ber0002-0003</th>\n",
       "      <td>-0.088823</td>\n",
       "      <td>126.080845</td>\n",
       "      <td>199</td>\n",
       "      <td>198</td>\n",
       "      <td>1.557075e-02</td>\n",
       "      <td>4.183383</td>\n",
       "      <td>27.826626</td>\n",
       "      <td>5.275095</td>\n",
       "    </tr>\n",
       "    <tr>\n",
       "      <th>ber0002-0004</th>\n",
       "      <td>-0.035432</td>\n",
       "      <td>123.893841</td>\n",
       "      <td>199</td>\n",
       "      <td>197</td>\n",
       "      <td>2.965913e-03</td>\n",
       "      <td>3.923212</td>\n",
       "      <td>23.521058</td>\n",
       "      <td>4.849851</td>\n",
       "    </tr>\n",
       "    <tr>\n",
       "      <th>ber0002-0005</th>\n",
       "      <td>-0.000366</td>\n",
       "      <td>123.961417</td>\n",
       "      <td>199</td>\n",
       "      <td>197</td>\n",
       "      <td>3.297592e-07</td>\n",
       "      <td>3.789184</td>\n",
       "      <td>22.626797</td>\n",
       "      <td>4.756763</td>\n",
       "    </tr>\n",
       "    <tr>\n",
       "      <th>ber0002-0006</th>\n",
       "      <td>0.022537</td>\n",
       "      <td>124.965195</td>\n",
       "      <td>199</td>\n",
       "      <td>197</td>\n",
       "      <td>1.209053e-03</td>\n",
       "      <td>3.915333</td>\n",
       "      <td>23.384722</td>\n",
       "      <td>4.835775</td>\n",
       "    </tr>\n",
       "    <tr>\n",
       "      <th>ber0002-0007</th>\n",
       "      <td>0.043525</td>\n",
       "      <td>124.593984</td>\n",
       "      <td>199</td>\n",
       "      <td>197</td>\n",
       "      <td>3.950463e-03</td>\n",
       "      <td>4.189945</td>\n",
       "      <td>26.621844</td>\n",
       "      <td>5.159636</td>\n",
       "    </tr>\n",
       "    <tr>\n",
       "      <th>ber0002-0008</th>\n",
       "      <td>0.022019</td>\n",
       "      <td>126.373199</td>\n",
       "      <td>199</td>\n",
       "      <td>197</td>\n",
       "      <td>9.159122e-04</td>\n",
       "      <td>4.439873</td>\n",
       "      <td>29.475248</td>\n",
       "      <td>5.429111</td>\n",
       "    </tr>\n",
       "    <tr>\n",
       "      <th>ber0002-0009</th>\n",
       "      <td>0.159612</td>\n",
       "      <td>127.283966</td>\n",
       "      <td>199</td>\n",
       "      <td>199</td>\n",
       "      <td>4.146091e-02</td>\n",
       "      <td>4.326802</td>\n",
       "      <td>33.378983</td>\n",
       "      <td>5.777455</td>\n",
       "    </tr>\n",
       "    <tr>\n",
       "      <th>ber0002-0010</th>\n",
       "      <td>0.071946</td>\n",
       "      <td>128.858980</td>\n",
       "      <td>199</td>\n",
       "      <td>197</td>\n",
       "      <td>1.073030e-02</td>\n",
       "      <td>4.357300</td>\n",
       "      <td>26.732016</td>\n",
       "      <td>5.170301</td>\n",
       "    </tr>\n",
       "    <tr>\n",
       "      <th>ber0002-0011</th>\n",
       "      <td>0.081426</td>\n",
       "      <td>129.347401</td>\n",
       "      <td>199</td>\n",
       "      <td>198</td>\n",
       "      <td>1.182336e-02</td>\n",
       "      <td>4.779105</td>\n",
       "      <td>31.534469</td>\n",
       "      <td>5.615556</td>\n",
       "    </tr>\n",
       "    <tr>\n",
       "      <th>ber0002-0012</th>\n",
       "      <td>0.032630</td>\n",
       "      <td>130.592921</td>\n",
       "      <td>199</td>\n",
       "      <td>197</td>\n",
       "      <td>2.116556e-03</td>\n",
       "      <td>4.463024</td>\n",
       "      <td>28.118400</td>\n",
       "      <td>5.302679</td>\n",
       "    </tr>\n",
       "    <tr>\n",
       "      <th>ber0002-0013</th>\n",
       "      <td>0.184478</td>\n",
       "      <td>136.265615</td>\n",
       "      <td>199</td>\n",
       "      <td>199</td>\n",
       "      <td>4.977507e-02</td>\n",
       "      <td>4.886920</td>\n",
       "      <td>36.819225</td>\n",
       "      <td>6.067885</td>\n",
       "    </tr>\n",
       "  </tbody>\n",
       "</table>\n",
       "</div>"
      ],
      "text/plain": [
       "                 trend   intercept  n_points  n_points_nonan      r2_score  \\\n",
       "transect_id                                                                  \n",
       "ber0001-0000 -0.462662  172.942131       217             217  4.091450e-01   \n",
       "ber0001-0001 -0.377595  164.045559       217             217  4.158845e-01   \n",
       "ber0001-0002 -0.237611  162.250470       217             217  1.909726e-01   \n",
       "ber0001-0003 -0.231374  162.928497       217             217  1.937340e-01   \n",
       "ber0001-0004 -0.244762  163.289489       217             217  1.915469e-01   \n",
       "ber0001-0005 -0.203432  160.599356       217             217  1.253129e-01   \n",
       "ber0001-0006 -0.104889  157.413329       217             217  3.142298e-02   \n",
       "ber0001-0007 -0.156261  160.676732       217             217  9.869806e-02   \n",
       "ber0001-0008 -0.392455  166.533154       217             217  5.216501e-01   \n",
       "ber0001-0009 -0.318971  165.491387       217             217  4.113697e-01   \n",
       "ber0002-0000  0.342658  143.257489       199             197  1.280613e-01   \n",
       "ber0002-0001 -0.044439  124.193301       199             198  4.000118e-03   \n",
       "ber0002-0002 -0.004414  124.217151       199             198  3.776566e-05   \n",
       "ber0002-0003 -0.088823  126.080845       199             198  1.557075e-02   \n",
       "ber0002-0004 -0.035432  123.893841       199             197  2.965913e-03   \n",
       "ber0002-0005 -0.000366  123.961417       199             197  3.297592e-07   \n",
       "ber0002-0006  0.022537  124.965195       199             197  1.209053e-03   \n",
       "ber0002-0007  0.043525  124.593984       199             197  3.950463e-03   \n",
       "ber0002-0008  0.022019  126.373199       199             197  9.159122e-04   \n",
       "ber0002-0009  0.159612  127.283966       199             199  4.146091e-02   \n",
       "ber0002-0010  0.071946  128.858980       199             197  1.073030e-02   \n",
       "ber0002-0011  0.081426  129.347401       199             198  1.182336e-02   \n",
       "ber0002-0012  0.032630  130.592921       199             197  2.116556e-03   \n",
       "ber0002-0013  0.184478  136.265615       199             199  4.977507e-02   \n",
       "\n",
       "                   mae        mse      rmse  \n",
       "transect_id                                  \n",
       "ber0001-0000  3.194084  19.180097  4.379509  \n",
       "ber0001-0001  2.616221  12.425027  3.524915  \n",
       "ber0001-0002  2.813023  14.840370  3.852320  \n",
       "ber0001-0003  2.681119  13.823584  3.718008  \n",
       "ber0001-0004  3.092245  15.688707  3.960897  \n",
       "ber0001-0005  3.317711  17.923198  4.233580  \n",
       "ber0001-0006  3.673513  21.040842  4.587030  \n",
       "ber0001-0007  2.977771  13.835097  3.719556  \n",
       "ber0001-0008  2.195485   8.763265  2.960281  \n",
       "ber0001-0009  2.291076   9.033018  3.005498  \n",
       "ber0002-0000  5.146820  43.763337  6.615386  \n",
       "ber0002-0001  3.990024  27.431579  5.237516  \n",
       "ber0002-0002  4.089086  28.778088  5.364521  \n",
       "ber0002-0003  4.183383  27.826626  5.275095  \n",
       "ber0002-0004  3.923212  23.521058  4.849851  \n",
       "ber0002-0005  3.789184  22.626797  4.756763  \n",
       "ber0002-0006  3.915333  23.384722  4.835775  \n",
       "ber0002-0007  4.189945  26.621844  5.159636  \n",
       "ber0002-0008  4.439873  29.475248  5.429111  \n",
       "ber0002-0009  4.326802  33.378983  5.777455  \n",
       "ber0002-0010  4.357300  26.732016  5.170301  \n",
       "ber0002-0011  4.779105  31.534469  5.615556  \n",
       "ber0002-0012  4.463024  28.118400  5.302679  \n",
       "ber0002-0013  4.886920  36.819225  6.067885  "
      ]
     },
     "execution_count": 11,
     "metadata": {},
     "output_type": "execute_result"
    }
   ],
   "source": [
    "trends[trends.index.str.startswith(\"ber\")]"
   ]
  },
  {
   "cell_type": "code",
   "execution_count": 12,
   "metadata": {
    "execution": {
     "iopub.execute_input": "2025-08-31T13:25:48.044968Z",
     "iopub.status.busy": "2025-08-31T13:25:48.044804Z",
     "iopub.status.idle": "2025-08-31T13:25:48.170165Z",
     "shell.execute_reply": "2025-08-31T13:25:48.169247Z"
    }
   },
   "outputs": [
    {
     "data": {
      "text/html": [
       "<pre>✔️ 26.2 ms (2025-09-01T01:25:48/2025-09-01T01:25:48)</pre>"
      ],
      "text/plain": [
       "<IPython.core.display.HTML object>"
      ]
     },
     "metadata": {},
     "output_type": "display_data"
    },
    {
     "data": {
      "text/html": [
       "<div>\n",
       "<style scoped>\n",
       "    .dataframe tbody tr th:only-of-type {\n",
       "        vertical-align: middle;\n",
       "    }\n",
       "\n",
       "    .dataframe tbody tr th {\n",
       "        vertical-align: top;\n",
       "    }\n",
       "\n",
       "    .dataframe thead th {\n",
       "        text-align: right;\n",
       "    }\n",
       "</style>\n",
       "<table border=\"1\" class=\"dataframe\">\n",
       "  <thead>\n",
       "    <tr style=\"text-align: right;\">\n",
       "      <th></th>\n",
       "      <th>trend</th>\n",
       "      <th>intercept</th>\n",
       "      <th>n_points</th>\n",
       "      <th>n_points_nonan</th>\n",
       "      <th>r2_score</th>\n",
       "      <th>mae</th>\n",
       "      <th>mse</th>\n",
       "      <th>rmse</th>\n",
       "    </tr>\n",
       "  </thead>\n",
       "  <tbody>\n",
       "    <tr>\n",
       "      <th>count</th>\n",
       "      <td>32373.000000</td>\n",
       "      <td>32373.000000</td>\n",
       "      <td>32373.000000</td>\n",
       "      <td>32373.000000</td>\n",
       "      <td>3.237300e+04</td>\n",
       "      <td>32373.000000</td>\n",
       "      <td>32373.000000</td>\n",
       "      <td>32373.000000</td>\n",
       "    </tr>\n",
       "    <tr>\n",
       "      <th>mean</th>\n",
       "      <td>0.119917</td>\n",
       "      <td>351.345014</td>\n",
       "      <td>440.309981</td>\n",
       "      <td>325.687981</td>\n",
       "      <td>1.481745e-01</td>\n",
       "      <td>12.561924</td>\n",
       "      <td>362.984323</td>\n",
       "      <td>16.019111</td>\n",
       "    </tr>\n",
       "    <tr>\n",
       "      <th>std</th>\n",
       "      <td>1.880075</td>\n",
       "      <td>54.966560</td>\n",
       "      <td>153.958435</td>\n",
       "      <td>118.735401</td>\n",
       "      <td>1.905990e-01</td>\n",
       "      <td>8.364891</td>\n",
       "      <td>805.676842</td>\n",
       "      <td>10.313860</td>\n",
       "    </tr>\n",
       "    <tr>\n",
       "      <th>min</th>\n",
       "      <td>-40.158498</td>\n",
       "      <td>-174.937352</td>\n",
       "      <td>102.000000</td>\n",
       "      <td>10.000000</td>\n",
       "      <td>3.259719e-10</td>\n",
       "      <td>2.195485</td>\n",
       "      <td>8.763265</td>\n",
       "      <td>2.960281</td>\n",
       "    </tr>\n",
       "    <tr>\n",
       "      <th>25%</th>\n",
       "      <td>-0.393352</td>\n",
       "      <td>327.998641</td>\n",
       "      <td>337.000000</td>\n",
       "      <td>245.000000</td>\n",
       "      <td>1.418003e-02</td>\n",
       "      <td>8.244322</td>\n",
       "      <td>111.819940</td>\n",
       "      <td>10.574495</td>\n",
       "    </tr>\n",
       "    <tr>\n",
       "      <th>50%</th>\n",
       "      <td>0.073520</td>\n",
       "      <td>349.046157</td>\n",
       "      <td>422.000000</td>\n",
       "      <td>319.000000</td>\n",
       "      <td>6.543375e-02</td>\n",
       "      <td>10.321347</td>\n",
       "      <td>172.876232</td>\n",
       "      <td>13.148241</td>\n",
       "    </tr>\n",
       "    <tr>\n",
       "      <th>75%</th>\n",
       "      <td>0.572345</td>\n",
       "      <td>372.134647</td>\n",
       "      <td>563.000000</td>\n",
       "      <td>415.000000</td>\n",
       "      <td>2.051896e-01</td>\n",
       "      <td>13.746771</td>\n",
       "      <td>304.449683</td>\n",
       "      <td>17.448487</td>\n",
       "    </tr>\n",
       "    <tr>\n",
       "      <th>max</th>\n",
       "      <td>27.751623</td>\n",
       "      <td>1138.442745</td>\n",
       "      <td>814.000000</td>\n",
       "      <td>714.000000</td>\n",
       "      <td>9.501103e-01</td>\n",
       "      <td>118.288420</td>\n",
       "      <td>20472.735372</td>\n",
       "      <td>143.082967</td>\n",
       "    </tr>\n",
       "  </tbody>\n",
       "</table>\n",
       "</div>"
      ],
      "text/plain": [
       "              trend     intercept      n_points  n_points_nonan      r2_score  \\\n",
       "count  32373.000000  32373.000000  32373.000000    32373.000000  3.237300e+04   \n",
       "mean       0.119917    351.345014    440.309981      325.687981  1.481745e-01   \n",
       "std        1.880075     54.966560    153.958435      118.735401  1.905990e-01   \n",
       "min      -40.158498   -174.937352    102.000000       10.000000  3.259719e-10   \n",
       "25%       -0.393352    327.998641    337.000000      245.000000  1.418003e-02   \n",
       "50%        0.073520    349.046157    422.000000      319.000000  6.543375e-02   \n",
       "75%        0.572345    372.134647    563.000000      415.000000  2.051896e-01   \n",
       "max       27.751623   1138.442745    814.000000      714.000000  9.501103e-01   \n",
       "\n",
       "                mae           mse          rmse  \n",
       "count  32373.000000  32373.000000  32373.000000  \n",
       "mean      12.561924    362.984323     16.019111  \n",
       "std        8.364891    805.676842     10.313860  \n",
       "min        2.195485      8.763265      2.960281  \n",
       "25%        8.244322    111.819940     10.574495  \n",
       "50%       10.321347    172.876232     13.148241  \n",
       "75%       13.746771    304.449683     17.448487  \n",
       "max      118.288420  20472.735372    143.082967  "
      ]
     },
     "execution_count": 12,
     "metadata": {},
     "output_type": "execute_result"
    }
   ],
   "source": [
    "trends.describe()"
   ]
  },
  {
   "cell_type": "code",
   "execution_count": 13,
   "metadata": {
    "execution": {
     "iopub.execute_input": "2025-08-31T13:25:48.173362Z",
     "iopub.status.busy": "2025-08-31T13:25:48.173197Z",
     "iopub.status.idle": "2025-08-31T13:25:48.342872Z",
     "shell.execute_reply": "2025-08-31T13:25:48.341654Z"
    }
   },
   "outputs": [
    {
     "data": {
      "text/html": [
       "<pre>✔️ 141 ms (2025-09-01T01:25:48/2025-09-01T01:25:48)</pre>"
      ],
      "text/plain": [
       "<IPython.core.display.HTML object>"
      ]
     },
     "metadata": {},
     "output_type": "display_data"
    },
    {
     "data": {
      "text/plain": [
       "count    32395.000000\n",
       "mean         0.002205\n",
       "std          0.049364\n",
       "min         -1.555044\n",
       "25%         -0.005849\n",
       "50%          0.000000\n",
       "75%          0.009200\n",
       "max          4.203379\n",
       "Name: trend, dtype: float64"
      ]
     },
     "execution_count": 13,
     "metadata": {},
     "output_type": "execute_result"
    }
   ],
   "source": [
    "(transects.trend - trends.trend).describe()"
   ]
  },
  {
   "cell_type": "code",
   "execution_count": 14,
   "metadata": {
    "execution": {
     "iopub.execute_input": "2025-08-31T13:25:48.346419Z",
     "iopub.status.busy": "2025-08-31T13:25:48.346212Z",
     "iopub.status.idle": "2025-08-31T13:25:48.473103Z",
     "shell.execute_reply": "2025-08-31T13:25:48.471807Z"
    }
   },
   "outputs": [
    {
     "data": {
      "text/html": [
       "<pre>✔️ 59.8 ms (2025-09-01T01:25:48/2025-09-01T01:25:48)</pre>"
      ],
      "text/plain": [
       "<IPython.core.display.HTML object>"
      ]
     },
     "metadata": {},
     "output_type": "display_data"
    }
   ],
   "source": [
    "transects.update(trends.drop_duplicates())"
   ]
  },
  {
   "cell_type": "code",
   "execution_count": 15,
   "metadata": {
    "execution": {
     "iopub.execute_input": "2025-08-31T13:25:48.476703Z",
     "iopub.status.busy": "2025-08-31T13:25:48.476503Z",
     "iopub.status.idle": "2025-08-31T13:25:48.616364Z",
     "shell.execute_reply": "2025-08-31T13:25:48.615153Z"
    }
   },
   "outputs": [
    {
     "data": {
      "text/html": [
       "<pre>✔️ 16.5 ms (2025-09-01T01:25:48/2025-09-01T01:25:48)</pre>"
      ],
      "text/plain": [
       "<IPython.core.display.HTML object>"
      ]
     },
     "metadata": {},
     "output_type": "display_data"
    },
    {
     "data": {
      "text/html": [
       "<div>\n",
       "<style scoped>\n",
       "    .dataframe tbody tr th:only-of-type {\n",
       "        vertical-align: middle;\n",
       "    }\n",
       "\n",
       "    .dataframe tbody tr th {\n",
       "        vertical-align: top;\n",
       "    }\n",
       "\n",
       "    .dataframe thead th {\n",
       "        text-align: right;\n",
       "    }\n",
       "</style>\n",
       "<table border=\"1\" class=\"dataframe\">\n",
       "  <thead>\n",
       "    <tr style=\"text-align: right;\">\n",
       "      <th></th>\n",
       "      <th>site_id</th>\n",
       "      <th>orientation</th>\n",
       "      <th>along_dist</th>\n",
       "      <th>along_dist_norm</th>\n",
       "      <th>beach_slope</th>\n",
       "      <th>cil</th>\n",
       "      <th>ciu</th>\n",
       "      <th>trend</th>\n",
       "      <th>n_points</th>\n",
       "      <th>n_points_nonan</th>\n",
       "      <th>r2_score</th>\n",
       "      <th>mae</th>\n",
       "      <th>mse</th>\n",
       "      <th>rmse</th>\n",
       "      <th>intercept</th>\n",
       "      <th>ERODIBILITY</th>\n",
       "      <th>geometry</th>\n",
       "    </tr>\n",
       "    <tr>\n",
       "      <th>id</th>\n",
       "      <th></th>\n",
       "      <th></th>\n",
       "      <th></th>\n",
       "      <th></th>\n",
       "      <th></th>\n",
       "      <th></th>\n",
       "      <th></th>\n",
       "      <th></th>\n",
       "      <th></th>\n",
       "      <th></th>\n",
       "      <th></th>\n",
       "      <th></th>\n",
       "      <th></th>\n",
       "      <th></th>\n",
       "      <th></th>\n",
       "      <th></th>\n",
       "      <th></th>\n",
       "    </tr>\n",
       "  </thead>\n",
       "  <tbody>\n",
       "    <tr>\n",
       "      <th>aus0001-0000</th>\n",
       "      <td>aus0001</td>\n",
       "      <td>104.347648</td>\n",
       "      <td>0.000000</td>\n",
       "      <td>0.000000</td>\n",
       "      <td>0.085</td>\n",
       "      <td>0.0545</td>\n",
       "      <td>0.2000</td>\n",
       "      <td>-1.441081</td>\n",
       "      <td>767.0</td>\n",
       "      <td>428.0</td>\n",
       "      <td>0.168420</td>\n",
       "      <td>28.102591</td>\n",
       "      <td>1263.560863</td>\n",
       "      <td>35.546601</td>\n",
       "      <td>179.085729</td>\n",
       "      <td>None</td>\n",
       "      <td>LINESTRING (153.26555 -24.7007, 153.26938 -24....</td>\n",
       "    </tr>\n",
       "    <tr>\n",
       "      <th>aus0001-0001</th>\n",
       "      <td>aus0001</td>\n",
       "      <td>93.495734</td>\n",
       "      <td>98.408334</td>\n",
       "      <td>0.002935</td>\n",
       "      <td>0.050</td>\n",
       "      <td>0.0387</td>\n",
       "      <td>0.0640</td>\n",
       "      <td>-1.037105</td>\n",
       "      <td>767.0</td>\n",
       "      <td>569.0</td>\n",
       "      <td>0.097874</td>\n",
       "      <td>25.419324</td>\n",
       "      <td>1033.770813</td>\n",
       "      <td>32.152306</td>\n",
       "      <td>212.247788</td>\n",
       "      <td>None</td>\n",
       "      <td>LINESTRING (153.26525 -24.7019, 153.2692 -24.7...</td>\n",
       "    </tr>\n",
       "    <tr>\n",
       "      <th>aus0001-0002</th>\n",
       "      <td>aus0001</td>\n",
       "      <td>82.069341</td>\n",
       "      <td>198.408334</td>\n",
       "      <td>0.005918</td>\n",
       "      <td>0.050</td>\n",
       "      <td>0.0428</td>\n",
       "      <td>0.0647</td>\n",
       "      <td>-0.680019</td>\n",
       "      <td>767.0</td>\n",
       "      <td>588.0</td>\n",
       "      <td>0.053927</td>\n",
       "      <td>22.632907</td>\n",
       "      <td>838.007507</td>\n",
       "      <td>28.948359</td>\n",
       "      <td>205.106151</td>\n",
       "      <td>None</td>\n",
       "      <td>LINESTRING (153.26539 -24.70316, 153.26931 -24...</td>\n",
       "    </tr>\n",
       "    <tr>\n",
       "      <th>aus0001-0003</th>\n",
       "      <td>aus0001</td>\n",
       "      <td>81.192757</td>\n",
       "      <td>298.402523</td>\n",
       "      <td>0.008900</td>\n",
       "      <td>0.055</td>\n",
       "      <td>0.0480</td>\n",
       "      <td>0.0659</td>\n",
       "      <td>-0.405198</td>\n",
       "      <td>767.0</td>\n",
       "      <td>598.0</td>\n",
       "      <td>0.023412</td>\n",
       "      <td>20.749758</td>\n",
       "      <td>698.653187</td>\n",
       "      <td>26.432048</td>\n",
       "      <td>191.745881</td>\n",
       "      <td>None</td>\n",
       "      <td>LINESTRING (153.26555 -24.70408, 153.26945 -24...</td>\n",
       "    </tr>\n",
       "    <tr>\n",
       "      <th>aus0001-0004</th>\n",
       "      <td>aus0001</td>\n",
       "      <td>81.065473</td>\n",
       "      <td>398.402523</td>\n",
       "      <td>0.011882</td>\n",
       "      <td>0.075</td>\n",
       "      <td>0.0614</td>\n",
       "      <td>0.0922</td>\n",
       "      <td>-0.090025</td>\n",
       "      <td>767.0</td>\n",
       "      <td>608.0</td>\n",
       "      <td>0.001277</td>\n",
       "      <td>19.889328</td>\n",
       "      <td>655.810616</td>\n",
       "      <td>25.608800</td>\n",
       "      <td>175.092121</td>\n",
       "      <td>None</td>\n",
       "      <td>LINESTRING (153.2657 -24.70497, 153.26961 -24....</td>\n",
       "    </tr>\n",
       "    <tr>\n",
       "      <th>...</th>\n",
       "      <td>...</td>\n",
       "      <td>...</td>\n",
       "      <td>...</td>\n",
       "      <td>...</td>\n",
       "      <td>...</td>\n",
       "      <td>...</td>\n",
       "      <td>...</td>\n",
       "      <td>...</td>\n",
       "      <td>...</td>\n",
       "      <td>...</td>\n",
       "      <td>...</td>\n",
       "      <td>...</td>\n",
       "      <td>...</td>\n",
       "      <td>...</td>\n",
       "      <td>...</td>\n",
       "      <td>...</td>\n",
       "      <td>...</td>\n",
       "    </tr>\n",
       "    <tr>\n",
       "      <th>ber0002-0009</th>\n",
       "      <td>ber0002</td>\n",
       "      <td>NaN</td>\n",
       "      <td>NaN</td>\n",
       "      <td>NaN</td>\n",
       "      <td>0.080</td>\n",
       "      <td>0.0638</td>\n",
       "      <td>0.1065</td>\n",
       "      <td>0.159612</td>\n",
       "      <td>199.0</td>\n",
       "      <td>199.0</td>\n",
       "      <td>0.041461</td>\n",
       "      <td>4.326802</td>\n",
       "      <td>33.378983</td>\n",
       "      <td>5.777455</td>\n",
       "      <td>127.283966</td>\n",
       "      <td>None</td>\n",
       "      <td>LINESTRING (-64.82204 32.25336, -64.82017 32.2...</td>\n",
       "    </tr>\n",
       "    <tr>\n",
       "      <th>ber0002-0010</th>\n",
       "      <td>ber0002</td>\n",
       "      <td>NaN</td>\n",
       "      <td>NaN</td>\n",
       "      <td>NaN</td>\n",
       "      <td>0.085</td>\n",
       "      <td>0.0673</td>\n",
       "      <td>0.1096</td>\n",
       "      <td>0.071946</td>\n",
       "      <td>199.0</td>\n",
       "      <td>197.0</td>\n",
       "      <td>0.010730</td>\n",
       "      <td>4.357300</td>\n",
       "      <td>26.732016</td>\n",
       "      <td>5.170301</td>\n",
       "      <td>128.858980</td>\n",
       "      <td>None</td>\n",
       "      <td>LINESTRING (-64.82143 32.25361, -64.82029 32.2...</td>\n",
       "    </tr>\n",
       "    <tr>\n",
       "      <th>ber0002-0011</th>\n",
       "      <td>ber0002</td>\n",
       "      <td>NaN</td>\n",
       "      <td>NaN</td>\n",
       "      <td>NaN</td>\n",
       "      <td>0.105</td>\n",
       "      <td>0.0797</td>\n",
       "      <td>0.1462</td>\n",
       "      <td>0.081426</td>\n",
       "      <td>199.0</td>\n",
       "      <td>198.0</td>\n",
       "      <td>0.011823</td>\n",
       "      <td>4.779105</td>\n",
       "      <td>31.534469</td>\n",
       "      <td>5.615556</td>\n",
       "      <td>129.347401</td>\n",
       "      <td>None</td>\n",
       "      <td>LINESTRING (-64.82118 32.25369, -64.82004 32.2...</td>\n",
       "    </tr>\n",
       "    <tr>\n",
       "      <th>ber0002-0012</th>\n",
       "      <td>ber0002</td>\n",
       "      <td>NaN</td>\n",
       "      <td>NaN</td>\n",
       "      <td>NaN</td>\n",
       "      <td>0.105</td>\n",
       "      <td>0.0835</td>\n",
       "      <td>0.1428</td>\n",
       "      <td>0.032630</td>\n",
       "      <td>199.0</td>\n",
       "      <td>197.0</td>\n",
       "      <td>0.002117</td>\n",
       "      <td>4.463024</td>\n",
       "      <td>28.118400</td>\n",
       "      <td>5.302679</td>\n",
       "      <td>130.592921</td>\n",
       "      <td>None</td>\n",
       "      <td>LINESTRING (-64.82049 32.25382, -64.82022 32.2...</td>\n",
       "    </tr>\n",
       "    <tr>\n",
       "      <th>ber0002-0013</th>\n",
       "      <td>ber0002</td>\n",
       "      <td>NaN</td>\n",
       "      <td>NaN</td>\n",
       "      <td>NaN</td>\n",
       "      <td>0.055</td>\n",
       "      <td>0.0491</td>\n",
       "      <td>0.0674</td>\n",
       "      <td>0.184478</td>\n",
       "      <td>199.0</td>\n",
       "      <td>199.0</td>\n",
       "      <td>0.049775</td>\n",
       "      <td>4.886920</td>\n",
       "      <td>36.819225</td>\n",
       "      <td>6.067885</td>\n",
       "      <td>136.265615</td>\n",
       "      <td>None</td>\n",
       "      <td>LINESTRING (-64.82022 32.25384, -64.81995 32.2...</td>\n",
       "    </tr>\n",
       "  </tbody>\n",
       "</table>\n",
       "<p>147216 rows × 17 columns</p>\n",
       "</div>"
      ],
      "text/plain": [
       "              site_id  orientation  along_dist  along_dist_norm  beach_slope  \\\n",
       "id                                                                             \n",
       "aus0001-0000  aus0001   104.347648    0.000000         0.000000        0.085   \n",
       "aus0001-0001  aus0001    93.495734   98.408334         0.002935        0.050   \n",
       "aus0001-0002  aus0001    82.069341  198.408334         0.005918        0.050   \n",
       "aus0001-0003  aus0001    81.192757  298.402523         0.008900        0.055   \n",
       "aus0001-0004  aus0001    81.065473  398.402523         0.011882        0.075   \n",
       "...               ...          ...         ...              ...          ...   \n",
       "ber0002-0009  ber0002          NaN         NaN              NaN        0.080   \n",
       "ber0002-0010  ber0002          NaN         NaN              NaN        0.085   \n",
       "ber0002-0011  ber0002          NaN         NaN              NaN        0.105   \n",
       "ber0002-0012  ber0002          NaN         NaN              NaN        0.105   \n",
       "ber0002-0013  ber0002          NaN         NaN              NaN        0.055   \n",
       "\n",
       "                 cil     ciu     trend  n_points  n_points_nonan  r2_score  \\\n",
       "id                                                                           \n",
       "aus0001-0000  0.0545  0.2000 -1.441081     767.0           428.0  0.168420   \n",
       "aus0001-0001  0.0387  0.0640 -1.037105     767.0           569.0  0.097874   \n",
       "aus0001-0002  0.0428  0.0647 -0.680019     767.0           588.0  0.053927   \n",
       "aus0001-0003  0.0480  0.0659 -0.405198     767.0           598.0  0.023412   \n",
       "aus0001-0004  0.0614  0.0922 -0.090025     767.0           608.0  0.001277   \n",
       "...              ...     ...       ...       ...             ...       ...   \n",
       "ber0002-0009  0.0638  0.1065  0.159612     199.0           199.0  0.041461   \n",
       "ber0002-0010  0.0673  0.1096  0.071946     199.0           197.0  0.010730   \n",
       "ber0002-0011  0.0797  0.1462  0.081426     199.0           198.0  0.011823   \n",
       "ber0002-0012  0.0835  0.1428  0.032630     199.0           197.0  0.002117   \n",
       "ber0002-0013  0.0491  0.0674  0.184478     199.0           199.0  0.049775   \n",
       "\n",
       "                    mae          mse       rmse   intercept ERODIBILITY  \\\n",
       "id                                                                        \n",
       "aus0001-0000  28.102591  1263.560863  35.546601  179.085729        None   \n",
       "aus0001-0001  25.419324  1033.770813  32.152306  212.247788        None   \n",
       "aus0001-0002  22.632907   838.007507  28.948359  205.106151        None   \n",
       "aus0001-0003  20.749758   698.653187  26.432048  191.745881        None   \n",
       "aus0001-0004  19.889328   655.810616  25.608800  175.092121        None   \n",
       "...                 ...          ...        ...         ...         ...   \n",
       "ber0002-0009   4.326802    33.378983   5.777455  127.283966        None   \n",
       "ber0002-0010   4.357300    26.732016   5.170301  128.858980        None   \n",
       "ber0002-0011   4.779105    31.534469   5.615556  129.347401        None   \n",
       "ber0002-0012   4.463024    28.118400   5.302679  130.592921        None   \n",
       "ber0002-0013   4.886920    36.819225   6.067885  136.265615        None   \n",
       "\n",
       "                                                       geometry  \n",
       "id                                                               \n",
       "aus0001-0000  LINESTRING (153.26555 -24.7007, 153.26938 -24....  \n",
       "aus0001-0001  LINESTRING (153.26525 -24.7019, 153.2692 -24.7...  \n",
       "aus0001-0002  LINESTRING (153.26539 -24.70316, 153.26931 -24...  \n",
       "aus0001-0003  LINESTRING (153.26555 -24.70408, 153.26945 -24...  \n",
       "aus0001-0004  LINESTRING (153.2657 -24.70497, 153.26961 -24....  \n",
       "...                                                         ...  \n",
       "ber0002-0009  LINESTRING (-64.82204 32.25336, -64.82017 32.2...  \n",
       "ber0002-0010  LINESTRING (-64.82143 32.25361, -64.82029 32.2...  \n",
       "ber0002-0011  LINESTRING (-64.82118 32.25369, -64.82004 32.2...  \n",
       "ber0002-0012  LINESTRING (-64.82049 32.25382, -64.82022 32.2...  \n",
       "ber0002-0013  LINESTRING (-64.82022 32.25384, -64.81995 32.2...  \n",
       "\n",
       "[147216 rows x 17 columns]"
      ]
     },
     "execution_count": 15,
     "metadata": {},
     "output_type": "execute_result"
    }
   ],
   "source": [
    "transects"
   ]
  },
  {
   "cell_type": "code",
   "execution_count": 16,
   "metadata": {
    "execution": {
     "iopub.execute_input": "2025-08-31T13:25:48.619694Z",
     "iopub.status.busy": "2025-08-31T13:25:48.619509Z",
     "iopub.status.idle": "2025-08-31T13:25:48.752339Z",
     "shell.execute_reply": "2025-08-31T13:25:48.751195Z"
    }
   },
   "outputs": [
    {
     "data": {
      "text/html": [
       "<pre>✔️ 4.22 ms (2025-09-01T01:25:48/2025-09-01T01:25:48)</pre>"
      ],
      "text/plain": [
       "<IPython.core.display.HTML object>"
      ]
     },
     "metadata": {},
     "output_type": "display_data"
    },
    {
     "data": {
      "text/plain": [
       "(Index(['trend', 'intercept', 'n_points', 'n_points_nonan', 'r2_score', 'mae',\n",
       "        'mse', 'rmse'],\n",
       "       dtype='object'),\n",
       " Index(['site_id', 'orientation', 'along_dist', 'along_dist_norm',\n",
       "        'beach_slope', 'cil', 'ciu', 'trend', 'n_points', 'n_points_nonan',\n",
       "        'r2_score', 'mae', 'mse', 'rmse', 'intercept', 'ERODIBILITY',\n",
       "        'geometry'],\n",
       "       dtype='object'),\n",
       " array([ True,  True,  True,  True,  True,  True,  True,  True]))"
      ]
     },
     "execution_count": 16,
     "metadata": {},
     "output_type": "execute_result"
    }
   ],
   "source": [
    "trends.columns, transects.columns, trends.columns.isin(transects.columns)"
   ]
  },
  {
   "cell_type": "code",
   "execution_count": 17,
   "metadata": {
    "execution": {
     "iopub.execute_input": "2025-08-31T13:25:48.755472Z",
     "iopub.status.busy": "2025-08-31T13:25:48.755311Z",
     "iopub.status.idle": "2025-08-31T13:25:48.911691Z",
     "shell.execute_reply": "2025-08-31T13:25:48.910490Z"
    }
   },
   "outputs": [
    {
     "data": {
      "text/html": [
       "<pre>✔️ 85.4 ms (2025-09-01T01:25:48/2025-09-01T01:25:48)</pre>"
      ],
      "text/plain": [
       "<IPython.core.display.HTML object>"
      ]
     },
     "metadata": {},
     "output_type": "display_data"
    },
    {
     "data": {
      "text/html": [
       "<div>\n",
       "<style scoped>\n",
       "    .dataframe tbody tr th:only-of-type {\n",
       "        vertical-align: middle;\n",
       "    }\n",
       "\n",
       "    .dataframe tbody tr th {\n",
       "        vertical-align: top;\n",
       "    }\n",
       "\n",
       "    .dataframe thead th {\n",
       "        text-align: right;\n",
       "    }\n",
       "</style>\n",
       "<table border=\"1\" class=\"dataframe\">\n",
       "  <thead>\n",
       "    <tr style=\"text-align: right;\">\n",
       "      <th></th>\n",
       "      <th>site_id</th>\n",
       "      <th>orientation</th>\n",
       "      <th>along_dist</th>\n",
       "      <th>along_dist_norm</th>\n",
       "      <th>beach_slope</th>\n",
       "      <th>cil</th>\n",
       "      <th>ciu</th>\n",
       "      <th>trend</th>\n",
       "      <th>n_points</th>\n",
       "      <th>n_points_nonan</th>\n",
       "      <th>r2_score</th>\n",
       "      <th>mae</th>\n",
       "      <th>mse</th>\n",
       "      <th>rmse</th>\n",
       "      <th>intercept</th>\n",
       "      <th>ERODIBILITY</th>\n",
       "      <th>geometry</th>\n",
       "    </tr>\n",
       "    <tr>\n",
       "      <th>id</th>\n",
       "      <th></th>\n",
       "      <th></th>\n",
       "      <th></th>\n",
       "      <th></th>\n",
       "      <th></th>\n",
       "      <th></th>\n",
       "      <th></th>\n",
       "      <th></th>\n",
       "      <th></th>\n",
       "      <th></th>\n",
       "      <th></th>\n",
       "      <th></th>\n",
       "      <th></th>\n",
       "      <th></th>\n",
       "      <th></th>\n",
       "      <th></th>\n",
       "      <th></th>\n",
       "    </tr>\n",
       "  </thead>\n",
       "  <tbody>\n",
       "    <tr>\n",
       "      <th>aus0001-0000</th>\n",
       "      <td>aus0001</td>\n",
       "      <td>104.347648</td>\n",
       "      <td>0.000000</td>\n",
       "      <td>0.000000</td>\n",
       "      <td>0.085</td>\n",
       "      <td>0.0545</td>\n",
       "      <td>0.2000</td>\n",
       "      <td>-1.441081</td>\n",
       "      <td>767.0</td>\n",
       "      <td>428.0</td>\n",
       "      <td>0.168420</td>\n",
       "      <td>28.102591</td>\n",
       "      <td>1263.560863</td>\n",
       "      <td>35.546601</td>\n",
       "      <td>179.085729</td>\n",
       "      <td>None</td>\n",
       "      <td>LINESTRING (153.26555 -24.7007, 153.26938 -24....</td>\n",
       "    </tr>\n",
       "    <tr>\n",
       "      <th>aus0001-0001</th>\n",
       "      <td>aus0001</td>\n",
       "      <td>93.495734</td>\n",
       "      <td>98.408334</td>\n",
       "      <td>0.002935</td>\n",
       "      <td>0.050</td>\n",
       "      <td>0.0387</td>\n",
       "      <td>0.0640</td>\n",
       "      <td>-1.037105</td>\n",
       "      <td>767.0</td>\n",
       "      <td>569.0</td>\n",
       "      <td>0.097874</td>\n",
       "      <td>25.419324</td>\n",
       "      <td>1033.770813</td>\n",
       "      <td>32.152306</td>\n",
       "      <td>212.247788</td>\n",
       "      <td>None</td>\n",
       "      <td>LINESTRING (153.26525 -24.7019, 153.2692 -24.7...</td>\n",
       "    </tr>\n",
       "    <tr>\n",
       "      <th>aus0001-0002</th>\n",
       "      <td>aus0001</td>\n",
       "      <td>82.069341</td>\n",
       "      <td>198.408334</td>\n",
       "      <td>0.005918</td>\n",
       "      <td>0.050</td>\n",
       "      <td>0.0428</td>\n",
       "      <td>0.0647</td>\n",
       "      <td>-0.680019</td>\n",
       "      <td>767.0</td>\n",
       "      <td>588.0</td>\n",
       "      <td>0.053927</td>\n",
       "      <td>22.632907</td>\n",
       "      <td>838.007507</td>\n",
       "      <td>28.948359</td>\n",
       "      <td>205.106151</td>\n",
       "      <td>None</td>\n",
       "      <td>LINESTRING (153.26539 -24.70316, 153.26931 -24...</td>\n",
       "    </tr>\n",
       "    <tr>\n",
       "      <th>aus0001-0003</th>\n",
       "      <td>aus0001</td>\n",
       "      <td>81.192757</td>\n",
       "      <td>298.402523</td>\n",
       "      <td>0.008900</td>\n",
       "      <td>0.055</td>\n",
       "      <td>0.0480</td>\n",
       "      <td>0.0659</td>\n",
       "      <td>-0.405198</td>\n",
       "      <td>767.0</td>\n",
       "      <td>598.0</td>\n",
       "      <td>0.023412</td>\n",
       "      <td>20.749758</td>\n",
       "      <td>698.653187</td>\n",
       "      <td>26.432048</td>\n",
       "      <td>191.745881</td>\n",
       "      <td>None</td>\n",
       "      <td>LINESTRING (153.26555 -24.70408, 153.26945 -24...</td>\n",
       "    </tr>\n",
       "    <tr>\n",
       "      <th>aus0001-0004</th>\n",
       "      <td>aus0001</td>\n",
       "      <td>81.065473</td>\n",
       "      <td>398.402523</td>\n",
       "      <td>0.011882</td>\n",
       "      <td>0.075</td>\n",
       "      <td>0.0614</td>\n",
       "      <td>0.0922</td>\n",
       "      <td>-0.090025</td>\n",
       "      <td>767.0</td>\n",
       "      <td>608.0</td>\n",
       "      <td>0.001277</td>\n",
       "      <td>19.889328</td>\n",
       "      <td>655.810616</td>\n",
       "      <td>25.608800</td>\n",
       "      <td>175.092121</td>\n",
       "      <td>None</td>\n",
       "      <td>LINESTRING (153.2657 -24.70497, 153.26961 -24....</td>\n",
       "    </tr>\n",
       "    <tr>\n",
       "      <th>...</th>\n",
       "      <td>...</td>\n",
       "      <td>...</td>\n",
       "      <td>...</td>\n",
       "      <td>...</td>\n",
       "      <td>...</td>\n",
       "      <td>...</td>\n",
       "      <td>...</td>\n",
       "      <td>...</td>\n",
       "      <td>...</td>\n",
       "      <td>...</td>\n",
       "      <td>...</td>\n",
       "      <td>...</td>\n",
       "      <td>...</td>\n",
       "      <td>...</td>\n",
       "      <td>...</td>\n",
       "      <td>...</td>\n",
       "      <td>...</td>\n",
       "    </tr>\n",
       "    <tr>\n",
       "      <th>ber0002-0009</th>\n",
       "      <td>ber0002</td>\n",
       "      <td>NaN</td>\n",
       "      <td>NaN</td>\n",
       "      <td>NaN</td>\n",
       "      <td>0.080</td>\n",
       "      <td>0.0638</td>\n",
       "      <td>0.1065</td>\n",
       "      <td>0.159612</td>\n",
       "      <td>199.0</td>\n",
       "      <td>199.0</td>\n",
       "      <td>0.041461</td>\n",
       "      <td>4.326802</td>\n",
       "      <td>33.378983</td>\n",
       "      <td>5.777455</td>\n",
       "      <td>127.283966</td>\n",
       "      <td>None</td>\n",
       "      <td>LINESTRING (-64.82204 32.25336, -64.82017 32.2...</td>\n",
       "    </tr>\n",
       "    <tr>\n",
       "      <th>ber0002-0010</th>\n",
       "      <td>ber0002</td>\n",
       "      <td>NaN</td>\n",
       "      <td>NaN</td>\n",
       "      <td>NaN</td>\n",
       "      <td>0.085</td>\n",
       "      <td>0.0673</td>\n",
       "      <td>0.1096</td>\n",
       "      <td>0.071946</td>\n",
       "      <td>199.0</td>\n",
       "      <td>197.0</td>\n",
       "      <td>0.010730</td>\n",
       "      <td>4.357300</td>\n",
       "      <td>26.732016</td>\n",
       "      <td>5.170301</td>\n",
       "      <td>128.858980</td>\n",
       "      <td>None</td>\n",
       "      <td>LINESTRING (-64.82143 32.25361, -64.82029 32.2...</td>\n",
       "    </tr>\n",
       "    <tr>\n",
       "      <th>ber0002-0011</th>\n",
       "      <td>ber0002</td>\n",
       "      <td>NaN</td>\n",
       "      <td>NaN</td>\n",
       "      <td>NaN</td>\n",
       "      <td>0.105</td>\n",
       "      <td>0.0797</td>\n",
       "      <td>0.1462</td>\n",
       "      <td>0.081426</td>\n",
       "      <td>199.0</td>\n",
       "      <td>198.0</td>\n",
       "      <td>0.011823</td>\n",
       "      <td>4.779105</td>\n",
       "      <td>31.534469</td>\n",
       "      <td>5.615556</td>\n",
       "      <td>129.347401</td>\n",
       "      <td>None</td>\n",
       "      <td>LINESTRING (-64.82118 32.25369, -64.82004 32.2...</td>\n",
       "    </tr>\n",
       "    <tr>\n",
       "      <th>ber0002-0012</th>\n",
       "      <td>ber0002</td>\n",
       "      <td>NaN</td>\n",
       "      <td>NaN</td>\n",
       "      <td>NaN</td>\n",
       "      <td>0.105</td>\n",
       "      <td>0.0835</td>\n",
       "      <td>0.1428</td>\n",
       "      <td>0.032630</td>\n",
       "      <td>199.0</td>\n",
       "      <td>197.0</td>\n",
       "      <td>0.002117</td>\n",
       "      <td>4.463024</td>\n",
       "      <td>28.118400</td>\n",
       "      <td>5.302679</td>\n",
       "      <td>130.592921</td>\n",
       "      <td>None</td>\n",
       "      <td>LINESTRING (-64.82049 32.25382, -64.82022 32.2...</td>\n",
       "    </tr>\n",
       "    <tr>\n",
       "      <th>ber0002-0013</th>\n",
       "      <td>ber0002</td>\n",
       "      <td>NaN</td>\n",
       "      <td>NaN</td>\n",
       "      <td>NaN</td>\n",
       "      <td>0.055</td>\n",
       "      <td>0.0491</td>\n",
       "      <td>0.0674</td>\n",
       "      <td>0.184478</td>\n",
       "      <td>199.0</td>\n",
       "      <td>199.0</td>\n",
       "      <td>0.049775</td>\n",
       "      <td>4.886920</td>\n",
       "      <td>36.819225</td>\n",
       "      <td>6.067885</td>\n",
       "      <td>136.265615</td>\n",
       "      <td>None</td>\n",
       "      <td>LINESTRING (-64.82022 32.25384, -64.81995 32.2...</td>\n",
       "    </tr>\n",
       "  </tbody>\n",
       "</table>\n",
       "<p>147216 rows × 17 columns</p>\n",
       "</div>"
      ],
      "text/plain": [
       "              site_id  orientation  along_dist  along_dist_norm  beach_slope  \\\n",
       "id                                                                             \n",
       "aus0001-0000  aus0001   104.347648    0.000000         0.000000        0.085   \n",
       "aus0001-0001  aus0001    93.495734   98.408334         0.002935        0.050   \n",
       "aus0001-0002  aus0001    82.069341  198.408334         0.005918        0.050   \n",
       "aus0001-0003  aus0001    81.192757  298.402523         0.008900        0.055   \n",
       "aus0001-0004  aus0001    81.065473  398.402523         0.011882        0.075   \n",
       "...               ...          ...         ...              ...          ...   \n",
       "ber0002-0009  ber0002          NaN         NaN              NaN        0.080   \n",
       "ber0002-0010  ber0002          NaN         NaN              NaN        0.085   \n",
       "ber0002-0011  ber0002          NaN         NaN              NaN        0.105   \n",
       "ber0002-0012  ber0002          NaN         NaN              NaN        0.105   \n",
       "ber0002-0013  ber0002          NaN         NaN              NaN        0.055   \n",
       "\n",
       "                 cil     ciu     trend  n_points  n_points_nonan  r2_score  \\\n",
       "id                                                                           \n",
       "aus0001-0000  0.0545  0.2000 -1.441081     767.0           428.0  0.168420   \n",
       "aus0001-0001  0.0387  0.0640 -1.037105     767.0           569.0  0.097874   \n",
       "aus0001-0002  0.0428  0.0647 -0.680019     767.0           588.0  0.053927   \n",
       "aus0001-0003  0.0480  0.0659 -0.405198     767.0           598.0  0.023412   \n",
       "aus0001-0004  0.0614  0.0922 -0.090025     767.0           608.0  0.001277   \n",
       "...              ...     ...       ...       ...             ...       ...   \n",
       "ber0002-0009  0.0638  0.1065  0.159612     199.0           199.0  0.041461   \n",
       "ber0002-0010  0.0673  0.1096  0.071946     199.0           197.0  0.010730   \n",
       "ber0002-0011  0.0797  0.1462  0.081426     199.0           198.0  0.011823   \n",
       "ber0002-0012  0.0835  0.1428  0.032630     199.0           197.0  0.002117   \n",
       "ber0002-0013  0.0491  0.0674  0.184478     199.0           199.0  0.049775   \n",
       "\n",
       "                    mae          mse       rmse   intercept ERODIBILITY  \\\n",
       "id                                                                        \n",
       "aus0001-0000  28.102591  1263.560863  35.546601  179.085729        None   \n",
       "aus0001-0001  25.419324  1033.770813  32.152306  212.247788        None   \n",
       "aus0001-0002  22.632907   838.007507  28.948359  205.106151        None   \n",
       "aus0001-0003  20.749758   698.653187  26.432048  191.745881        None   \n",
       "aus0001-0004  19.889328   655.810616  25.608800  175.092121        None   \n",
       "...                 ...          ...        ...         ...         ...   \n",
       "ber0002-0009   4.326802    33.378983   5.777455  127.283966        None   \n",
       "ber0002-0010   4.357300    26.732016   5.170301  128.858980        None   \n",
       "ber0002-0011   4.779105    31.534469   5.615556  129.347401        None   \n",
       "ber0002-0012   4.463024    28.118400   5.302679  130.592921        None   \n",
       "ber0002-0013   4.886920    36.819225   6.067885  136.265615        None   \n",
       "\n",
       "                                                       geometry  \n",
       "id                                                               \n",
       "aus0001-0000  LINESTRING (153.26555 -24.7007, 153.26938 -24....  \n",
       "aus0001-0001  LINESTRING (153.26525 -24.7019, 153.2692 -24.7...  \n",
       "aus0001-0002  LINESTRING (153.26539 -24.70316, 153.26931 -24...  \n",
       "aus0001-0003  LINESTRING (153.26555 -24.70408, 153.26945 -24...  \n",
       "aus0001-0004  LINESTRING (153.2657 -24.70497, 153.26961 -24....  \n",
       "...                                                         ...  \n",
       "ber0002-0009  LINESTRING (-64.82204 32.25336, -64.82017 32.2...  \n",
       "ber0002-0010  LINESTRING (-64.82143 32.25361, -64.82029 32.2...  \n",
       "ber0002-0011  LINESTRING (-64.82118 32.25369, -64.82004 32.2...  \n",
       "ber0002-0012  LINESTRING (-64.82049 32.25382, -64.82022 32.2...  \n",
       "ber0002-0013  LINESTRING (-64.82022 32.25384, -64.81995 32.2...  \n",
       "\n",
       "[147216 rows x 17 columns]"
      ]
     },
     "execution_count": 17,
     "metadata": {},
     "output_type": "execute_result"
    }
   ],
   "source": [
    "transects = transects.join(trends.loc[:, ~trends.columns.isin(transects.columns)])\n",
    "transects"
   ]
  },
  {
   "cell_type": "code",
   "execution_count": 18,
   "metadata": {
    "execution": {
     "iopub.execute_input": "2025-08-31T13:25:48.915222Z",
     "iopub.status.busy": "2025-08-31T13:25:48.915047Z",
     "iopub.status.idle": "2025-08-31T13:25:49.063685Z",
     "shell.execute_reply": "2025-08-31T13:25:49.062384Z"
    }
   },
   "outputs": [
    {
     "data": {
      "text/html": [
       "<pre>✔️ 54.8 ms (2025-09-01T01:25:48/2025-09-01T01:25:48)</pre>"
      ],
      "text/plain": [
       "<IPython.core.display.HTML object>"
      ]
     },
     "metadata": {},
     "output_type": "display_data"
    },
    {
     "data": {
      "text/html": [
       "<div>\n",
       "<style scoped>\n",
       "    .dataframe tbody tr th:only-of-type {\n",
       "        vertical-align: middle;\n",
       "    }\n",
       "\n",
       "    .dataframe tbody tr th {\n",
       "        vertical-align: top;\n",
       "    }\n",
       "\n",
       "    .dataframe thead th {\n",
       "        text-align: right;\n",
       "    }\n",
       "</style>\n",
       "<table border=\"1\" class=\"dataframe\">\n",
       "  <thead>\n",
       "    <tr style=\"text-align: right;\">\n",
       "      <th></th>\n",
       "      <th>site_id</th>\n",
       "      <th>orientation</th>\n",
       "      <th>along_dist</th>\n",
       "      <th>along_dist_norm</th>\n",
       "      <th>beach_slope</th>\n",
       "      <th>cil</th>\n",
       "      <th>ciu</th>\n",
       "      <th>trend</th>\n",
       "      <th>n_points</th>\n",
       "      <th>n_points_nonan</th>\n",
       "      <th>r2_score</th>\n",
       "      <th>mae</th>\n",
       "      <th>mse</th>\n",
       "      <th>rmse</th>\n",
       "      <th>intercept</th>\n",
       "      <th>ERODIBILITY</th>\n",
       "      <th>geometry</th>\n",
       "    </tr>\n",
       "    <tr>\n",
       "      <th>id</th>\n",
       "      <th></th>\n",
       "      <th></th>\n",
       "      <th></th>\n",
       "      <th></th>\n",
       "      <th></th>\n",
       "      <th></th>\n",
       "      <th></th>\n",
       "      <th></th>\n",
       "      <th></th>\n",
       "      <th></th>\n",
       "      <th></th>\n",
       "      <th></th>\n",
       "      <th></th>\n",
       "      <th></th>\n",
       "      <th></th>\n",
       "      <th></th>\n",
       "      <th></th>\n",
       "    </tr>\n",
       "  </thead>\n",
       "  <tbody>\n",
       "    <tr>\n",
       "      <th>sar0001-0000</th>\n",
       "      <td>sar0001</td>\n",
       "      <td>NaN</td>\n",
       "      <td>NaN</td>\n",
       "      <td>NaN</td>\n",
       "      <td>NaN</td>\n",
       "      <td>NaN</td>\n",
       "      <td>NaN</td>\n",
       "      <td>-0.209107</td>\n",
       "      <td>671.0</td>\n",
       "      <td>667.0</td>\n",
       "      <td>0.003085</td>\n",
       "      <td>34.337637</td>\n",
       "      <td>2024.899412</td>\n",
       "      <td>44.998882</td>\n",
       "      <td>135.992639</td>\n",
       "      <td>Medium</td>\n",
       "      <td>LINESTRING (8.40852 38.86175, 8.40882 38.86535)</td>\n",
       "    </tr>\n",
       "    <tr>\n",
       "      <th>sar0001-0001</th>\n",
       "      <td>sar0001</td>\n",
       "      <td>NaN</td>\n",
       "      <td>NaN</td>\n",
       "      <td>NaN</td>\n",
       "      <td>NaN</td>\n",
       "      <td>NaN</td>\n",
       "      <td>NaN</td>\n",
       "      <td>-0.168722</td>\n",
       "      <td>671.0</td>\n",
       "      <td>667.0</td>\n",
       "      <td>0.008700</td>\n",
       "      <td>11.931958</td>\n",
       "      <td>460.730301</td>\n",
       "      <td>21.464629</td>\n",
       "      <td>197.877604</td>\n",
       "      <td>Medium</td>\n",
       "      <td>LINESTRING (8.4084 38.86162, 8.41092 38.86464)</td>\n",
       "    </tr>\n",
       "    <tr>\n",
       "      <th>sar0001-0002</th>\n",
       "      <td>sar0001</td>\n",
       "      <td>NaN</td>\n",
       "      <td>NaN</td>\n",
       "      <td>NaN</td>\n",
       "      <td>NaN</td>\n",
       "      <td>NaN</td>\n",
       "      <td>NaN</td>\n",
       "      <td>-0.012318</td>\n",
       "      <td>671.0</td>\n",
       "      <td>669.0</td>\n",
       "      <td>0.000413</td>\n",
       "      <td>5.801157</td>\n",
       "      <td>51.994338</td>\n",
       "      <td>7.210710</td>\n",
       "      <td>206.410952</td>\n",
       "      <td>Medium</td>\n",
       "      <td>LINESTRING (8.40893 38.86153, 8.41236 38.86393)</td>\n",
       "    </tr>\n",
       "    <tr>\n",
       "      <th>sar0001-0003</th>\n",
       "      <td>sar0001</td>\n",
       "      <td>NaN</td>\n",
       "      <td>NaN</td>\n",
       "      <td>NaN</td>\n",
       "      <td>NaN</td>\n",
       "      <td>NaN</td>\n",
       "      <td>NaN</td>\n",
       "      <td>-0.043548</td>\n",
       "      <td>671.0</td>\n",
       "      <td>669.0</td>\n",
       "      <td>0.016188</td>\n",
       "      <td>3.202754</td>\n",
       "      <td>16.331152</td>\n",
       "      <td>4.041182</td>\n",
       "      <td>239.500879</td>\n",
       "      <td>Medium</td>\n",
       "      <td>LINESTRING (8.40904 38.86129, 8.41333 38.8626)</td>\n",
       "    </tr>\n",
       "    <tr>\n",
       "      <th>sar0001-0004</th>\n",
       "      <td>sar0001</td>\n",
       "      <td>NaN</td>\n",
       "      <td>NaN</td>\n",
       "      <td>NaN</td>\n",
       "      <td>NaN</td>\n",
       "      <td>NaN</td>\n",
       "      <td>NaN</td>\n",
       "      <td>0.011825</td>\n",
       "      <td>671.0</td>\n",
       "      <td>669.0</td>\n",
       "      <td>0.001501</td>\n",
       "      <td>2.692829</td>\n",
       "      <td>13.178444</td>\n",
       "      <td>3.630213</td>\n",
       "      <td>258.136097</td>\n",
       "      <td>Medium</td>\n",
       "      <td>LINESTRING (8.40904 38.86176, 8.4133 38.86037)</td>\n",
       "    </tr>\n",
       "    <tr>\n",
       "      <th>...</th>\n",
       "      <td>...</td>\n",
       "      <td>...</td>\n",
       "      <td>...</td>\n",
       "      <td>...</td>\n",
       "      <td>...</td>\n",
       "      <td>...</td>\n",
       "      <td>...</td>\n",
       "      <td>...</td>\n",
       "      <td>...</td>\n",
       "      <td>...</td>\n",
       "      <td>...</td>\n",
       "      <td>...</td>\n",
       "      <td>...</td>\n",
       "      <td>...</td>\n",
       "      <td>...</td>\n",
       "      <td>...</td>\n",
       "      <td>...</td>\n",
       "    </tr>\n",
       "    <tr>\n",
       "      <th>sar2541-0000</th>\n",
       "      <td>sar2541</td>\n",
       "      <td>NaN</td>\n",
       "      <td>NaN</td>\n",
       "      <td>NaN</td>\n",
       "      <td>NaN</td>\n",
       "      <td>NaN</td>\n",
       "      <td>NaN</td>\n",
       "      <td>-0.297976</td>\n",
       "      <td>1371.0</td>\n",
       "      <td>1371.0</td>\n",
       "      <td>0.203601</td>\n",
       "      <td>5.662483</td>\n",
       "      <td>50.986351</td>\n",
       "      <td>7.140473</td>\n",
       "      <td>199.127124</td>\n",
       "      <td>High</td>\n",
       "      <td>LINESTRING (8.85399 38.88006, 8.85388 38.87736)</td>\n",
       "    </tr>\n",
       "    <tr>\n",
       "      <th>sar2541-0001</th>\n",
       "      <td>sar2541</td>\n",
       "      <td>NaN</td>\n",
       "      <td>NaN</td>\n",
       "      <td>NaN</td>\n",
       "      <td>NaN</td>\n",
       "      <td>NaN</td>\n",
       "      <td>NaN</td>\n",
       "      <td>0.011742</td>\n",
       "      <td>1371.0</td>\n",
       "      <td>1371.0</td>\n",
       "      <td>0.000671</td>\n",
       "      <td>3.998349</td>\n",
       "      <td>30.150238</td>\n",
       "      <td>5.490923</td>\n",
       "      <td>165.933848</td>\n",
       "      <td>High</td>\n",
       "      <td>LINESTRING (8.85428 38.88005, 8.85417 38.87735)</td>\n",
       "    </tr>\n",
       "    <tr>\n",
       "      <th>sar2541-0002</th>\n",
       "      <td>sar2541</td>\n",
       "      <td>NaN</td>\n",
       "      <td>NaN</td>\n",
       "      <td>NaN</td>\n",
       "      <td>NaN</td>\n",
       "      <td>NaN</td>\n",
       "      <td>NaN</td>\n",
       "      <td>0.048766</td>\n",
       "      <td>1371.0</td>\n",
       "      <td>1371.0</td>\n",
       "      <td>0.008370</td>\n",
       "      <td>4.829729</td>\n",
       "      <td>41.363000</td>\n",
       "      <td>6.431407</td>\n",
       "      <td>161.418975</td>\n",
       "      <td>High</td>\n",
       "      <td>LINESTRING (8.85502 38.87993, 8.85398 38.87735)</td>\n",
       "    </tr>\n",
       "    <tr>\n",
       "      <th>sar2541-0003</th>\n",
       "      <td>sar2541</td>\n",
       "      <td>NaN</td>\n",
       "      <td>NaN</td>\n",
       "      <td>NaN</td>\n",
       "      <td>NaN</td>\n",
       "      <td>NaN</td>\n",
       "      <td>NaN</td>\n",
       "      <td>-0.212156</td>\n",
       "      <td>1371.0</td>\n",
       "      <td>1371.0</td>\n",
       "      <td>0.135324</td>\n",
       "      <td>5.148677</td>\n",
       "      <td>42.220947</td>\n",
       "      <td>6.497765</td>\n",
       "      <td>182.397918</td>\n",
       "      <td>High</td>\n",
       "      <td>LINESTRING (8.85536 38.87984, 8.85418 38.8773)</td>\n",
       "    </tr>\n",
       "    <tr>\n",
       "      <th>sar2541-0004</th>\n",
       "      <td>sar2541</td>\n",
       "      <td>NaN</td>\n",
       "      <td>NaN</td>\n",
       "      <td>NaN</td>\n",
       "      <td>NaN</td>\n",
       "      <td>NaN</td>\n",
       "      <td>NaN</td>\n",
       "      <td>-1.424914</td>\n",
       "      <td>1371.0</td>\n",
       "      <td>1371.0</td>\n",
       "      <td>0.750608</td>\n",
       "      <td>7.903430</td>\n",
       "      <td>99.034737</td>\n",
       "      <td>9.951620</td>\n",
       "      <td>416.753361</td>\n",
       "      <td>High</td>\n",
       "      <td>LINESTRING (8.85656 38.8791, 8.85349 38.87785)</td>\n",
       "    </tr>\n",
       "  </tbody>\n",
       "</table>\n",
       "<p>19763 rows × 17 columns</p>\n",
       "</div>"
      ],
      "text/plain": [
       "              site_id  orientation  along_dist  along_dist_norm  beach_slope  \\\n",
       "id                                                                             \n",
       "sar0001-0000  sar0001          NaN         NaN              NaN          NaN   \n",
       "sar0001-0001  sar0001          NaN         NaN              NaN          NaN   \n",
       "sar0001-0002  sar0001          NaN         NaN              NaN          NaN   \n",
       "sar0001-0003  sar0001          NaN         NaN              NaN          NaN   \n",
       "sar0001-0004  sar0001          NaN         NaN              NaN          NaN   \n",
       "...               ...          ...         ...              ...          ...   \n",
       "sar2541-0000  sar2541          NaN         NaN              NaN          NaN   \n",
       "sar2541-0001  sar2541          NaN         NaN              NaN          NaN   \n",
       "sar2541-0002  sar2541          NaN         NaN              NaN          NaN   \n",
       "sar2541-0003  sar2541          NaN         NaN              NaN          NaN   \n",
       "sar2541-0004  sar2541          NaN         NaN              NaN          NaN   \n",
       "\n",
       "              cil  ciu     trend  n_points  n_points_nonan  r2_score  \\\n",
       "id                                                                     \n",
       "sar0001-0000  NaN  NaN -0.209107     671.0           667.0  0.003085   \n",
       "sar0001-0001  NaN  NaN -0.168722     671.0           667.0  0.008700   \n",
       "sar0001-0002  NaN  NaN -0.012318     671.0           669.0  0.000413   \n",
       "sar0001-0003  NaN  NaN -0.043548     671.0           669.0  0.016188   \n",
       "sar0001-0004  NaN  NaN  0.011825     671.0           669.0  0.001501   \n",
       "...           ...  ...       ...       ...             ...       ...   \n",
       "sar2541-0000  NaN  NaN -0.297976    1371.0          1371.0  0.203601   \n",
       "sar2541-0001  NaN  NaN  0.011742    1371.0          1371.0  0.000671   \n",
       "sar2541-0002  NaN  NaN  0.048766    1371.0          1371.0  0.008370   \n",
       "sar2541-0003  NaN  NaN -0.212156    1371.0          1371.0  0.135324   \n",
       "sar2541-0004  NaN  NaN -1.424914    1371.0          1371.0  0.750608   \n",
       "\n",
       "                    mae          mse       rmse   intercept ERODIBILITY  \\\n",
       "id                                                                        \n",
       "sar0001-0000  34.337637  2024.899412  44.998882  135.992639      Medium   \n",
       "sar0001-0001  11.931958   460.730301  21.464629  197.877604      Medium   \n",
       "sar0001-0002   5.801157    51.994338   7.210710  206.410952      Medium   \n",
       "sar0001-0003   3.202754    16.331152   4.041182  239.500879      Medium   \n",
       "sar0001-0004   2.692829    13.178444   3.630213  258.136097      Medium   \n",
       "...                 ...          ...        ...         ...         ...   \n",
       "sar2541-0000   5.662483    50.986351   7.140473  199.127124        High   \n",
       "sar2541-0001   3.998349    30.150238   5.490923  165.933848        High   \n",
       "sar2541-0002   4.829729    41.363000   6.431407  161.418975        High   \n",
       "sar2541-0003   5.148677    42.220947   6.497765  182.397918        High   \n",
       "sar2541-0004   7.903430    99.034737   9.951620  416.753361        High   \n",
       "\n",
       "                                                     geometry  \n",
       "id                                                             \n",
       "sar0001-0000  LINESTRING (8.40852 38.86175, 8.40882 38.86535)  \n",
       "sar0001-0001   LINESTRING (8.4084 38.86162, 8.41092 38.86464)  \n",
       "sar0001-0002  LINESTRING (8.40893 38.86153, 8.41236 38.86393)  \n",
       "sar0001-0003   LINESTRING (8.40904 38.86129, 8.41333 38.8626)  \n",
       "sar0001-0004   LINESTRING (8.40904 38.86176, 8.4133 38.86037)  \n",
       "...                                                       ...  \n",
       "sar2541-0000  LINESTRING (8.85399 38.88006, 8.85388 38.87736)  \n",
       "sar2541-0001  LINESTRING (8.85428 38.88005, 8.85417 38.87735)  \n",
       "sar2541-0002  LINESTRING (8.85502 38.87993, 8.85398 38.87735)  \n",
       "sar2541-0003   LINESTRING (8.85536 38.87984, 8.85418 38.8773)  \n",
       "sar2541-0004   LINESTRING (8.85656 38.8791, 8.85349 38.87785)  \n",
       "\n",
       "[19763 rows x 17 columns]"
      ]
     },
     "execution_count": 18,
     "metadata": {},
     "output_type": "execute_result"
    }
   ],
   "source": [
    "transects[transects.site_id.str.startswith(\"sar\") & ~transects.trend.isna()]"
   ]
  },
  {
   "cell_type": "code",
   "execution_count": 19,
   "metadata": {
    "execution": {
     "iopub.execute_input": "2025-08-31T13:25:49.067254Z",
     "iopub.status.busy": "2025-08-31T13:25:49.067058Z",
     "iopub.status.idle": "2025-08-31T13:25:54.111755Z",
     "shell.execute_reply": "2025-08-31T13:25:54.110363Z"
    }
   },
   "outputs": [
    {
     "data": {
      "text/html": [
       "<pre>✔️ 4.9 s (2025-09-01T01:25:49/2025-09-01T01:25:53)</pre>"
      ],
      "text/plain": [
       "<IPython.core.display.HTML object>"
      ]
     },
     "metadata": {},
     "output_type": "display_data"
    }
   ],
   "source": [
    "transects.drop_duplicates().to_file(\"transects_extended.geojson\", driver=\"GeoJSON\")"
   ]
  }
 ],
 "metadata": {
  "kernelspec": {
   "display_name": "Python 3",
   "language": "python",
   "name": "python3"
  },
  "language_info": {
   "codemirror_mode": {
    "name": "ipython",
    "version": 3
   },
   "file_extension": ".py",
   "mimetype": "text/x-python",
   "name": "python",
   "nbconvert_exporter": "python",
   "pygments_lexer": "ipython3",
   "version": "3.12.3"
  },
  "widgets": {
   "application/vnd.jupyter.widget-state+json": {
    "state": {
     "1beb06b81931438d9247cf2343249884": {
      "model_module": "@jupyter-widgets/base",
      "model_module_version": "2.0.0",
      "model_name": "LayoutModel",
      "state": {
       "_model_module": "@jupyter-widgets/base",
       "_model_module_version": "2.0.0",
       "_model_name": "LayoutModel",
       "_view_count": null,
       "_view_module": "@jupyter-widgets/base",
       "_view_module_version": "2.0.0",
       "_view_name": "LayoutView",
       "align_content": null,
       "align_items": null,
       "align_self": null,
       "border_bottom": null,
       "border_left": null,
       "border_right": null,
       "border_top": null,
       "bottom": null,
       "display": null,
       "flex": null,
       "flex_flow": null,
       "grid_area": null,
       "grid_auto_columns": null,
       "grid_auto_flow": null,
       "grid_auto_rows": null,
       "grid_column": null,
       "grid_gap": null,
       "grid_row": null,
       "grid_template_areas": null,
       "grid_template_columns": null,
       "grid_template_rows": null,
       "height": null,
       "justify_content": null,
       "justify_items": null,
       "left": null,
       "margin": null,
       "max_height": null,
       "max_width": null,
       "min_height": null,
       "min_width": null,
       "object_fit": null,
       "object_position": null,
       "order": null,
       "overflow": null,
       "padding": null,
       "right": null,
       "top": null,
       "visibility": null,
       "width": null
      }
     },
     "5c39248fec5b43ca901c49db8c143b9e": {
      "model_module": "@jupyter-widgets/controls",
      "model_module_version": "2.0.0",
      "model_name": "HTMLModel",
      "state": {
       "_dom_classes": [],
       "_model_module": "@jupyter-widgets/controls",
       "_model_module_version": "2.0.0",
       "_model_name": "HTMLModel",
       "_view_count": null,
       "_view_module": "@jupyter-widgets/controls",
       "_view_module_version": "2.0.0",
       "_view_name": "HTMLView",
       "description": "",
       "description_allow_html": false,
       "layout": "IPY_MODEL_af82050e6769410fa6e5552963f3efdb",
       "placeholder": "​",
       "style": "IPY_MODEL_5de6cd0e9b444eda87f1226b7656d762",
       "tabbable": null,
       "tooltip": null,
       "value": " 564/564 [00:02&lt;00:00, 174.47it/s]"
      }
     },
     "5de6cd0e9b444eda87f1226b7656d762": {
      "model_module": "@jupyter-widgets/controls",
      "model_module_version": "2.0.0",
      "model_name": "HTMLStyleModel",
      "state": {
       "_model_module": "@jupyter-widgets/controls",
       "_model_module_version": "2.0.0",
       "_model_name": "HTMLStyleModel",
       "_view_count": null,
       "_view_module": "@jupyter-widgets/base",
       "_view_module_version": "2.0.0",
       "_view_name": "StyleView",
       "background": null,
       "description_width": "",
       "font_size": null,
       "text_color": null
      }
     },
     "5e4bd5381e474880bb3884a2e1d00b81": {
      "model_module": "@jupyter-widgets/controls",
      "model_module_version": "2.0.0",
      "model_name": "HBoxModel",
      "state": {
       "_dom_classes": [],
       "_model_module": "@jupyter-widgets/controls",
       "_model_module_version": "2.0.0",
       "_model_name": "HBoxModel",
       "_view_count": null,
       "_view_module": "@jupyter-widgets/controls",
       "_view_module_version": "2.0.0",
       "_view_name": "HBoxView",
       "box_style": "",
       "children": [
        "IPY_MODEL_898e058bcf90416880e3102e7038823b",
        "IPY_MODEL_e1cc9502c5854e1b92a09cacff544b67",
        "IPY_MODEL_5c39248fec5b43ca901c49db8c143b9e"
       ],
       "layout": "IPY_MODEL_7a1f552f8814404ba01341c923501ee6",
       "tabbable": null,
       "tooltip": null
      }
     },
     "6306b52f6b814d278b17f15e032e53cf": {
      "model_module": "@jupyter-widgets/controls",
      "model_module_version": "2.0.0",
      "model_name": "ProgressStyleModel",
      "state": {
       "_model_module": "@jupyter-widgets/controls",
       "_model_module_version": "2.0.0",
       "_model_name": "ProgressStyleModel",
       "_view_count": null,
       "_view_module": "@jupyter-widgets/base",
       "_view_module_version": "2.0.0",
       "_view_name": "StyleView",
       "bar_color": null,
       "description_width": ""
      }
     },
     "6a75a8c2fb3c48dc8c0175ef7a4a9a6b": {
      "model_module": "@jupyter-widgets/base",
      "model_module_version": "2.0.0",
      "model_name": "LayoutModel",
      "state": {
       "_model_module": "@jupyter-widgets/base",
       "_model_module_version": "2.0.0",
       "_model_name": "LayoutModel",
       "_view_count": null,
       "_view_module": "@jupyter-widgets/base",
       "_view_module_version": "2.0.0",
       "_view_name": "LayoutView",
       "align_content": null,
       "align_items": null,
       "align_self": null,
       "border_bottom": null,
       "border_left": null,
       "border_right": null,
       "border_top": null,
       "bottom": null,
       "display": null,
       "flex": null,
       "flex_flow": null,
       "grid_area": null,
       "grid_auto_columns": null,
       "grid_auto_flow": null,
       "grid_auto_rows": null,
       "grid_column": null,
       "grid_gap": null,
       "grid_row": null,
       "grid_template_areas": null,
       "grid_template_columns": null,
       "grid_template_rows": null,
       "height": null,
       "justify_content": null,
       "justify_items": null,
       "left": null,
       "margin": null,
       "max_height": null,
       "max_width": null,
       "min_height": null,
       "min_width": null,
       "object_fit": null,
       "object_position": null,
       "order": null,
       "overflow": null,
       "padding": null,
       "right": null,
       "top": null,
       "visibility": null,
       "width": null
      }
     },
     "7a1f552f8814404ba01341c923501ee6": {
      "model_module": "@jupyter-widgets/base",
      "model_module_version": "2.0.0",
      "model_name": "LayoutModel",
      "state": {
       "_model_module": "@jupyter-widgets/base",
       "_model_module_version": "2.0.0",
       "_model_name": "LayoutModel",
       "_view_count": null,
       "_view_module": "@jupyter-widgets/base",
       "_view_module_version": "2.0.0",
       "_view_name": "LayoutView",
       "align_content": null,
       "align_items": null,
       "align_self": null,
       "border_bottom": null,
       "border_left": null,
       "border_right": null,
       "border_top": null,
       "bottom": null,
       "display": null,
       "flex": null,
       "flex_flow": null,
       "grid_area": null,
       "grid_auto_columns": null,
       "grid_auto_flow": null,
       "grid_auto_rows": null,
       "grid_column": null,
       "grid_gap": null,
       "grid_row": null,
       "grid_template_areas": null,
       "grid_template_columns": null,
       "grid_template_rows": null,
       "height": null,
       "justify_content": null,
       "justify_items": null,
       "left": null,
       "margin": null,
       "max_height": null,
       "max_width": null,
       "min_height": null,
       "min_width": null,
       "object_fit": null,
       "object_position": null,
       "order": null,
       "overflow": null,
       "padding": null,
       "right": null,
       "top": null,
       "visibility": null,
       "width": null
      }
     },
     "898e058bcf90416880e3102e7038823b": {
      "model_module": "@jupyter-widgets/controls",
      "model_module_version": "2.0.0",
      "model_name": "HTMLModel",
      "state": {
       "_dom_classes": [],
       "_model_module": "@jupyter-widgets/controls",
       "_model_module_version": "2.0.0",
       "_model_name": "HTMLModel",
       "_view_count": null,
       "_view_module": "@jupyter-widgets/controls",
       "_view_module_version": "2.0.0",
       "_view_name": "HTMLView",
       "description": "",
       "description_allow_html": false,
       "layout": "IPY_MODEL_6a75a8c2fb3c48dc8c0175ef7a4a9a6b",
       "placeholder": "​",
       "style": "IPY_MODEL_c9b5f1961705477cb847b48b87b2d554",
       "tabbable": null,
       "tooltip": null,
       "value": "100%"
      }
     },
     "af82050e6769410fa6e5552963f3efdb": {
      "model_module": "@jupyter-widgets/base",
      "model_module_version": "2.0.0",
      "model_name": "LayoutModel",
      "state": {
       "_model_module": "@jupyter-widgets/base",
       "_model_module_version": "2.0.0",
       "_model_name": "LayoutModel",
       "_view_count": null,
       "_view_module": "@jupyter-widgets/base",
       "_view_module_version": "2.0.0",
       "_view_name": "LayoutView",
       "align_content": null,
       "align_items": null,
       "align_self": null,
       "border_bottom": null,
       "border_left": null,
       "border_right": null,
       "border_top": null,
       "bottom": null,
       "display": null,
       "flex": null,
       "flex_flow": null,
       "grid_area": null,
       "grid_auto_columns": null,
       "grid_auto_flow": null,
       "grid_auto_rows": null,
       "grid_column": null,
       "grid_gap": null,
       "grid_row": null,
       "grid_template_areas": null,
       "grid_template_columns": null,
       "grid_template_rows": null,
       "height": null,
       "justify_content": null,
       "justify_items": null,
       "left": null,
       "margin": null,
       "max_height": null,
       "max_width": null,
       "min_height": null,
       "min_width": null,
       "object_fit": null,
       "object_position": null,
       "order": null,
       "overflow": null,
       "padding": null,
       "right": null,
       "top": null,
       "visibility": null,
       "width": null
      }
     },
     "c9b5f1961705477cb847b48b87b2d554": {
      "model_module": "@jupyter-widgets/controls",
      "model_module_version": "2.0.0",
      "model_name": "HTMLStyleModel",
      "state": {
       "_model_module": "@jupyter-widgets/controls",
       "_model_module_version": "2.0.0",
       "_model_name": "HTMLStyleModel",
       "_view_count": null,
       "_view_module": "@jupyter-widgets/base",
       "_view_module_version": "2.0.0",
       "_view_name": "StyleView",
       "background": null,
       "description_width": "",
       "font_size": null,
       "text_color": null
      }
     },
     "e1cc9502c5854e1b92a09cacff544b67": {
      "model_module": "@jupyter-widgets/controls",
      "model_module_version": "2.0.0",
      "model_name": "FloatProgressModel",
      "state": {
       "_dom_classes": [],
       "_model_module": "@jupyter-widgets/controls",
       "_model_module_version": "2.0.0",
       "_model_name": "FloatProgressModel",
       "_view_count": null,
       "_view_module": "@jupyter-widgets/controls",
       "_view_module_version": "2.0.0",
       "_view_name": "ProgressView",
       "bar_style": "success",
       "description": "",
       "description_allow_html": false,
       "layout": "IPY_MODEL_1beb06b81931438d9247cf2343249884",
       "max": 564.0,
       "min": 0.0,
       "orientation": "horizontal",
       "style": "IPY_MODEL_6306b52f6b814d278b17f15e032e53cf",
       "tabbable": null,
       "tooltip": null,
       "value": 564.0
      }
     }
    },
    "version_major": 2,
    "version_minor": 0
   }
  }
 },
 "nbformat": 4,
 "nbformat_minor": 2
}
